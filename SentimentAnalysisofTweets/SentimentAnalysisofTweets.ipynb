{
  "nbformat": 4,
  "nbformat_minor": 0,
  "metadata": {
    "colab": {
      "name": "SentimentAnalysisofTweets.ipynb",
      "provenance": [],
      "collapsed_sections": []
    },
    "kernelspec": {
      "name": "python3",
      "display_name": "Python 3"
    }
  },
  "cells": [
    {
      "cell_type": "code",
      "metadata": {
        "id": "MWe5LekvY2ov",
        "colab_type": "code",
        "colab": {
          "base_uri": "https://localhost:8080/",
          "height": 90
        },
        "outputId": "2187e05f-7a64-4237-c114-28d316a9ec26"
      },
      "source": [
        "# 1. Importing Packages and Libraries\n",
        "!pip install emoji\n",
        "!pip install --upgrade plotly"
      ],
      "execution_count": 1,
      "outputs": [
        {
          "output_type": "stream",
          "text": [
            "Requirement already satisfied: emoji in /usr/local/lib/python3.6/dist-packages (0.5.4)\n",
            "Requirement already up-to-date: plotly in /usr/local/lib/python3.6/dist-packages (4.8.2)\n",
            "Requirement already satisfied, skipping upgrade: six in /usr/local/lib/python3.6/dist-packages (from plotly) (1.12.0)\n",
            "Requirement already satisfied, skipping upgrade: retrying>=1.3.3 in /usr/local/lib/python3.6/dist-packages (from plotly) (1.3.3)\n"
          ],
          "name": "stdout"
        }
      ]
    },
    {
      "cell_type": "code",
      "metadata": {
        "id": "vRZ9-CA4TUVP",
        "colab_type": "code",
        "colab": {
          "base_uri": "https://localhost:8080/",
          "height": 110
        },
        "outputId": "4b1844cc-24a3-4d50-baf5-55f32ed8e695"
      },
      "source": [
        "import re\n",
        "import string\n",
        "import numpy as np\n",
        "import random\n",
        "import pandas as pd\n",
        "import matplotlib.pyplot as plt\n",
        "import seaborn as sns\n",
        "%matplotlib inline \n",
        "from plotly import graph_objs as go\n",
        "import plotly.express as px\n",
        "import plotly.figure_factory as ff\n",
        "from collections import Counter\n",
        "\n",
        "from PIL import Image\n",
        "from wordcloud import WordCloud, STOPWORDS, ImageColorGenerator\n",
        "\n",
        "import nltk\n",
        "from nltk.corpus import stopwords\n",
        "nltk.download('stopwords')\n",
        "\n",
        "from tqdm import tqdm\n",
        "import os\n",
        "import nltk\n",
        "import spacy\n",
        "import random\n",
        "from spacy.util import compounding\n",
        "from spacy.util import minibatch\n",
        "\n",
        "import warnings\n",
        "warnings.filterwarnings(\"ignore\")\n",
        "\n"
      ],
      "execution_count": 2,
      "outputs": [
        {
          "output_type": "stream",
          "text": [
            "/usr/local/lib/python3.6/dist-packages/statsmodels/tools/_testing.py:19: FutureWarning: pandas.util.testing is deprecated. Use the functions in the public API at pandas.testing instead.\n",
            "  import pandas.util.testing as tm\n"
          ],
          "name": "stderr"
        },
        {
          "output_type": "stream",
          "text": [
            "[nltk_data] Downloading package stopwords to /root/nltk_data...\n",
            "[nltk_data]   Package stopwords is already up-to-date!\n"
          ],
          "name": "stdout"
        }
      ]
    },
    {
      "cell_type": "code",
      "metadata": {
        "id": "h7fnV3AZUEnj",
        "colab_type": "code",
        "colab": {}
      },
      "source": [
        "import os\n",
        "for dirname, _, filenames in os.walk('/kaggle/input'):\n",
        "  for filename in filenames:\n",
        "    print(os.path.join(dirname, filename))\n",
        "\n",
        "# Any results you write to the current directory are saved as output."
      ],
      "execution_count": 3,
      "outputs": []
    },
    {
      "cell_type": "code",
      "metadata": {
        "id": "mu0yPFfLXUos",
        "colab_type": "code",
        "colab": {}
      },
      "source": [
        "def random_colours(number_of_colors):\n",
        "  '''\n",
        "  Simple function for random colours generation.\n",
        "  Input:\n",
        "    number_of_colors - integer value indicating the number of colours which are going to be generated.\n",
        "  Output:\n",
        "    Color in the following format: ['#SEF54S] '''\n",
        "  colors = []\n",
        "  for i in range(number_of_colors):\n",
        "    colors.append('#'+\"\".join([random.choice('0123456789ABCDEF')for j in range(6)]))\n",
        "  return colors\n"
      ],
      "execution_count": 4,
      "outputs": []
    },
    {
      "cell_type": "code",
      "metadata": {
        "id": "Vffv55IBYwka",
        "colab_type": "code",
        "colab": {}
      },
      "source": [
        "# 2. Reading The Data"
      ],
      "execution_count": 5,
      "outputs": []
    },
    {
      "cell_type": "code",
      "metadata": {
        "id": "N1rv2IPHZAVY",
        "colab_type": "code",
        "colab": {}
      },
      "source": [
        "import pandas as pd\n",
        "import numpy as np\n",
        "train = pd.read_csv('/content/drive/My Drive/SentimentAnalysisofTweets/TrumpDataset/trumptweets.csv')"
      ],
      "execution_count": 6,
      "outputs": []
    },
    {
      "cell_type": "code",
      "metadata": {
        "id": "h7OUU5M3ZTzJ",
        "colab_type": "code",
        "colab": {
          "base_uri": "https://localhost:8080/",
          "height": 597
        },
        "outputId": "968039dd-c9e6-4010-b2a1-58184d37fd18"
      },
      "source": [
        "train"
      ],
      "execution_count": 7,
      "outputs": [
        {
          "output_type": "execute_result",
          "data": {
            "text/html": [
              "<div>\n",
              "<style scoped>\n",
              "    .dataframe tbody tr th:only-of-type {\n",
              "        vertical-align: middle;\n",
              "    }\n",
              "\n",
              "    .dataframe tbody tr th {\n",
              "        vertical-align: top;\n",
              "    }\n",
              "\n",
              "    .dataframe thead th {\n",
              "        text-align: right;\n",
              "    }\n",
              "</style>\n",
              "<table border=\"1\" class=\"dataframe\">\n",
              "  <thead>\n",
              "    <tr style=\"text-align: right;\">\n",
              "      <th></th>\n",
              "      <th>id</th>\n",
              "      <th>link</th>\n",
              "      <th>content</th>\n",
              "      <th>date</th>\n",
              "      <th>retweets</th>\n",
              "      <th>favorites</th>\n",
              "      <th>mentions</th>\n",
              "      <th>hashtags</th>\n",
              "      <th>geo</th>\n",
              "    </tr>\n",
              "  </thead>\n",
              "  <tbody>\n",
              "    <tr>\n",
              "      <th>0</th>\n",
              "      <td>1698308935</td>\n",
              "      <td>https://twitter.com/realDonaldTrump/status/169...</td>\n",
              "      <td>Be sure to tune in and watch Donald Trump on L...</td>\n",
              "      <td>2009-05-04 20:54:25</td>\n",
              "      <td>500</td>\n",
              "      <td>868</td>\n",
              "      <td>NaN</td>\n",
              "      <td>NaN</td>\n",
              "      <td>NaN</td>\n",
              "    </tr>\n",
              "    <tr>\n",
              "      <th>1</th>\n",
              "      <td>1701461182</td>\n",
              "      <td>https://twitter.com/realDonaldTrump/status/170...</td>\n",
              "      <td>Donald Trump will be appearing on The View tom...</td>\n",
              "      <td>2009-05-05 03:00:10</td>\n",
              "      <td>33</td>\n",
              "      <td>273</td>\n",
              "      <td>NaN</td>\n",
              "      <td>NaN</td>\n",
              "      <td>NaN</td>\n",
              "    </tr>\n",
              "    <tr>\n",
              "      <th>2</th>\n",
              "      <td>1737479987</td>\n",
              "      <td>https://twitter.com/realDonaldTrump/status/173...</td>\n",
              "      <td>Donald Trump reads Top Ten Financial Tips on L...</td>\n",
              "      <td>2009-05-08 15:38:08</td>\n",
              "      <td>12</td>\n",
              "      <td>18</td>\n",
              "      <td>NaN</td>\n",
              "      <td>NaN</td>\n",
              "      <td>NaN</td>\n",
              "    </tr>\n",
              "    <tr>\n",
              "      <th>3</th>\n",
              "      <td>1741160716</td>\n",
              "      <td>https://twitter.com/realDonaldTrump/status/174...</td>\n",
              "      <td>New Blog Post: Celebrity Apprentice Finale and...</td>\n",
              "      <td>2009-05-08 22:40:15</td>\n",
              "      <td>11</td>\n",
              "      <td>24</td>\n",
              "      <td>NaN</td>\n",
              "      <td>NaN</td>\n",
              "      <td>NaN</td>\n",
              "    </tr>\n",
              "    <tr>\n",
              "      <th>4</th>\n",
              "      <td>1773561338</td>\n",
              "      <td>https://twitter.com/realDonaldTrump/status/177...</td>\n",
              "      <td>\"My persona will never be that of a wallflower...</td>\n",
              "      <td>2009-05-12 16:07:28</td>\n",
              "      <td>1399</td>\n",
              "      <td>1965</td>\n",
              "      <td>NaN</td>\n",
              "      <td>NaN</td>\n",
              "      <td>NaN</td>\n",
              "    </tr>\n",
              "    <tr>\n",
              "      <th>...</th>\n",
              "      <td>...</td>\n",
              "      <td>...</td>\n",
              "      <td>...</td>\n",
              "      <td>...</td>\n",
              "      <td>...</td>\n",
              "      <td>...</td>\n",
              "      <td>...</td>\n",
              "      <td>...</td>\n",
              "      <td>...</td>\n",
              "    </tr>\n",
              "    <tr>\n",
              "      <th>41117</th>\n",
              "      <td>1218962544372670467</td>\n",
              "      <td>https://twitter.com/realDonaldTrump/status/121...</td>\n",
              "      <td>I have never seen the Republican Party as Stro...</td>\n",
              "      <td>2020-01-19 19:24:52</td>\n",
              "      <td>32620</td>\n",
              "      <td>213817</td>\n",
              "      <td>NaN</td>\n",
              "      <td>NaN</td>\n",
              "      <td>NaN</td>\n",
              "    </tr>\n",
              "    <tr>\n",
              "      <th>41118</th>\n",
              "      <td>1219004689716412416</td>\n",
              "      <td>https://twitter.com/realDonaldTrump/status/121...</td>\n",
              "      <td>Now Mini Mike Bloomberg is critical of Jack Wi...</td>\n",
              "      <td>2020-01-19 22:12:20</td>\n",
              "      <td>36239</td>\n",
              "      <td>149571</td>\n",
              "      <td>NaN</td>\n",
              "      <td>NaN</td>\n",
              "      <td>NaN</td>\n",
              "    </tr>\n",
              "    <tr>\n",
              "      <th>41119</th>\n",
              "      <td>1219053709428248576</td>\n",
              "      <td>https://twitter.com/realDonaldTrump/status/121...</td>\n",
              "      <td>I was thrilled to be back in the Great State o...</td>\n",
              "      <td>2020-01-20 01:27:07</td>\n",
              "      <td>16588</td>\n",
              "      <td>66944</td>\n",
              "      <td>NaN</td>\n",
              "      <td>#</td>\n",
              "      <td>NaN</td>\n",
              "    </tr>\n",
              "    <tr>\n",
              "      <th>41120</th>\n",
              "      <td>1219066007731310593</td>\n",
              "      <td>https://twitter.com/realDonaldTrump/status/121...</td>\n",
              "      <td>“In the House, the President got less due proc...</td>\n",
              "      <td>2020-01-20 02:16:00</td>\n",
              "      <td>20599</td>\n",
              "      <td>81921</td>\n",
              "      <td>@ @ @</td>\n",
              "      <td>NaN</td>\n",
              "      <td>NaN</td>\n",
              "    </tr>\n",
              "    <tr>\n",
              "      <th>41121</th>\n",
              "      <td>1219076533354037249</td>\n",
              "      <td>https://twitter.com/realDonaldTrump/status/121...</td>\n",
              "      <td>A great show! Check it out tonight at 9pm. @ F...</td>\n",
              "      <td>2020-01-20 02:57:49</td>\n",
              "      <td>7947</td>\n",
              "      <td>34902</td>\n",
              "      <td>@</td>\n",
              "      <td>NaN</td>\n",
              "      <td>NaN</td>\n",
              "    </tr>\n",
              "  </tbody>\n",
              "</table>\n",
              "<p>41122 rows × 9 columns</p>\n",
              "</div>"
            ],
            "text/plain": [
              "                        id  ... geo\n",
              "0               1698308935  ... NaN\n",
              "1               1701461182  ... NaN\n",
              "2               1737479987  ... NaN\n",
              "3               1741160716  ... NaN\n",
              "4               1773561338  ... NaN\n",
              "...                    ...  ...  ..\n",
              "41117  1218962544372670467  ... NaN\n",
              "41118  1219004689716412416  ... NaN\n",
              "41119  1219053709428248576  ... NaN\n",
              "41120  1219066007731310593  ... NaN\n",
              "41121  1219076533354037249  ... NaN\n",
              "\n",
              "[41122 rows x 9 columns]"
            ]
          },
          "metadata": {
            "tags": []
          },
          "execution_count": 7
        }
      ]
    },
    {
      "cell_type": "code",
      "metadata": {
        "id": "-xztnKGhZWHO",
        "colab_type": "code",
        "colab": {
          "base_uri": "https://localhost:8080/",
          "height": 35
        },
        "outputId": "a5e82750-688f-4335-ff58-f3ab38f53b32"
      },
      "source": [
        "print(train.shape)"
      ],
      "execution_count": 8,
      "outputs": [
        {
          "output_type": "stream",
          "text": [
            "(41122, 9)\n"
          ],
          "name": "stdout"
        }
      ]
    },
    {
      "cell_type": "code",
      "metadata": {
        "id": "Oj9eyP7PZyhZ",
        "colab_type": "code",
        "colab": {}
      },
      "source": [
        "# In That We are going to use 27486 tweets as train set and 3535 tweets as a test set."
      ],
      "execution_count": 9,
      "outputs": []
    },
    {
      "cell_type": "code",
      "metadata": {
        "id": "OsAShbtNZlj_",
        "colab_type": "code",
        "colab": {
          "base_uri": "https://localhost:8080/",
          "height": 300
        },
        "outputId": "4817fa52-a5de-4953-c79a-b8eb40185797"
      },
      "source": [
        "train.describe()"
      ],
      "execution_count": 10,
      "outputs": [
        {
          "output_type": "execute_result",
          "data": {
            "text/html": [
              "<div>\n",
              "<style scoped>\n",
              "    .dataframe tbody tr th:only-of-type {\n",
              "        vertical-align: middle;\n",
              "    }\n",
              "\n",
              "    .dataframe tbody tr th {\n",
              "        vertical-align: top;\n",
              "    }\n",
              "\n",
              "    .dataframe thead th {\n",
              "        text-align: right;\n",
              "    }\n",
              "</style>\n",
              "<table border=\"1\" class=\"dataframe\">\n",
              "  <thead>\n",
              "    <tr style=\"text-align: right;\">\n",
              "      <th></th>\n",
              "      <th>id</th>\n",
              "      <th>retweets</th>\n",
              "      <th>favorites</th>\n",
              "      <th>geo</th>\n",
              "    </tr>\n",
              "  </thead>\n",
              "  <tbody>\n",
              "    <tr>\n",
              "      <th>count</th>\n",
              "      <td>4.112200e+04</td>\n",
              "      <td>41122.000000</td>\n",
              "      <td>41122.000000</td>\n",
              "      <td>0.0</td>\n",
              "    </tr>\n",
              "    <tr>\n",
              "      <th>mean</th>\n",
              "      <td>6.088909e+17</td>\n",
              "      <td>5455.590657</td>\n",
              "      <td>22356.899105</td>\n",
              "      <td>NaN</td>\n",
              "    </tr>\n",
              "    <tr>\n",
              "      <th>std</th>\n",
              "      <td>3.027946e+17</td>\n",
              "      <td>10130.076661</td>\n",
              "      <td>41501.859711</td>\n",
              "      <td>NaN</td>\n",
              "    </tr>\n",
              "    <tr>\n",
              "      <th>min</th>\n",
              "      <td>1.698309e+09</td>\n",
              "      <td>0.000000</td>\n",
              "      <td>0.000000</td>\n",
              "      <td>NaN</td>\n",
              "    </tr>\n",
              "    <tr>\n",
              "      <th>25%</th>\n",
              "      <td>3.549428e+17</td>\n",
              "      <td>25.000000</td>\n",
              "      <td>28.000000</td>\n",
              "      <td>NaN</td>\n",
              "    </tr>\n",
              "    <tr>\n",
              "      <th>50%</th>\n",
              "      <td>5.609149e+17</td>\n",
              "      <td>291.000000</td>\n",
              "      <td>247.000000</td>\n",
              "      <td>NaN</td>\n",
              "    </tr>\n",
              "    <tr>\n",
              "      <th>75%</th>\n",
              "      <td>7.941218e+17</td>\n",
              "      <td>8778.000000</td>\n",
              "      <td>32970.750000</td>\n",
              "      <td>NaN</td>\n",
              "    </tr>\n",
              "    <tr>\n",
              "      <th>max</th>\n",
              "      <td>1.219077e+18</td>\n",
              "      <td>309892.000000</td>\n",
              "      <td>857678.000000</td>\n",
              "      <td>NaN</td>\n",
              "    </tr>\n",
              "  </tbody>\n",
              "</table>\n",
              "</div>"
            ],
            "text/plain": [
              "                 id       retweets      favorites  geo\n",
              "count  4.112200e+04   41122.000000   41122.000000  0.0\n",
              "mean   6.088909e+17    5455.590657   22356.899105  NaN\n",
              "std    3.027946e+17   10130.076661   41501.859711  NaN\n",
              "min    1.698309e+09       0.000000       0.000000  NaN\n",
              "25%    3.549428e+17      25.000000      28.000000  NaN\n",
              "50%    5.609149e+17     291.000000     247.000000  NaN\n",
              "75%    7.941218e+17    8778.000000   32970.750000  NaN\n",
              "max    1.219077e+18  309892.000000  857678.000000  NaN"
            ]
          },
          "metadata": {
            "tags": []
          },
          "execution_count": 10
        }
      ]
    },
    {
      "cell_type": "code",
      "metadata": {
        "id": "EExnhxprZrtk",
        "colab_type": "code",
        "colab": {
          "base_uri": "https://localhost:8080/",
          "height": 201
        },
        "outputId": "70edfa2d-db55-4017-85b1-c3e5434a7dc4"
      },
      "source": [
        "train.isna().sum()\n",
        "\n",
        "# Geo column has all values as nulls, hashtagss have lot of null values, mentions also have lot of null values."
      ],
      "execution_count": 11,
      "outputs": [
        {
          "output_type": "execute_result",
          "data": {
            "text/plain": [
              "id               0\n",
              "link             0\n",
              "content          0\n",
              "date             0\n",
              "retweets         0\n",
              "favorites        0\n",
              "mentions     18655\n",
              "hashtags     35312\n",
              "geo          41122\n",
              "dtype: int64"
            ]
          },
          "metadata": {
            "tags": []
          },
          "execution_count": 11
        }
      ]
    },
    {
      "cell_type": "code",
      "metadata": {
        "id": "yF75jpNCaKLt",
        "colab_type": "code",
        "colab": {}
      },
      "source": [
        "# 3. Handling null values"
      ],
      "execution_count": 12,
      "outputs": []
    },
    {
      "cell_type": "code",
      "metadata": {
        "id": "6ljoOc79a2xZ",
        "colab_type": "code",
        "colab": {
          "base_uri": "https://localhost:8080/",
          "height": 660
        },
        "outputId": "f2f92ba7-adad-400c-ee0e-dd076fb39219"
      },
      "source": [
        "train['hashtags'].unique()"
      ],
      "execution_count": 13,
      "outputs": [
        {
          "output_type": "execute_result",
          "data": {
            "text/plain": [
              "array([nan, '#', '#1', '# #', '#1 #', '# #1', '#01 #', '# #01', '# #Miss',\n",
              "       '#10', '#103', '#2', '# # #', '#2013', '#3', '#CPAC2013', '#2016',\n",
              "       '#19', '#for #', '# # # # #', '#9', '#sthash', '#2016 #',\n",
              "       '# # # #', '# #2016', '#Oscars', '#2 #1', '#by', '# #2016 #',\n",
              "       '#keepfighting #PresidentTrump', '#NothingWrongWithThat', '#No #',\n",
              "       '#Donald', '# #sp', '#ixzz38mkekMMd', '#ixzz39oaWl9uE', '#sp',\n",
              "       '#ixzz3EinGXgfV', '#TrumpForPresident', '#empirebuilding #',\n",
              "       '#ixzz3FTIqRA2i', '#comments', '#12 #', '#ixzz3HY6z7b8R',\n",
              "       '#disqus_thread', '#ixzz3HdgLJeEa', '#trumpforpresident',\n",
              "       '#ixzz3I1Wq7WB1', '#t #', '#ixzz3IHR8pjc1', '#ixzz3IHQHR1Wf',\n",
              "       '#ixzz3J3cUHFwI', '#pg29', '#pga', '# #1 #', '#ixzz3Lc3KeGLq',\n",
              "       '# # #2016 #', '#8 #', '# #2016 # # # # # #', '#ixzz3Nn4nJGET',\n",
              "       '# # # # # # #', '# # #1 #1', '#ixzz3OGoWg0rh', '#239016885',\n",
              "       '#ixzz3P0Lgk7Io', '#emHE2Xd0wJ6tx2kl', '#RIVERS', '#storylink',\n",
              "       '#56821933', '# # # # # #', '#5 #', '#ixzz3QHA99Ifw',\n",
              "       '#ixzz3QQF1tUeh', '#ixzz3QRECEamr', '#1 #1',\n",
              "       '#Hurryback #NewCast #', '#ixzz3S8g2xxOW', '#LPe8dWdTrH7y27xq',\n",
              "       '#ixzz3SEfZFCwY', '#sthash # #', '#EUiH3wXUhwmrqSJp',\n",
              "       '#qSWVHe3fbfb1tO7l', '#ixzz3VPH5oE2P', '#ixzz3W4Dw01b6',\n",
              "       '#ixzz3XUPNxCIg', '# #new', '#negotiation', '# #view',\n",
              "       '#JK507oKDvjW31S7m', '#Trump2016', '# # # # # # # #',\n",
              "       '#ixzz3a1ZODT74', '#7uP5dAxcmxozAwL4', '#01tj2erBe7jXdt91', '#7',\n",
              "       '#ixzz3eqKHXxVT', '#ProudAmerican #NoLying', '#1 # #',\n",
              "       '#ixzz3fFTjX3Z0', '#ixzz3fJ3px6Eq', '#ixzz3fJJOYdPa',\n",
              "       '#ixzz3fK2EBQOt', '#ixzz3fKvUgJDb', '#45 #', '#ixzz3fmiT7qi2',\n",
              "       '#ixzz3gA4VP4cz', '#5ojKUvsh6iPD4VpU', '#TRUTH', '#ixzz3gRZM8wQn',\n",
              "       '#1 #1 #2', '#1 #17', '# #TeamTrump #usa', '#1http', '#TRUMP',\n",
              "       '#28 #', '#via', '#here', '#poll', '#2 # #', '#of',\n",
              "       '# # #YYG0amMURFhrzi0B', '#MAKE', '#ISIS # #',\n",
              "       '#yet #d739c517b32b', '#36c1736268da', '#ixzz3zuAXvW83',\n",
              "       '#ixzz41iZ9u7clhttp', '# #I', '# #st_refDomain', '#of #',\n",
              "       '#ixzz4NJ5E8GFG', '#ixzz4NOfCXizH', '#ixzz4NURlQGZ7',\n",
              "       '# #ixzz4NYWeNY7o', '#ixzz4NvVWFrs', '# #ixzz4NxMX6wTv',\n",
              "       '# # #ixzz4O1FJvi7f', '#ixzz4O6kO7znL', '#ixzz4OnJE8InA',\n",
              "       '#ixzz4P3fHzuxE', '#2020', '# #2020'], dtype=object)"
            ]
          },
          "metadata": {
            "tags": []
          },
          "execution_count": 13
        }
      ]
    },
    {
      "cell_type": "code",
      "metadata": {
        "id": "y0K0EnVAa61d",
        "colab_type": "code",
        "colab": {
          "base_uri": "https://localhost:8080/",
          "height": 54
        },
        "outputId": "63acb17d-7e37-4cfc-f8a8-3fe252e93788"
      },
      "source": [
        "train['mentions'].unique()"
      ],
      "execution_count": 14,
      "outputs": [
        {
          "output_type": "execute_result",
          "data": {
            "text/plain": [
              "array([nan, '@', '@9pm', ..., '@ @Jason2CD @ @', '@FEMA_Brock @ @',\n",
              "       '@JennaEllisRives'], dtype=object)"
            ]
          },
          "metadata": {
            "tags": []
          },
          "execution_count": 14
        }
      ]
    },
    {
      "cell_type": "code",
      "metadata": {
        "id": "axxbQDASbSJt",
        "colab_type": "code",
        "colab": {}
      },
      "source": [
        "# Hashtags: This column does not have something very significant for us to analyse. We have mostly words like #ixzz4 etc which make no sense and we wont be able to analyse their sentiment. So we can get rid of this column.\n",
        "# Mentions: too does not have anything significant for us to analyse. Hence we can do away with that too. Let us drop columns which dont have any significantly useful information.\n",
        "# Geo: Anyways does not have any value, all values are null\n",
        "# Mentions: Usually mention other person and we wont really get any sentiment by analysing that"
      ],
      "execution_count": 15,
      "outputs": []
    },
    {
      "cell_type": "code",
      "metadata": {
        "id": "XQUTrPQ3coP5",
        "colab_type": "code",
        "colab": {}
      },
      "source": [
        "train = train.drop(['link','mentions','hashtags','geo'],axis=1) # Here axis=0 means remove row or axis=1 means remove column\n"
      ],
      "execution_count": 16,
      "outputs": []
    },
    {
      "cell_type": "code",
      "metadata": {
        "id": "S1d52bP-dUmx",
        "colab_type": "code",
        "colab": {}
      },
      "source": [
        "# 4. EDA: Exploratory Data Analysis"
      ],
      "execution_count": 17,
      "outputs": []
    },
    {
      "cell_type": "code",
      "metadata": {
        "id": "s-OjJsSZdX8K",
        "colab_type": "code",
        "colab": {
          "base_uri": "https://localhost:8080/",
          "height": 206
        },
        "outputId": "7b212d62-7232-4a95-faeb-7b61d8e6c9eb"
      },
      "source": [
        "train.head()"
      ],
      "execution_count": 18,
      "outputs": [
        {
          "output_type": "execute_result",
          "data": {
            "text/html": [
              "<div>\n",
              "<style scoped>\n",
              "    .dataframe tbody tr th:only-of-type {\n",
              "        vertical-align: middle;\n",
              "    }\n",
              "\n",
              "    .dataframe tbody tr th {\n",
              "        vertical-align: top;\n",
              "    }\n",
              "\n",
              "    .dataframe thead th {\n",
              "        text-align: right;\n",
              "    }\n",
              "</style>\n",
              "<table border=\"1\" class=\"dataframe\">\n",
              "  <thead>\n",
              "    <tr style=\"text-align: right;\">\n",
              "      <th></th>\n",
              "      <th>id</th>\n",
              "      <th>content</th>\n",
              "      <th>date</th>\n",
              "      <th>retweets</th>\n",
              "      <th>favorites</th>\n",
              "    </tr>\n",
              "  </thead>\n",
              "  <tbody>\n",
              "    <tr>\n",
              "      <th>0</th>\n",
              "      <td>1698308935</td>\n",
              "      <td>Be sure to tune in and watch Donald Trump on L...</td>\n",
              "      <td>2009-05-04 20:54:25</td>\n",
              "      <td>500</td>\n",
              "      <td>868</td>\n",
              "    </tr>\n",
              "    <tr>\n",
              "      <th>1</th>\n",
              "      <td>1701461182</td>\n",
              "      <td>Donald Trump will be appearing on The View tom...</td>\n",
              "      <td>2009-05-05 03:00:10</td>\n",
              "      <td>33</td>\n",
              "      <td>273</td>\n",
              "    </tr>\n",
              "    <tr>\n",
              "      <th>2</th>\n",
              "      <td>1737479987</td>\n",
              "      <td>Donald Trump reads Top Ten Financial Tips on L...</td>\n",
              "      <td>2009-05-08 15:38:08</td>\n",
              "      <td>12</td>\n",
              "      <td>18</td>\n",
              "    </tr>\n",
              "    <tr>\n",
              "      <th>3</th>\n",
              "      <td>1741160716</td>\n",
              "      <td>New Blog Post: Celebrity Apprentice Finale and...</td>\n",
              "      <td>2009-05-08 22:40:15</td>\n",
              "      <td>11</td>\n",
              "      <td>24</td>\n",
              "    </tr>\n",
              "    <tr>\n",
              "      <th>4</th>\n",
              "      <td>1773561338</td>\n",
              "      <td>\"My persona will never be that of a wallflower...</td>\n",
              "      <td>2009-05-12 16:07:28</td>\n",
              "      <td>1399</td>\n",
              "      <td>1965</td>\n",
              "    </tr>\n",
              "  </tbody>\n",
              "</table>\n",
              "</div>"
            ],
            "text/plain": [
              "           id  ... favorites\n",
              "0  1698308935  ...       868\n",
              "1  1701461182  ...       273\n",
              "2  1737479987  ...        18\n",
              "3  1741160716  ...        24\n",
              "4  1773561338  ...      1965\n",
              "\n",
              "[5 rows x 5 columns]"
            ]
          },
          "metadata": {
            "tags": []
          },
          "execution_count": 18
        }
      ]
    },
    {
      "cell_type": "code",
      "metadata": {
        "id": "Wj5NAdTFdjt3",
        "colab_type": "code",
        "colab": {}
      },
      "source": [
        "# Let's look at the distribution of reviews in the train set"
      ],
      "execution_count": 19,
      "outputs": []
    },
    {
      "cell_type": "code",
      "metadata": {
        "id": "WuGZt0MqdyCl",
        "colab_type": "code",
        "colab": {}
      },
      "source": [
        "# 5. Cleaning the data\n",
        "\n",
        "# Let's first clean the data, remove stopwords etc and perform basic preprocessing"
      ],
      "execution_count": 20,
      "outputs": []
    },
    {
      "cell_type": "code",
      "metadata": {
        "id": "F_8yJFs0eBYH",
        "colab_type": "code",
        "colab": {}
      },
      "source": [
        "# Removing weird spaces\n",
        "def remove_spaces(text):\n",
        "  text = text.strip()\n",
        "  text = text.split()\n",
        "  return \" \".join(text)"
      ],
      "execution_count": 21,
      "outputs": []
    },
    {
      "cell_type": "code",
      "metadata": {
        "id": "_HSxjyhueVSm",
        "colab_type": "code",
        "colab": {}
      },
      "source": [
        "# Spelling Correction\n",
        "def edits1(word):\n",
        "  letters = 'abcdefghijklmnopqrstuvwxyz'\n",
        "  splits = [(word[:i],word[i:]) for i in range(len(word)+1)]\n",
        "  deletes = [L+R[1:] for L, R in splits if R]\n",
        "  transposes = [L+R[1] + R[0] + R[2:] for L, R in splits if len(R)>1]\n",
        "  replaces = [L+c+R[1:] for L, R in splits if R for c in letters]\n",
        "  inserts = [L+c+R for L,R in splits for c in letters]\n",
        "  return set(deletes + transposes + replaces + inserts)\n",
        "\n",
        "def edits2(word):\n",
        "  return(e2 for e1 in edits1(word) for e2 in edits1(e1))\n"
      ],
      "execution_count": 22,
      "outputs": []
    },
    {
      "cell_type": "code",
      "metadata": {
        "id": "bV336RiCgqU4",
        "colab_type": "code",
        "colab": {}
      },
      "source": [
        "# Contraction\n",
        "contraction = {'cause':'because',\n",
        "               'aint':'am not',\n",
        "               'aren\\'t': 'are not'}\n",
        "def mapping_replacer(x,dic):\n",
        "  for words in dic.keys():\n",
        "    if ' ' + words + ' ' in x:\n",
        "      x = x.replace(' '+ words +' ', ' '+dic[words]+' ' )\n",
        "  return x"
      ],
      "execution_count": 23,
      "outputs": []
    },
    {
      "cell_type": "code",
      "metadata": {
        "id": "szu73G_oheaZ",
        "colab_type": "code",
        "colab": {
          "base_uri": "https://localhost:8080/",
          "height": 54
        },
        "outputId": "db1d3728-6b5c-4abe-857f-91b25be97f40"
      },
      "source": [
        "# Stemming, lemmatisation and tokenization\n",
        "import nltk\n",
        "nltk.download('punkt')\n",
        "from nltk.tokenize import word_tokenize\n",
        "from nltk.stem.wordnet import WordNetLemmatizer\n",
        "from nltk.stem.lancaster import LancasterStemmer\n",
        "\n",
        "nltk.LancasterStemmer\n",
        "ls = LancasterStemmer()\n",
        "lem = WordNetLemmatizer()\n",
        "\n",
        "def lexicon_normalization(text):\n",
        "  words = word_tokenize(text)\n",
        "\n",
        "  # 1 - stemming\n",
        "  words_stem = [ls.stem(w) for w in words]\n",
        "\n",
        "  # 2 - Lemmatization\n",
        "  words_lem = [lem.lemmatize(w) for w in words_stem]\n",
        "  return words_lem\n",
        "  "
      ],
      "execution_count": 24,
      "outputs": [
        {
          "output_type": "stream",
          "text": [
            "[nltk_data] Downloading package punkt to /root/nltk_data...\n",
            "[nltk_data]   Package punkt is already up-to-date!\n"
          ],
          "name": "stdout"
        }
      ]
    },
    {
      "cell_type": "code",
      "metadata": {
        "id": "ULj7qUhNp2_T",
        "colab_type": "code",
        "colab": {}
      },
      "source": [
        ""
      ],
      "execution_count": 24,
      "outputs": []
    },
    {
      "cell_type": "code",
      "metadata": {
        "id": "V61GKfOKmh1a",
        "colab_type": "code",
        "colab": {}
      },
      "source": [
        "# Handling emojis\n",
        "import emoji\n",
        "import re\n",
        "# from emot.emo_unicode import UNICODE_EMO\n",
        "def convert_emojis(text):\n",
        "  for emot in emoji.UNICODE_EMOJI:\n",
        "    text = re.sub(r'('+emot+')', \"_\".join(emoji.UNICODE_EMOJI)[emot].replace(\",\",\"\").replace(\":\",\"\").split(), text)\n",
        "  return text"
      ],
      "execution_count": 25,
      "outputs": []
    },
    {
      "cell_type": "code",
      "metadata": {
        "id": "_H7w_69VpoWd",
        "colab_type": "code",
        "colab": {}
      },
      "source": [
        "# Removing links, brackets, numbers, punctuations etc..\n",
        "def clean_text(text):\n",
        "  \"\"\"\n",
        "    Make text lowercase, remove text in \n",
        "    square brackets, remove links,\n",
        "    remove punctuation and remove\n",
        "    words containing numbers. \n",
        "  \"\"\"\n",
        "  text = str(text).lower()\n",
        "  text = re.sub('\\[.*?\\]','',text)\n",
        "  text = re.sub('https?://\\S+|www\\.\\S+','',text)\n",
        "  text = re.sub('<.*?>+','',text)\n",
        "  text = re.sub('[%s]' % re.escape(string.punctuation),'',text)\n",
        "  text = re.sub('\\n','',text)\n",
        "  text = re.sub('\\w*\\d\\w*','',text)\n",
        "  text = re.sub('\\'','',text)\n",
        "\n",
        "  return text"
      ],
      "execution_count": 26,
      "outputs": []
    },
    {
      "cell_type": "code",
      "metadata": {
        "id": "QqKsUB7iupZh",
        "colab_type": "code",
        "colab": {}
      },
      "source": [
        "# Handling stopwords\n",
        "from collections import Counter\n",
        "def remove_stopword(text):\n",
        "  stop_words = stopwords.words('english')\n",
        "  stopwords_dict = Counter(stop_words)\n",
        "  text = ' '.join([word for word in text.split() if word not in stopwords_dict])\n",
        "  return text"
      ],
      "execution_count": 27,
      "outputs": []
    },
    {
      "cell_type": "code",
      "metadata": {
        "id": "9rq5wKy4wX1Z",
        "colab_type": "code",
        "colab": {}
      },
      "source": [
        "# Tokenization\n",
        "def tokenise(text):\n",
        "  words = word_tokenize(text)\n",
        "  return words"
      ],
      "execution_count": 28,
      "outputs": []
    },
    {
      "cell_type": "code",
      "metadata": {
        "id": "dOXT7ABEwv-9",
        "colab_type": "code",
        "colab": {}
      },
      "source": [
        "# 6. Applying data cleaning steps to data "
      ],
      "execution_count": 29,
      "outputs": []
    },
    {
      "cell_type": "code",
      "metadata": {
        "id": "hIAyht8sw5h7",
        "colab_type": "code",
        "colab": {}
      },
      "source": [
        "# Cleaning regex expressions from data\n",
        "import re\n",
        "train['content'] = train['content'].map(lambda x: re.sub(r'\\W+',' ',x))\n",
        "train['content'] = train['content'].replace(r'\\W+',' ',regex=True)"
      ],
      "execution_count": 30,
      "outputs": []
    },
    {
      "cell_type": "code",
      "metadata": {
        "id": "M3ZVJPwUxkPH",
        "colab_type": "code",
        "colab": {
          "base_uri": "https://localhost:8080/",
          "height": 206
        },
        "outputId": "bdfbdb6c-709b-45d8-d0be-8f0fedc68f84"
      },
      "source": [
        "train.head()"
      ],
      "execution_count": 31,
      "outputs": [
        {
          "output_type": "execute_result",
          "data": {
            "text/html": [
              "<div>\n",
              "<style scoped>\n",
              "    .dataframe tbody tr th:only-of-type {\n",
              "        vertical-align: middle;\n",
              "    }\n",
              "\n",
              "    .dataframe tbody tr th {\n",
              "        vertical-align: top;\n",
              "    }\n",
              "\n",
              "    .dataframe thead th {\n",
              "        text-align: right;\n",
              "    }\n",
              "</style>\n",
              "<table border=\"1\" class=\"dataframe\">\n",
              "  <thead>\n",
              "    <tr style=\"text-align: right;\">\n",
              "      <th></th>\n",
              "      <th>id</th>\n",
              "      <th>content</th>\n",
              "      <th>date</th>\n",
              "      <th>retweets</th>\n",
              "      <th>favorites</th>\n",
              "    </tr>\n",
              "  </thead>\n",
              "  <tbody>\n",
              "    <tr>\n",
              "      <th>0</th>\n",
              "      <td>1698308935</td>\n",
              "      <td>Be sure to tune in and watch Donald Trump on L...</td>\n",
              "      <td>2009-05-04 20:54:25</td>\n",
              "      <td>500</td>\n",
              "      <td>868</td>\n",
              "    </tr>\n",
              "    <tr>\n",
              "      <th>1</th>\n",
              "      <td>1701461182</td>\n",
              "      <td>Donald Trump will be appearing on The View tom...</td>\n",
              "      <td>2009-05-05 03:00:10</td>\n",
              "      <td>33</td>\n",
              "      <td>273</td>\n",
              "    </tr>\n",
              "    <tr>\n",
              "      <th>2</th>\n",
              "      <td>1737479987</td>\n",
              "      <td>Donald Trump reads Top Ten Financial Tips on L...</td>\n",
              "      <td>2009-05-08 15:38:08</td>\n",
              "      <td>12</td>\n",
              "      <td>18</td>\n",
              "    </tr>\n",
              "    <tr>\n",
              "      <th>3</th>\n",
              "      <td>1741160716</td>\n",
              "      <td>New Blog Post Celebrity Apprentice Finale and ...</td>\n",
              "      <td>2009-05-08 22:40:15</td>\n",
              "      <td>11</td>\n",
              "      <td>24</td>\n",
              "    </tr>\n",
              "    <tr>\n",
              "      <th>4</th>\n",
              "      <td>1773561338</td>\n",
              "      <td>My persona will never be that of a wallflower...</td>\n",
              "      <td>2009-05-12 16:07:28</td>\n",
              "      <td>1399</td>\n",
              "      <td>1965</td>\n",
              "    </tr>\n",
              "  </tbody>\n",
              "</table>\n",
              "</div>"
            ],
            "text/plain": [
              "           id  ... favorites\n",
              "0  1698308935  ...       868\n",
              "1  1701461182  ...       273\n",
              "2  1737479987  ...        18\n",
              "3  1741160716  ...        24\n",
              "4  1773561338  ...      1965\n",
              "\n",
              "[5 rows x 5 columns]"
            ]
          },
          "metadata": {
            "tags": []
          },
          "execution_count": 31
        }
      ]
    },
    {
      "cell_type": "code",
      "metadata": {
        "id": "vctYc-C5xmSg",
        "colab_type": "code",
        "colab": {}
      },
      "source": [
        "train['content'] = train['content'].apply(lambda x: mapping_replacer(x,contraction))"
      ],
      "execution_count": 32,
      "outputs": []
    },
    {
      "cell_type": "code",
      "metadata": {
        "id": "PEN6EvDnyLa0",
        "colab_type": "code",
        "colab": {}
      },
      "source": [
        "train['content'] = train['content'].apply(lambda x: clean_text(x))"
      ],
      "execution_count": 33,
      "outputs": []
    },
    {
      "cell_type": "code",
      "metadata": {
        "id": "9o1srp5dyPcS",
        "colab_type": "code",
        "colab": {}
      },
      "source": [
        "train['content'] = train['content'].apply(lambda x: remove_stopword(x))"
      ],
      "execution_count": 34,
      "outputs": []
    },
    {
      "cell_type": "code",
      "metadata": {
        "id": "CH2zxBDu0KLc",
        "colab_type": "code",
        "colab": {
          "base_uri": "https://localhost:8080/",
          "height": 72
        },
        "outputId": "8d2f6b4a-54af-4fd4-e3ba-14fe54656f71"
      },
      "source": [
        "nltk.download('wordnet')"
      ],
      "execution_count": 35,
      "outputs": [
        {
          "output_type": "stream",
          "text": [
            "[nltk_data] Downloading package wordnet to /root/nltk_data...\n",
            "[nltk_data]   Package wordnet is already up-to-date!\n"
          ],
          "name": "stdout"
        },
        {
          "output_type": "execute_result",
          "data": {
            "text/plain": [
              "True"
            ]
          },
          "metadata": {
            "tags": []
          },
          "execution_count": 35
        }
      ]
    },
    {
      "cell_type": "code",
      "metadata": {
        "id": "pIoMV7ZWyTas",
        "colab_type": "code",
        "colab": {}
      },
      "source": [
        "train['content'] = train['content'].apply(lambda x: lexicon_normalization(x))"
      ],
      "execution_count": 36,
      "outputs": []
    },
    {
      "cell_type": "code",
      "metadata": {
        "id": "S69XD_f-yt6a",
        "colab_type": "code",
        "colab": {
          "base_uri": "https://localhost:8080/",
          "height": 206
        },
        "outputId": "293fac69-a4ff-4d6a-8a07-d89b10edcc22"
      },
      "source": [
        "train.head()"
      ],
      "execution_count": 37,
      "outputs": [
        {
          "output_type": "execute_result",
          "data": {
            "text/html": [
              "<div>\n",
              "<style scoped>\n",
              "    .dataframe tbody tr th:only-of-type {\n",
              "        vertical-align: middle;\n",
              "    }\n",
              "\n",
              "    .dataframe tbody tr th {\n",
              "        vertical-align: top;\n",
              "    }\n",
              "\n",
              "    .dataframe thead th {\n",
              "        text-align: right;\n",
              "    }\n",
              "</style>\n",
              "<table border=\"1\" class=\"dataframe\">\n",
              "  <thead>\n",
              "    <tr style=\"text-align: right;\">\n",
              "      <th></th>\n",
              "      <th>id</th>\n",
              "      <th>content</th>\n",
              "      <th>date</th>\n",
              "      <th>retweets</th>\n",
              "      <th>favorites</th>\n",
              "    </tr>\n",
              "  </thead>\n",
              "  <tbody>\n",
              "    <tr>\n",
              "      <th>0</th>\n",
              "      <td>1698308935</td>\n",
              "      <td>[sur, tun, watch, donald, trump, lat, night, d...</td>\n",
              "      <td>2009-05-04 20:54:25</td>\n",
              "      <td>500</td>\n",
              "      <td>868</td>\n",
              "    </tr>\n",
              "    <tr>\n",
              "      <th>1</th>\n",
              "      <td>1701461182</td>\n",
              "      <td>[donald, trump, appear, view, tomorrow, morn, ...</td>\n",
              "      <td>2009-05-05 03:00:10</td>\n",
              "      <td>33</td>\n",
              "      <td>273</td>\n",
              "    </tr>\n",
              "    <tr>\n",
              "      <th>2</th>\n",
              "      <td>1737479987</td>\n",
              "      <td>[donald, trump, read, top, ten, fin, tip, lat,...</td>\n",
              "      <td>2009-05-08 15:38:08</td>\n",
              "      <td>12</td>\n",
              "      <td>18</td>\n",
              "    </tr>\n",
              "    <tr>\n",
              "      <th>3</th>\n",
              "      <td>1741160716</td>\n",
              "      <td>[new, blog, post, celebr, appr, fin, lesson, l...</td>\n",
              "      <td>2009-05-08 22:40:15</td>\n",
              "      <td>11</td>\n",
              "      <td>24</td>\n",
              "    </tr>\n",
              "    <tr>\n",
              "      <th>4</th>\n",
              "      <td>1773561338</td>\n",
              "      <td>[person, nev, wallflow, rath, build, wal, clin...</td>\n",
              "      <td>2009-05-12 16:07:28</td>\n",
              "      <td>1399</td>\n",
              "      <td>1965</td>\n",
              "    </tr>\n",
              "  </tbody>\n",
              "</table>\n",
              "</div>"
            ],
            "text/plain": [
              "           id  ... favorites\n",
              "0  1698308935  ...       868\n",
              "1  1701461182  ...       273\n",
              "2  1737479987  ...        18\n",
              "3  1741160716  ...        24\n",
              "4  1773561338  ...      1965\n",
              "\n",
              "[5 rows x 5 columns]"
            ]
          },
          "metadata": {
            "tags": []
          },
          "execution_count": 37
        }
      ]
    },
    {
      "cell_type": "code",
      "metadata": {
        "id": "vkGxwzkez2oO",
        "colab_type": "code",
        "colab": {}
      },
      "source": [
        "# 7. Finding the most common words in out Text"
      ],
      "execution_count": 38,
      "outputs": []
    },
    {
      "cell_type": "code",
      "metadata": {
        "id": "xPto-Gvh0eyq",
        "colab_type": "code",
        "colab": {
          "base_uri": "https://localhost:8080/",
          "height": 468
        },
        "outputId": "9c72c8c3-b2af-42d0-8176-1704b4373fcc"
      },
      "source": [
        "top = Counter([item for sublist in train['content'] for item in sublist])\n",
        "temp = pd.DataFrame(top.most_common(20))\n",
        "temp.columns = ['Common_words','count']\n",
        "temp.style.background_gradient(cmap=\"Greens\")"
      ],
      "execution_count": 39,
      "outputs": [
        {
          "output_type": "execute_result",
          "data": {
            "text/html": [
              "<style  type=\"text/css\" >\n",
              "    #T_a27fd5b2_bab3_11ea_af41_0242ac1c0002row0_col1 {\n",
              "            background-color:  #00441b;\n",
              "            color:  #f1f1f1;\n",
              "        }    #T_a27fd5b2_bab3_11ea_af41_0242ac1c0002row1_col1 {\n",
              "            background-color:  #005321;\n",
              "            color:  #f1f1f1;\n",
              "        }    #T_a27fd5b2_bab3_11ea_af41_0242ac1c0002row2_col1 {\n",
              "            background-color:  #208843;\n",
              "            color:  #000000;\n",
              "        }    #T_a27fd5b2_bab3_11ea_af41_0242ac1c0002row3_col1 {\n",
              "            background-color:  #39a257;\n",
              "            color:  #000000;\n",
              "        }    #T_a27fd5b2_bab3_11ea_af41_0242ac1c0002row4_col1 {\n",
              "            background-color:  #3aa357;\n",
              "            color:  #000000;\n",
              "        }    #T_a27fd5b2_bab3_11ea_af41_0242ac1c0002row5_col1 {\n",
              "            background-color:  #83cb82;\n",
              "            color:  #000000;\n",
              "        }    #T_a27fd5b2_bab3_11ea_af41_0242ac1c0002row6_col1 {\n",
              "            background-color:  #97d492;\n",
              "            color:  #000000;\n",
              "        }    #T_a27fd5b2_bab3_11ea_af41_0242ac1c0002row7_col1 {\n",
              "            background-color:  #c2e7bb;\n",
              "            color:  #000000;\n",
              "        }    #T_a27fd5b2_bab3_11ea_af41_0242ac1c0002row8_col1 {\n",
              "            background-color:  #d0edca;\n",
              "            color:  #000000;\n",
              "        }    #T_a27fd5b2_bab3_11ea_af41_0242ac1c0002row9_col1 {\n",
              "            background-color:  #d8f0d2;\n",
              "            color:  #000000;\n",
              "        }    #T_a27fd5b2_bab3_11ea_af41_0242ac1c0002row10_col1 {\n",
              "            background-color:  #e6f5e1;\n",
              "            color:  #000000;\n",
              "        }    #T_a27fd5b2_bab3_11ea_af41_0242ac1c0002row11_col1 {\n",
              "            background-color:  #edf8ea;\n",
              "            color:  #000000;\n",
              "        }    #T_a27fd5b2_bab3_11ea_af41_0242ac1c0002row12_col1 {\n",
              "            background-color:  #eef8ea;\n",
              "            color:  #000000;\n",
              "        }    #T_a27fd5b2_bab3_11ea_af41_0242ac1c0002row13_col1 {\n",
              "            background-color:  #f1faee;\n",
              "            color:  #000000;\n",
              "        }    #T_a27fd5b2_bab3_11ea_af41_0242ac1c0002row14_col1 {\n",
              "            background-color:  #f1faee;\n",
              "            color:  #000000;\n",
              "        }    #T_a27fd5b2_bab3_11ea_af41_0242ac1c0002row15_col1 {\n",
              "            background-color:  #f5fbf3;\n",
              "            color:  #000000;\n",
              "        }    #T_a27fd5b2_bab3_11ea_af41_0242ac1c0002row16_col1 {\n",
              "            background-color:  #f6fcf4;\n",
              "            color:  #000000;\n",
              "        }    #T_a27fd5b2_bab3_11ea_af41_0242ac1c0002row17_col1 {\n",
              "            background-color:  #f6fcf4;\n",
              "            color:  #000000;\n",
              "        }    #T_a27fd5b2_bab3_11ea_af41_0242ac1c0002row18_col1 {\n",
              "            background-color:  #f7fcf5;\n",
              "            color:  #000000;\n",
              "        }    #T_a27fd5b2_bab3_11ea_af41_0242ac1c0002row19_col1 {\n",
              "            background-color:  #f7fcf5;\n",
              "            color:  #000000;\n",
              "        }</style><table id=\"T_a27fd5b2_bab3_11ea_af41_0242ac1c0002\" ><thead>    <tr>        <th class=\"blank level0\" ></th>        <th class=\"col_heading level0 col0\" >Common_words</th>        <th class=\"col_heading level0 col1\" >count</th>    </tr></thead><tbody>\n",
              "                <tr>\n",
              "                        <th id=\"T_a27fd5b2_bab3_11ea_af41_0242ac1c0002level0_row0\" class=\"row_heading level0 row0\" >0</th>\n",
              "                        <td id=\"T_a27fd5b2_bab3_11ea_af41_0242ac1c0002row0_col0\" class=\"data row0 col0\" >realdonaldtrump</td>\n",
              "                        <td id=\"T_a27fd5b2_bab3_11ea_af41_0242ac1c0002row0_col1\" class=\"data row0 col1\" >8741</td>\n",
              "            </tr>\n",
              "            <tr>\n",
              "                        <th id=\"T_a27fd5b2_bab3_11ea_af41_0242ac1c0002level0_row1\" class=\"row_heading level0 row1\" >1</th>\n",
              "                        <td id=\"T_a27fd5b2_bab3_11ea_af41_0242ac1c0002row1_col0\" class=\"data row1 col0\" >com</td>\n",
              "                        <td id=\"T_a27fd5b2_bab3_11ea_af41_0242ac1c0002row1_col1\" class=\"data row1 col1\" >8422</td>\n",
              "            </tr>\n",
              "            <tr>\n",
              "                        <th id=\"T_a27fd5b2_bab3_11ea_af41_0242ac1c0002level0_row2\" class=\"row_heading level0 row2\" >2</th>\n",
              "                        <td id=\"T_a27fd5b2_bab3_11ea_af41_0242ac1c0002row2_col0\" class=\"data row2 col0\" >http</td>\n",
              "                        <td id=\"T_a27fd5b2_bab3_11ea_af41_0242ac1c0002row2_col1\" class=\"data row2 col1\" >7138</td>\n",
              "            </tr>\n",
              "            <tr>\n",
              "                        <th id=\"T_a27fd5b2_bab3_11ea_af41_0242ac1c0002level0_row3\" class=\"row_heading level0 row3\" >3</th>\n",
              "                        <td id=\"T_a27fd5b2_bab3_11ea_af41_0242ac1c0002row3_col0\" class=\"data row3 col0\" >trump</td>\n",
              "                        <td id=\"T_a27fd5b2_bab3_11ea_af41_0242ac1c0002row3_col1\" class=\"data row3 col1\" >6472</td>\n",
              "            </tr>\n",
              "            <tr>\n",
              "                        <th id=\"T_a27fd5b2_bab3_11ea_af41_0242ac1c0002level0_row4\" class=\"row_heading level0 row4\" >4</th>\n",
              "                        <td id=\"T_a27fd5b2_bab3_11ea_af41_0242ac1c0002row4_col0\" class=\"data row4 col0\" >gre</td>\n",
              "                        <td id=\"T_a27fd5b2_bab3_11ea_af41_0242ac1c0002row4_col1\" class=\"data row4 col1\" >6444</td>\n",
              "            </tr>\n",
              "            <tr>\n",
              "                        <th id=\"T_a27fd5b2_bab3_11ea_af41_0242ac1c0002level0_row5\" class=\"row_heading level0 row5\" >5</th>\n",
              "                        <td id=\"T_a27fd5b2_bab3_11ea_af41_0242ac1c0002row5_col0\" class=\"data row5 col0\" >thank</td>\n",
              "                        <td id=\"T_a27fd5b2_bab3_11ea_af41_0242ac1c0002row5_col1\" class=\"data row5 col1\" >5134</td>\n",
              "            </tr>\n",
              "            <tr>\n",
              "                        <th id=\"T_a27fd5b2_bab3_11ea_af41_0242ac1c0002level0_row6\" class=\"row_heading level0 row6\" >6</th>\n",
              "                        <td id=\"T_a27fd5b2_bab3_11ea_af41_0242ac1c0002row6_col0\" class=\"data row6 col0\" >twit</td>\n",
              "                        <td id=\"T_a27fd5b2_bab3_11ea_af41_0242ac1c0002row6_col1\" class=\"data row6 col1\" >4770</td>\n",
              "            </tr>\n",
              "            <tr>\n",
              "                        <th id=\"T_a27fd5b2_bab3_11ea_af41_0242ac1c0002level0_row7\" class=\"row_heading level0 row7\" >7</th>\n",
              "                        <td id=\"T_a27fd5b2_bab3_11ea_af41_0242ac1c0002row7_col0\" class=\"data row7 col0\" >u</td>\n",
              "                        <td id=\"T_a27fd5b2_bab3_11ea_af41_0242ac1c0002row7_col1\" class=\"data row7 col1\" >3849</td>\n",
              "            </tr>\n",
              "            <tr>\n",
              "                        <th id=\"T_a27fd5b2_bab3_11ea_af41_0242ac1c0002level0_row8\" class=\"row_heading level0 row8\" >8</th>\n",
              "                        <td id=\"T_a27fd5b2_bab3_11ea_af41_0242ac1c0002row8_col0\" class=\"data row8 col0\" >presid</td>\n",
              "                        <td id=\"T_a27fd5b2_bab3_11ea_af41_0242ac1c0002row8_col1\" class=\"data row8 col1\" >3481</td>\n",
              "            </tr>\n",
              "            <tr>\n",
              "                        <th id=\"T_a27fd5b2_bab3_11ea_af41_0242ac1c0002level0_row9\" class=\"row_heading level0 row9\" >9</th>\n",
              "                        <td id=\"T_a27fd5b2_bab3_11ea_af41_0242ac1c0002row9_col0\" class=\"data row9 col0\" >new</td>\n",
              "                        <td id=\"T_a27fd5b2_bab3_11ea_af41_0242ac1c0002row9_col1\" class=\"data row9 col1\" >3268</td>\n",
              "            </tr>\n",
              "            <tr>\n",
              "                        <th id=\"T_a27fd5b2_bab3_11ea_af41_0242ac1c0002level0_row10\" class=\"row_heading level0 row10\" >10</th>\n",
              "                        <td id=\"T_a27fd5b2_bab3_11ea_af41_0242ac1c0002row10_col0\" class=\"data row10 col0\" >stat</td>\n",
              "                        <td id=\"T_a27fd5b2_bab3_11ea_af41_0242ac1c0002row10_col1\" class=\"data row10 col1\" >2864</td>\n",
              "            </tr>\n",
              "            <tr>\n",
              "                        <th id=\"T_a27fd5b2_bab3_11ea_af41_0242ac1c0002level0_row11\" class=\"row_heading level0 row11\" >11</th>\n",
              "                        <td id=\"T_a27fd5b2_bab3_11ea_af41_0242ac1c0002row11_col0\" class=\"data row11 col0\" >peopl</td>\n",
              "                        <td id=\"T_a27fd5b2_bab3_11ea_af41_0242ac1c0002row11_col1\" class=\"data row11 col1\" >2526</td>\n",
              "            </tr>\n",
              "            <tr>\n",
              "                        <th id=\"T_a27fd5b2_bab3_11ea_af41_0242ac1c0002level0_row12\" class=\"row_heading level0 row12\" >12</th>\n",
              "                        <td id=\"T_a27fd5b2_bab3_11ea_af41_0242ac1c0002row12_col0\" class=\"data row12 col0\" >get</td>\n",
              "                        <td id=\"T_a27fd5b2_bab3_11ea_af41_0242ac1c0002row12_col1\" class=\"data row12 col1\" >2487</td>\n",
              "            </tr>\n",
              "            <tr>\n",
              "                        <th id=\"T_a27fd5b2_bab3_11ea_af41_0242ac1c0002level0_row13\" class=\"row_heading level0 row13\" >13</th>\n",
              "                        <td id=\"T_a27fd5b2_bab3_11ea_af41_0242ac1c0002row13_col0\" class=\"data row13 col0\" >pic</td>\n",
              "                        <td id=\"T_a27fd5b2_bab3_11ea_af41_0242ac1c0002row13_col1\" class=\"data row13 col1\" >2375</td>\n",
              "            </tr>\n",
              "            <tr>\n",
              "                        <th id=\"T_a27fd5b2_bab3_11ea_af41_0242ac1c0002level0_row14\" class=\"row_heading level0 row14\" >14</th>\n",
              "                        <td id=\"T_a27fd5b2_bab3_11ea_af41_0242ac1c0002row14_col0\" class=\"data row14 col0\" >donald</td>\n",
              "                        <td id=\"T_a27fd5b2_bab3_11ea_af41_0242ac1c0002row14_col1\" class=\"data row14 col1\" >2334</td>\n",
              "            </tr>\n",
              "            <tr>\n",
              "                        <th id=\"T_a27fd5b2_bab3_11ea_af41_0242ac1c0002level0_row15\" class=\"row_heading level0 row15\" >15</th>\n",
              "                        <td id=\"T_a27fd5b2_bab3_11ea_af41_0242ac1c0002row15_col0\" class=\"data row15 col0\" >country</td>\n",
              "                        <td id=\"T_a27fd5b2_bab3_11ea_af41_0242ac1c0002row15_col1\" class=\"data row15 col1\" >2170</td>\n",
              "            </tr>\n",
              "            <tr>\n",
              "                        <th id=\"T_a27fd5b2_bab3_11ea_af41_0242ac1c0002level0_row16\" class=\"row_heading level0 row16\" >16</th>\n",
              "                        <td id=\"T_a27fd5b2_bab3_11ea_af41_0242ac1c0002row16_col0\" class=\"data row16 col0\" >ev</td>\n",
              "                        <td id=\"T_a27fd5b2_bab3_11ea_af41_0242ac1c0002row16_col1\" class=\"data row16 col1\" >2122</td>\n",
              "            </tr>\n",
              "            <tr>\n",
              "                        <th id=\"T_a27fd5b2_bab3_11ea_af41_0242ac1c0002level0_row17\" class=\"row_heading level0 row17\" >17</th>\n",
              "                        <td id=\"T_a27fd5b2_bab3_11ea_af41_0242ac1c0002row17_col0\" class=\"data row17 col0\" >mak</td>\n",
              "                        <td id=\"T_a27fd5b2_bab3_11ea_af41_0242ac1c0002row17_col1\" class=\"data row17 col1\" >2100</td>\n",
              "            </tr>\n",
              "            <tr>\n",
              "                        <th id=\"T_a27fd5b2_bab3_11ea_af41_0242ac1c0002level0_row18\" class=\"row_heading level0 row18\" >18</th>\n",
              "                        <td id=\"T_a27fd5b2_bab3_11ea_af41_0242ac1c0002row18_col0\" class=\"data row18 col0\" >tim</td>\n",
              "                        <td id=\"T_a27fd5b2_bab3_11ea_af41_0242ac1c0002row18_col1\" class=\"data row18 col1\" >2072</td>\n",
              "            </tr>\n",
              "            <tr>\n",
              "                        <th id=\"T_a27fd5b2_bab3_11ea_af41_0242ac1c0002level0_row19\" class=\"row_heading level0 row19\" >19</th>\n",
              "                        <td id=\"T_a27fd5b2_bab3_11ea_af41_0242ac1c0002row19_col0\" class=\"data row19 col0\" >www</td>\n",
              "                        <td id=\"T_a27fd5b2_bab3_11ea_af41_0242ac1c0002row19_col1\" class=\"data row19 col1\" >2068</td>\n",
              "            </tr>\n",
              "    </tbody></table>"
            ],
            "text/plain": [
              "<pandas.io.formats.style.Styler at 0x7f75ebab5c88>"
            ]
          },
          "metadata": {
            "tags": []
          },
          "execution_count": 39
        }
      ]
    },
    {
      "cell_type": "code",
      "metadata": {
        "id": "1zXZCA291TJW",
        "colab_type": "code",
        "colab": {}
      },
      "source": [
        "blacklist = ['http','https','www','com','ev','u','ly','pic','would']\n",
        "\n",
        "def remove_words(text):\n",
        "  text = [i for i in text if (i not in blacklist)]\n",
        "  return text"
      ],
      "execution_count": 40,
      "outputs": []
    },
    {
      "cell_type": "code",
      "metadata": {
        "id": "5Yxt8R4R19lk",
        "colab_type": "code",
        "colab": {}
      },
      "source": [
        "train['content'] = train['content'].apply(lambda x:[i for i in x if i not in blacklist])"
      ],
      "execution_count": 41,
      "outputs": []
    },
    {
      "cell_type": "code",
      "metadata": {
        "id": "HsjUDAIF29ap",
        "colab_type": "code",
        "colab": {
          "base_uri": "https://localhost:8080/",
          "height": 717
        },
        "outputId": "d3e4e39f-e3e2-4eec-da4a-e8db9f099bb5"
      },
      "source": [
        "fig = px.bar(temp, x='count', y='Common_words',title='Common Words in Selected Text',orientation='h',width=700,height=700,color='Common_words')\n",
        "fig.show()"
      ],
      "execution_count": 42,
      "outputs": [
        {
          "output_type": "display_data",
          "data": {
            "text/html": [
              "<html>\n",
              "<head><meta charset=\"utf-8\" /></head>\n",
              "<body>\n",
              "    <div>\n",
              "            <script src=\"https://cdnjs.cloudflare.com/ajax/libs/mathjax/2.7.5/MathJax.js?config=TeX-AMS-MML_SVG\"></script><script type=\"text/javascript\">if (window.MathJax) {MathJax.Hub.Config({SVG: {font: \"STIX-Web\"}});}</script>\n",
              "                <script type=\"text/javascript\">window.PlotlyConfig = {MathJaxConfig: 'local'};</script>\n",
              "        <script src=\"https://cdn.plot.ly/plotly-latest.min.js\"></script>    \n",
              "            <div id=\"af446f04-67fc-4807-ad06-123b4fcd0f07\" class=\"plotly-graph-div\" style=\"height:700px; width:700px;\"></div>\n",
              "            <script type=\"text/javascript\">\n",
              "                \n",
              "                    window.PLOTLYENV=window.PLOTLYENV || {};\n",
              "                    \n",
              "                if (document.getElementById(\"af446f04-67fc-4807-ad06-123b4fcd0f07\")) {\n",
              "                    Plotly.newPlot(\n",
              "                        'af446f04-67fc-4807-ad06-123b4fcd0f07',\n",
              "                        [{\"alignmentgroup\": \"True\", \"hovertemplate\": \"Common_words=%{y}<br>count=%{x}<extra></extra>\", \"legendgroup\": \"realdonaldtrump\", \"marker\": {\"color\": \"#636efa\"}, \"name\": \"realdonaldtrump\", \"offsetgroup\": \"realdonaldtrump\", \"orientation\": \"h\", \"showlegend\": true, \"textposition\": \"auto\", \"type\": \"bar\", \"x\": [8741], \"xaxis\": \"x\", \"y\": [\"realdonaldtrump\"], \"yaxis\": \"y\"}, {\"alignmentgroup\": \"True\", \"hovertemplate\": \"Common_words=%{y}<br>count=%{x}<extra></extra>\", \"legendgroup\": \"com\", \"marker\": {\"color\": \"#EF553B\"}, \"name\": \"com\", \"offsetgroup\": \"com\", \"orientation\": \"h\", \"showlegend\": true, \"textposition\": \"auto\", \"type\": \"bar\", \"x\": [8422], \"xaxis\": \"x\", \"y\": [\"com\"], \"yaxis\": \"y\"}, {\"alignmentgroup\": \"True\", \"hovertemplate\": \"Common_words=%{y}<br>count=%{x}<extra></extra>\", \"legendgroup\": \"http\", \"marker\": {\"color\": \"#00cc96\"}, \"name\": \"http\", \"offsetgroup\": \"http\", \"orientation\": \"h\", \"showlegend\": true, \"textposition\": \"auto\", \"type\": \"bar\", \"x\": [7138], \"xaxis\": \"x\", \"y\": [\"http\"], \"yaxis\": \"y\"}, {\"alignmentgroup\": \"True\", \"hovertemplate\": \"Common_words=%{y}<br>count=%{x}<extra></extra>\", \"legendgroup\": \"trump\", \"marker\": {\"color\": \"#ab63fa\"}, \"name\": \"trump\", \"offsetgroup\": \"trump\", \"orientation\": \"h\", \"showlegend\": true, \"textposition\": \"auto\", \"type\": \"bar\", \"x\": [6472], \"xaxis\": \"x\", \"y\": [\"trump\"], \"yaxis\": \"y\"}, {\"alignmentgroup\": \"True\", \"hovertemplate\": \"Common_words=%{y}<br>count=%{x}<extra></extra>\", \"legendgroup\": \"gre\", \"marker\": {\"color\": \"#FFA15A\"}, \"name\": \"gre\", \"offsetgroup\": \"gre\", \"orientation\": \"h\", \"showlegend\": true, \"textposition\": \"auto\", \"type\": \"bar\", \"x\": [6444], \"xaxis\": \"x\", \"y\": [\"gre\"], \"yaxis\": \"y\"}, {\"alignmentgroup\": \"True\", \"hovertemplate\": \"Common_words=%{y}<br>count=%{x}<extra></extra>\", \"legendgroup\": \"thank\", \"marker\": {\"color\": \"#19d3f3\"}, \"name\": \"thank\", \"offsetgroup\": \"thank\", \"orientation\": \"h\", \"showlegend\": true, \"textposition\": \"auto\", \"type\": \"bar\", \"x\": [5134], \"xaxis\": \"x\", \"y\": [\"thank\"], \"yaxis\": \"y\"}, {\"alignmentgroup\": \"True\", \"hovertemplate\": \"Common_words=%{y}<br>count=%{x}<extra></extra>\", \"legendgroup\": \"twit\", \"marker\": {\"color\": \"#FF6692\"}, \"name\": \"twit\", \"offsetgroup\": \"twit\", \"orientation\": \"h\", \"showlegend\": true, \"textposition\": \"auto\", \"type\": \"bar\", \"x\": [4770], \"xaxis\": \"x\", \"y\": [\"twit\"], \"yaxis\": \"y\"}, {\"alignmentgroup\": \"True\", \"hovertemplate\": \"Common_words=%{y}<br>count=%{x}<extra></extra>\", \"legendgroup\": \"u\", \"marker\": {\"color\": \"#B6E880\"}, \"name\": \"u\", \"offsetgroup\": \"u\", \"orientation\": \"h\", \"showlegend\": true, \"textposition\": \"auto\", \"type\": \"bar\", \"x\": [3849], \"xaxis\": \"x\", \"y\": [\"u\"], \"yaxis\": \"y\"}, {\"alignmentgroup\": \"True\", \"hovertemplate\": \"Common_words=%{y}<br>count=%{x}<extra></extra>\", \"legendgroup\": \"presid\", \"marker\": {\"color\": \"#FF97FF\"}, \"name\": \"presid\", \"offsetgroup\": \"presid\", \"orientation\": \"h\", \"showlegend\": true, \"textposition\": \"auto\", \"type\": \"bar\", \"x\": [3481], \"xaxis\": \"x\", \"y\": [\"presid\"], \"yaxis\": \"y\"}, {\"alignmentgroup\": \"True\", \"hovertemplate\": \"Common_words=%{y}<br>count=%{x}<extra></extra>\", \"legendgroup\": \"new\", \"marker\": {\"color\": \"#FECB52\"}, \"name\": \"new\", \"offsetgroup\": \"new\", \"orientation\": \"h\", \"showlegend\": true, \"textposition\": \"auto\", \"type\": \"bar\", \"x\": [3268], \"xaxis\": \"x\", \"y\": [\"new\"], \"yaxis\": \"y\"}, {\"alignmentgroup\": \"True\", \"hovertemplate\": \"Common_words=%{y}<br>count=%{x}<extra></extra>\", \"legendgroup\": \"stat\", \"marker\": {\"color\": \"#636efa\"}, \"name\": \"stat\", \"offsetgroup\": \"stat\", \"orientation\": \"h\", \"showlegend\": true, \"textposition\": \"auto\", \"type\": \"bar\", \"x\": [2864], \"xaxis\": \"x\", \"y\": [\"stat\"], \"yaxis\": \"y\"}, {\"alignmentgroup\": \"True\", \"hovertemplate\": \"Common_words=%{y}<br>count=%{x}<extra></extra>\", \"legendgroup\": \"peopl\", \"marker\": {\"color\": \"#EF553B\"}, \"name\": \"peopl\", \"offsetgroup\": \"peopl\", \"orientation\": \"h\", \"showlegend\": true, \"textposition\": \"auto\", \"type\": \"bar\", \"x\": [2526], \"xaxis\": \"x\", \"y\": [\"peopl\"], \"yaxis\": \"y\"}, {\"alignmentgroup\": \"True\", \"hovertemplate\": \"Common_words=%{y}<br>count=%{x}<extra></extra>\", \"legendgroup\": \"get\", \"marker\": {\"color\": \"#00cc96\"}, \"name\": \"get\", \"offsetgroup\": \"get\", \"orientation\": \"h\", \"showlegend\": true, \"textposition\": \"auto\", \"type\": \"bar\", \"x\": [2487], \"xaxis\": \"x\", \"y\": [\"get\"], \"yaxis\": \"y\"}, {\"alignmentgroup\": \"True\", \"hovertemplate\": \"Common_words=%{y}<br>count=%{x}<extra></extra>\", \"legendgroup\": \"pic\", \"marker\": {\"color\": \"#ab63fa\"}, \"name\": \"pic\", \"offsetgroup\": \"pic\", \"orientation\": \"h\", \"showlegend\": true, \"textposition\": \"auto\", \"type\": \"bar\", \"x\": [2375], \"xaxis\": \"x\", \"y\": [\"pic\"], \"yaxis\": \"y\"}, {\"alignmentgroup\": \"True\", \"hovertemplate\": \"Common_words=%{y}<br>count=%{x}<extra></extra>\", \"legendgroup\": \"donald\", \"marker\": {\"color\": \"#FFA15A\"}, \"name\": \"donald\", \"offsetgroup\": \"donald\", \"orientation\": \"h\", \"showlegend\": true, \"textposition\": \"auto\", \"type\": \"bar\", \"x\": [2334], \"xaxis\": \"x\", \"y\": [\"donald\"], \"yaxis\": \"y\"}, {\"alignmentgroup\": \"True\", \"hovertemplate\": \"Common_words=%{y}<br>count=%{x}<extra></extra>\", \"legendgroup\": \"country\", \"marker\": {\"color\": \"#19d3f3\"}, \"name\": \"country\", \"offsetgroup\": \"country\", \"orientation\": \"h\", \"showlegend\": true, \"textposition\": \"auto\", \"type\": \"bar\", \"x\": [2170], \"xaxis\": \"x\", \"y\": [\"country\"], \"yaxis\": \"y\"}, {\"alignmentgroup\": \"True\", \"hovertemplate\": \"Common_words=%{y}<br>count=%{x}<extra></extra>\", \"legendgroup\": \"ev\", \"marker\": {\"color\": \"#FF6692\"}, \"name\": \"ev\", \"offsetgroup\": \"ev\", \"orientation\": \"h\", \"showlegend\": true, \"textposition\": \"auto\", \"type\": \"bar\", \"x\": [2122], \"xaxis\": \"x\", \"y\": [\"ev\"], \"yaxis\": \"y\"}, {\"alignmentgroup\": \"True\", \"hovertemplate\": \"Common_words=%{y}<br>count=%{x}<extra></extra>\", \"legendgroup\": \"mak\", \"marker\": {\"color\": \"#B6E880\"}, \"name\": \"mak\", \"offsetgroup\": \"mak\", \"orientation\": \"h\", \"showlegend\": true, \"textposition\": \"auto\", \"type\": \"bar\", \"x\": [2100], \"xaxis\": \"x\", \"y\": [\"mak\"], \"yaxis\": \"y\"}, {\"alignmentgroup\": \"True\", \"hovertemplate\": \"Common_words=%{y}<br>count=%{x}<extra></extra>\", \"legendgroup\": \"tim\", \"marker\": {\"color\": \"#FF97FF\"}, \"name\": \"tim\", \"offsetgroup\": \"tim\", \"orientation\": \"h\", \"showlegend\": true, \"textposition\": \"auto\", \"type\": \"bar\", \"x\": [2072], \"xaxis\": \"x\", \"y\": [\"tim\"], \"yaxis\": \"y\"}, {\"alignmentgroup\": \"True\", \"hovertemplate\": \"Common_words=%{y}<br>count=%{x}<extra></extra>\", \"legendgroup\": \"www\", \"marker\": {\"color\": \"#FECB52\"}, \"name\": \"www\", \"offsetgroup\": \"www\", \"orientation\": \"h\", \"showlegend\": true, \"textposition\": \"auto\", \"type\": \"bar\", \"x\": [2068], \"xaxis\": \"x\", \"y\": [\"www\"], \"yaxis\": \"y\"}],\n",
              "                        {\"barmode\": \"relative\", \"height\": 700, \"legend\": {\"title\": {\"text\": \"Common_words\"}, \"tracegroupgap\": 0}, \"template\": {\"data\": {\"bar\": [{\"error_x\": {\"color\": \"#2a3f5f\"}, \"error_y\": {\"color\": \"#2a3f5f\"}, \"marker\": {\"line\": {\"color\": \"#E5ECF6\", \"width\": 0.5}}, \"type\": \"bar\"}], \"barpolar\": [{\"marker\": {\"line\": {\"color\": \"#E5ECF6\", \"width\": 0.5}}, \"type\": \"barpolar\"}], \"carpet\": [{\"aaxis\": {\"endlinecolor\": \"#2a3f5f\", \"gridcolor\": \"white\", \"linecolor\": \"white\", \"minorgridcolor\": \"white\", \"startlinecolor\": \"#2a3f5f\"}, \"baxis\": {\"endlinecolor\": \"#2a3f5f\", \"gridcolor\": \"white\", \"linecolor\": \"white\", \"minorgridcolor\": \"white\", \"startlinecolor\": \"#2a3f5f\"}, \"type\": \"carpet\"}], \"choropleth\": [{\"colorbar\": {\"outlinewidth\": 0, \"ticks\": \"\"}, \"type\": \"choropleth\"}], \"contour\": [{\"colorbar\": {\"outlinewidth\": 0, \"ticks\": \"\"}, \"colorscale\": [[0.0, \"#0d0887\"], [0.1111111111111111, \"#46039f\"], [0.2222222222222222, \"#7201a8\"], [0.3333333333333333, \"#9c179e\"], [0.4444444444444444, \"#bd3786\"], [0.5555555555555556, \"#d8576b\"], [0.6666666666666666, \"#ed7953\"], [0.7777777777777778, \"#fb9f3a\"], [0.8888888888888888, \"#fdca26\"], [1.0, \"#f0f921\"]], \"type\": \"contour\"}], \"contourcarpet\": [{\"colorbar\": {\"outlinewidth\": 0, \"ticks\": \"\"}, \"type\": \"contourcarpet\"}], \"heatmap\": [{\"colorbar\": {\"outlinewidth\": 0, \"ticks\": \"\"}, \"colorscale\": [[0.0, \"#0d0887\"], [0.1111111111111111, \"#46039f\"], [0.2222222222222222, \"#7201a8\"], [0.3333333333333333, \"#9c179e\"], [0.4444444444444444, \"#bd3786\"], [0.5555555555555556, \"#d8576b\"], [0.6666666666666666, \"#ed7953\"], [0.7777777777777778, \"#fb9f3a\"], [0.8888888888888888, \"#fdca26\"], [1.0, \"#f0f921\"]], \"type\": \"heatmap\"}], \"heatmapgl\": [{\"colorbar\": {\"outlinewidth\": 0, \"ticks\": \"\"}, \"colorscale\": [[0.0, \"#0d0887\"], [0.1111111111111111, \"#46039f\"], [0.2222222222222222, \"#7201a8\"], [0.3333333333333333, \"#9c179e\"], [0.4444444444444444, \"#bd3786\"], [0.5555555555555556, \"#d8576b\"], [0.6666666666666666, \"#ed7953\"], [0.7777777777777778, \"#fb9f3a\"], [0.8888888888888888, \"#fdca26\"], [1.0, \"#f0f921\"]], \"type\": \"heatmapgl\"}], \"histogram\": [{\"marker\": {\"colorbar\": {\"outlinewidth\": 0, \"ticks\": \"\"}}, \"type\": \"histogram\"}], \"histogram2d\": [{\"colorbar\": {\"outlinewidth\": 0, \"ticks\": \"\"}, \"colorscale\": [[0.0, \"#0d0887\"], [0.1111111111111111, \"#46039f\"], [0.2222222222222222, \"#7201a8\"], [0.3333333333333333, \"#9c179e\"], [0.4444444444444444, \"#bd3786\"], [0.5555555555555556, \"#d8576b\"], [0.6666666666666666, \"#ed7953\"], [0.7777777777777778, \"#fb9f3a\"], [0.8888888888888888, \"#fdca26\"], [1.0, \"#f0f921\"]], \"type\": \"histogram2d\"}], \"histogram2dcontour\": [{\"colorbar\": {\"outlinewidth\": 0, \"ticks\": \"\"}, \"colorscale\": [[0.0, \"#0d0887\"], [0.1111111111111111, \"#46039f\"], [0.2222222222222222, \"#7201a8\"], [0.3333333333333333, \"#9c179e\"], [0.4444444444444444, \"#bd3786\"], [0.5555555555555556, \"#d8576b\"], [0.6666666666666666, \"#ed7953\"], [0.7777777777777778, \"#fb9f3a\"], [0.8888888888888888, \"#fdca26\"], [1.0, \"#f0f921\"]], \"type\": \"histogram2dcontour\"}], \"mesh3d\": [{\"colorbar\": {\"outlinewidth\": 0, \"ticks\": \"\"}, \"type\": \"mesh3d\"}], \"parcoords\": [{\"line\": {\"colorbar\": {\"outlinewidth\": 0, \"ticks\": \"\"}}, \"type\": \"parcoords\"}], \"pie\": [{\"automargin\": true, \"type\": \"pie\"}], \"scatter\": [{\"marker\": {\"colorbar\": {\"outlinewidth\": 0, \"ticks\": \"\"}}, \"type\": \"scatter\"}], \"scatter3d\": [{\"line\": {\"colorbar\": {\"outlinewidth\": 0, \"ticks\": \"\"}}, \"marker\": {\"colorbar\": {\"outlinewidth\": 0, \"ticks\": \"\"}}, \"type\": \"scatter3d\"}], \"scattercarpet\": [{\"marker\": {\"colorbar\": {\"outlinewidth\": 0, \"ticks\": \"\"}}, \"type\": \"scattercarpet\"}], \"scattergeo\": [{\"marker\": {\"colorbar\": {\"outlinewidth\": 0, \"ticks\": \"\"}}, \"type\": \"scattergeo\"}], \"scattergl\": [{\"marker\": {\"colorbar\": {\"outlinewidth\": 0, \"ticks\": \"\"}}, \"type\": \"scattergl\"}], \"scattermapbox\": [{\"marker\": {\"colorbar\": {\"outlinewidth\": 0, \"ticks\": \"\"}}, \"type\": \"scattermapbox\"}], \"scatterpolar\": [{\"marker\": {\"colorbar\": {\"outlinewidth\": 0, \"ticks\": \"\"}}, \"type\": \"scatterpolar\"}], \"scatterpolargl\": [{\"marker\": {\"colorbar\": {\"outlinewidth\": 0, \"ticks\": \"\"}}, \"type\": \"scatterpolargl\"}], \"scatterternary\": [{\"marker\": {\"colorbar\": {\"outlinewidth\": 0, \"ticks\": \"\"}}, \"type\": \"scatterternary\"}], \"surface\": [{\"colorbar\": {\"outlinewidth\": 0, \"ticks\": \"\"}, \"colorscale\": [[0.0, \"#0d0887\"], [0.1111111111111111, \"#46039f\"], [0.2222222222222222, \"#7201a8\"], [0.3333333333333333, \"#9c179e\"], [0.4444444444444444, \"#bd3786\"], [0.5555555555555556, \"#d8576b\"], [0.6666666666666666, \"#ed7953\"], [0.7777777777777778, \"#fb9f3a\"], [0.8888888888888888, \"#fdca26\"], [1.0, \"#f0f921\"]], \"type\": \"surface\"}], \"table\": [{\"cells\": {\"fill\": {\"color\": \"#EBF0F8\"}, \"line\": {\"color\": \"white\"}}, \"header\": {\"fill\": {\"color\": \"#C8D4E3\"}, \"line\": {\"color\": \"white\"}}, \"type\": \"table\"}]}, \"layout\": {\"annotationdefaults\": {\"arrowcolor\": \"#2a3f5f\", \"arrowhead\": 0, \"arrowwidth\": 1}, \"coloraxis\": {\"colorbar\": {\"outlinewidth\": 0, \"ticks\": \"\"}}, \"colorscale\": {\"diverging\": [[0, \"#8e0152\"], [0.1, \"#c51b7d\"], [0.2, \"#de77ae\"], [0.3, \"#f1b6da\"], [0.4, \"#fde0ef\"], [0.5, \"#f7f7f7\"], [0.6, \"#e6f5d0\"], [0.7, \"#b8e186\"], [0.8, \"#7fbc41\"], [0.9, \"#4d9221\"], [1, \"#276419\"]], \"sequential\": [[0.0, \"#0d0887\"], [0.1111111111111111, \"#46039f\"], [0.2222222222222222, \"#7201a8\"], [0.3333333333333333, \"#9c179e\"], [0.4444444444444444, \"#bd3786\"], [0.5555555555555556, \"#d8576b\"], [0.6666666666666666, \"#ed7953\"], [0.7777777777777778, \"#fb9f3a\"], [0.8888888888888888, \"#fdca26\"], [1.0, \"#f0f921\"]], \"sequentialminus\": [[0.0, \"#0d0887\"], [0.1111111111111111, \"#46039f\"], [0.2222222222222222, \"#7201a8\"], [0.3333333333333333, \"#9c179e\"], [0.4444444444444444, \"#bd3786\"], [0.5555555555555556, \"#d8576b\"], [0.6666666666666666, \"#ed7953\"], [0.7777777777777778, \"#fb9f3a\"], [0.8888888888888888, \"#fdca26\"], [1.0, \"#f0f921\"]]}, \"colorway\": [\"#636efa\", \"#EF553B\", \"#00cc96\", \"#ab63fa\", \"#FFA15A\", \"#19d3f3\", \"#FF6692\", \"#B6E880\", \"#FF97FF\", \"#FECB52\"], \"font\": {\"color\": \"#2a3f5f\"}, \"geo\": {\"bgcolor\": \"white\", \"lakecolor\": \"white\", \"landcolor\": \"#E5ECF6\", \"showlakes\": true, \"showland\": true, \"subunitcolor\": \"white\"}, \"hoverlabel\": {\"align\": \"left\"}, \"hovermode\": \"closest\", \"mapbox\": {\"style\": \"light\"}, \"paper_bgcolor\": \"white\", \"plot_bgcolor\": \"#E5ECF6\", \"polar\": {\"angularaxis\": {\"gridcolor\": \"white\", \"linecolor\": \"white\", \"ticks\": \"\"}, \"bgcolor\": \"#E5ECF6\", \"radialaxis\": {\"gridcolor\": \"white\", \"linecolor\": \"white\", \"ticks\": \"\"}}, \"scene\": {\"xaxis\": {\"backgroundcolor\": \"#E5ECF6\", \"gridcolor\": \"white\", \"gridwidth\": 2, \"linecolor\": \"white\", \"showbackground\": true, \"ticks\": \"\", \"zerolinecolor\": \"white\"}, \"yaxis\": {\"backgroundcolor\": \"#E5ECF6\", \"gridcolor\": \"white\", \"gridwidth\": 2, \"linecolor\": \"white\", \"showbackground\": true, \"ticks\": \"\", \"zerolinecolor\": \"white\"}, \"zaxis\": {\"backgroundcolor\": \"#E5ECF6\", \"gridcolor\": \"white\", \"gridwidth\": 2, \"linecolor\": \"white\", \"showbackground\": true, \"ticks\": \"\", \"zerolinecolor\": \"white\"}}, \"shapedefaults\": {\"line\": {\"color\": \"#2a3f5f\"}}, \"ternary\": {\"aaxis\": {\"gridcolor\": \"white\", \"linecolor\": \"white\", \"ticks\": \"\"}, \"baxis\": {\"gridcolor\": \"white\", \"linecolor\": \"white\", \"ticks\": \"\"}, \"bgcolor\": \"#E5ECF6\", \"caxis\": {\"gridcolor\": \"white\", \"linecolor\": \"white\", \"ticks\": \"\"}}, \"title\": {\"x\": 0.05}, \"xaxis\": {\"automargin\": true, \"gridcolor\": \"white\", \"linecolor\": \"white\", \"ticks\": \"\", \"title\": {\"standoff\": 15}, \"zerolinecolor\": \"white\", \"zerolinewidth\": 2}, \"yaxis\": {\"automargin\": true, \"gridcolor\": \"white\", \"linecolor\": \"white\", \"ticks\": \"\", \"title\": {\"standoff\": 15}, \"zerolinecolor\": \"white\", \"zerolinewidth\": 2}}}, \"title\": {\"text\": \"Common Words in Selected Text\"}, \"width\": 700, \"xaxis\": {\"anchor\": \"y\", \"domain\": [0.0, 1.0], \"title\": {\"text\": \"count\"}}, \"yaxis\": {\"anchor\": \"x\", \"categoryarray\": [\"www\", \"tim\", \"mak\", \"ev\", \"country\", \"donald\", \"pic\", \"get\", \"peopl\", \"stat\", \"new\", \"presid\", \"u\", \"twit\", \"thank\", \"gre\", \"trump\", \"http\", \"com\", \"realdonaldtrump\"], \"categoryorder\": \"array\", \"domain\": [0.0, 1.0], \"title\": {\"text\": \"Common_words\"}}},\n",
              "                        {\"responsive\": true}\n",
              "                    ).then(function(){\n",
              "                            \n",
              "var gd = document.getElementById('af446f04-67fc-4807-ad06-123b4fcd0f07');\n",
              "var x = new MutationObserver(function (mutations, observer) {{\n",
              "        var display = window.getComputedStyle(gd).display;\n",
              "        if (!display || display === 'none') {{\n",
              "            console.log([gd, 'removed!']);\n",
              "            Plotly.purge(gd);\n",
              "            observer.disconnect();\n",
              "        }}\n",
              "}});\n",
              "\n",
              "// Listen for the removal of the full notebook cells\n",
              "var notebookContainer = gd.closest('#notebook-container');\n",
              "if (notebookContainer) {{\n",
              "    x.observe(notebookContainer, {childList: true});\n",
              "}}\n",
              "\n",
              "// Listen for the clearing of the current output cell\n",
              "var outputEl = gd.closest('.output');\n",
              "if (outputEl) {{\n",
              "    x.observe(outputEl, {childList: true});\n",
              "}}\n",
              "\n",
              "                        })\n",
              "                };\n",
              "                \n",
              "            </script>\n",
              "        </div>\n",
              "</body>\n",
              "</html>"
            ]
          },
          "metadata": {
            "tags": []
          }
        }
      ]
    },
    {
      "cell_type": "code",
      "metadata": {
        "id": "va-hOo2G4me3",
        "colab_type": "code",
        "colab": {
          "base_uri": "https://localhost:8080/",
          "height": 446
        },
        "outputId": "96c88897-5f46-409a-8fce-6df803de72b1"
      },
      "source": [
        "top = Counter([item for sublist in train['content'] for item in sublist])\n",
        "temp = pd.DataFrame(top.most_common(20))\n",
        "temp = temp.iloc[1:,:]\n",
        "temp.columns = ['Common_words','count']\n",
        "temp.style.background_gradient(cmap='Reds')"
      ],
      "execution_count": 43,
      "outputs": [
        {
          "output_type": "execute_result",
          "data": {
            "text/html": [
              "<style  type=\"text/css\" >\n",
              "    #T_a31c3c2c_bab3_11ea_af41_0242ac1c0002row0_col1 {\n",
              "            background-color:  #67000d;\n",
              "            color:  #f1f1f1;\n",
              "        }    #T_a31c3c2c_bab3_11ea_af41_0242ac1c0002row1_col1 {\n",
              "            background-color:  #69000d;\n",
              "            color:  #f1f1f1;\n",
              "        }    #T_a31c3c2c_bab3_11ea_af41_0242ac1c0002row2_col1 {\n",
              "            background-color:  #d42121;\n",
              "            color:  #f1f1f1;\n",
              "        }    #T_a31c3c2c_bab3_11ea_af41_0242ac1c0002row3_col1 {\n",
              "            background-color:  #eb372a;\n",
              "            color:  #f1f1f1;\n",
              "        }    #T_a31c3c2c_bab3_11ea_af41_0242ac1c0002row4_col1 {\n",
              "            background-color:  #fc9576;\n",
              "            color:  #000000;\n",
              "        }    #T_a31c3c2c_bab3_11ea_af41_0242ac1c0002row5_col1 {\n",
              "            background-color:  #fca588;\n",
              "            color:  #000000;\n",
              "        }    #T_a31c3c2c_bab3_11ea_af41_0242ac1c0002row6_col1 {\n",
              "            background-color:  #fcc1a8;\n",
              "            color:  #000000;\n",
              "        }    #T_a31c3c2c_bab3_11ea_af41_0242ac1c0002row7_col1 {\n",
              "            background-color:  #fdd5c4;\n",
              "            color:  #000000;\n",
              "        }    #T_a31c3c2c_bab3_11ea_af41_0242ac1c0002row8_col1 {\n",
              "            background-color:  #fed8c7;\n",
              "            color:  #000000;\n",
              "        }    #T_a31c3c2c_bab3_11ea_af41_0242ac1c0002row9_col1 {\n",
              "            background-color:  #fee1d4;\n",
              "            color:  #000000;\n",
              "        }    #T_a31c3c2c_bab3_11ea_af41_0242ac1c0002row10_col1 {\n",
              "            background-color:  #fee7db;\n",
              "            color:  #000000;\n",
              "        }    #T_a31c3c2c_bab3_11ea_af41_0242ac1c0002row11_col1 {\n",
              "            background-color:  #fee9df;\n",
              "            color:  #000000;\n",
              "        }    #T_a31c3c2c_bab3_11ea_af41_0242ac1c0002row12_col1 {\n",
              "            background-color:  #feeae1;\n",
              "            color:  #000000;\n",
              "        }    #T_a31c3c2c_bab3_11ea_af41_0242ac1c0002row13_col1 {\n",
              "            background-color:  #fff3ed;\n",
              "            color:  #000000;\n",
              "        }    #T_a31c3c2c_bab3_11ea_af41_0242ac1c0002row14_col1 {\n",
              "            background-color:  #fff3ed;\n",
              "            color:  #000000;\n",
              "        }    #T_a31c3c2c_bab3_11ea_af41_0242ac1c0002row15_col1 {\n",
              "            background-color:  #fff4ef;\n",
              "            color:  #000000;\n",
              "        }    #T_a31c3c2c_bab3_11ea_af41_0242ac1c0002row16_col1 {\n",
              "            background-color:  #fff5f0;\n",
              "            color:  #000000;\n",
              "        }    #T_a31c3c2c_bab3_11ea_af41_0242ac1c0002row17_col1 {\n",
              "            background-color:  #fff5f0;\n",
              "            color:  #000000;\n",
              "        }    #T_a31c3c2c_bab3_11ea_af41_0242ac1c0002row18_col1 {\n",
              "            background-color:  #fff5f0;\n",
              "            color:  #000000;\n",
              "        }</style><table id=\"T_a31c3c2c_bab3_11ea_af41_0242ac1c0002\" ><thead>    <tr>        <th class=\"blank level0\" ></th>        <th class=\"col_heading level0 col0\" >Common_words</th>        <th class=\"col_heading level0 col1\" >count</th>    </tr></thead><tbody>\n",
              "                <tr>\n",
              "                        <th id=\"T_a31c3c2c_bab3_11ea_af41_0242ac1c0002level0_row0\" class=\"row_heading level0 row0\" >1</th>\n",
              "                        <td id=\"T_a31c3c2c_bab3_11ea_af41_0242ac1c0002row0_col0\" class=\"data row0 col0\" >trump</td>\n",
              "                        <td id=\"T_a31c3c2c_bab3_11ea_af41_0242ac1c0002row0_col1\" class=\"data row0 col1\" >6472</td>\n",
              "            </tr>\n",
              "            <tr>\n",
              "                        <th id=\"T_a31c3c2c_bab3_11ea_af41_0242ac1c0002level0_row1\" class=\"row_heading level0 row1\" >2</th>\n",
              "                        <td id=\"T_a31c3c2c_bab3_11ea_af41_0242ac1c0002row1_col0\" class=\"data row1 col0\" >gre</td>\n",
              "                        <td id=\"T_a31c3c2c_bab3_11ea_af41_0242ac1c0002row1_col1\" class=\"data row1 col1\" >6444</td>\n",
              "            </tr>\n",
              "            <tr>\n",
              "                        <th id=\"T_a31c3c2c_bab3_11ea_af41_0242ac1c0002level0_row2\" class=\"row_heading level0 row2\" >3</th>\n",
              "                        <td id=\"T_a31c3c2c_bab3_11ea_af41_0242ac1c0002row2_col0\" class=\"data row2 col0\" >thank</td>\n",
              "                        <td id=\"T_a31c3c2c_bab3_11ea_af41_0242ac1c0002row2_col1\" class=\"data row2 col1\" >5134</td>\n",
              "            </tr>\n",
              "            <tr>\n",
              "                        <th id=\"T_a31c3c2c_bab3_11ea_af41_0242ac1c0002level0_row3\" class=\"row_heading level0 row3\" >4</th>\n",
              "                        <td id=\"T_a31c3c2c_bab3_11ea_af41_0242ac1c0002row3_col0\" class=\"data row3 col0\" >twit</td>\n",
              "                        <td id=\"T_a31c3c2c_bab3_11ea_af41_0242ac1c0002row3_col1\" class=\"data row3 col1\" >4770</td>\n",
              "            </tr>\n",
              "            <tr>\n",
              "                        <th id=\"T_a31c3c2c_bab3_11ea_af41_0242ac1c0002level0_row4\" class=\"row_heading level0 row4\" >5</th>\n",
              "                        <td id=\"T_a31c3c2c_bab3_11ea_af41_0242ac1c0002row4_col0\" class=\"data row4 col0\" >presid</td>\n",
              "                        <td id=\"T_a31c3c2c_bab3_11ea_af41_0242ac1c0002row4_col1\" class=\"data row4 col1\" >3481</td>\n",
              "            </tr>\n",
              "            <tr>\n",
              "                        <th id=\"T_a31c3c2c_bab3_11ea_af41_0242ac1c0002level0_row5\" class=\"row_heading level0 row5\" >6</th>\n",
              "                        <td id=\"T_a31c3c2c_bab3_11ea_af41_0242ac1c0002row5_col0\" class=\"data row5 col0\" >new</td>\n",
              "                        <td id=\"T_a31c3c2c_bab3_11ea_af41_0242ac1c0002row5_col1\" class=\"data row5 col1\" >3268</td>\n",
              "            </tr>\n",
              "            <tr>\n",
              "                        <th id=\"T_a31c3c2c_bab3_11ea_af41_0242ac1c0002level0_row6\" class=\"row_heading level0 row6\" >7</th>\n",
              "                        <td id=\"T_a31c3c2c_bab3_11ea_af41_0242ac1c0002row6_col0\" class=\"data row6 col0\" >stat</td>\n",
              "                        <td id=\"T_a31c3c2c_bab3_11ea_af41_0242ac1c0002row6_col1\" class=\"data row6 col1\" >2864</td>\n",
              "            </tr>\n",
              "            <tr>\n",
              "                        <th id=\"T_a31c3c2c_bab3_11ea_af41_0242ac1c0002level0_row7\" class=\"row_heading level0 row7\" >8</th>\n",
              "                        <td id=\"T_a31c3c2c_bab3_11ea_af41_0242ac1c0002row7_col0\" class=\"data row7 col0\" >peopl</td>\n",
              "                        <td id=\"T_a31c3c2c_bab3_11ea_af41_0242ac1c0002row7_col1\" class=\"data row7 col1\" >2526</td>\n",
              "            </tr>\n",
              "            <tr>\n",
              "                        <th id=\"T_a31c3c2c_bab3_11ea_af41_0242ac1c0002level0_row8\" class=\"row_heading level0 row8\" >9</th>\n",
              "                        <td id=\"T_a31c3c2c_bab3_11ea_af41_0242ac1c0002row8_col0\" class=\"data row8 col0\" >get</td>\n",
              "                        <td id=\"T_a31c3c2c_bab3_11ea_af41_0242ac1c0002row8_col1\" class=\"data row8 col1\" >2487</td>\n",
              "            </tr>\n",
              "            <tr>\n",
              "                        <th id=\"T_a31c3c2c_bab3_11ea_af41_0242ac1c0002level0_row9\" class=\"row_heading level0 row9\" >10</th>\n",
              "                        <td id=\"T_a31c3c2c_bab3_11ea_af41_0242ac1c0002row9_col0\" class=\"data row9 col0\" >donald</td>\n",
              "                        <td id=\"T_a31c3c2c_bab3_11ea_af41_0242ac1c0002row9_col1\" class=\"data row9 col1\" >2334</td>\n",
              "            </tr>\n",
              "            <tr>\n",
              "                        <th id=\"T_a31c3c2c_bab3_11ea_af41_0242ac1c0002level0_row10\" class=\"row_heading level0 row10\" >11</th>\n",
              "                        <td id=\"T_a31c3c2c_bab3_11ea_af41_0242ac1c0002row10_col0\" class=\"data row10 col0\" >country</td>\n",
              "                        <td id=\"T_a31c3c2c_bab3_11ea_af41_0242ac1c0002row10_col1\" class=\"data row10 col1\" >2170</td>\n",
              "            </tr>\n",
              "            <tr>\n",
              "                        <th id=\"T_a31c3c2c_bab3_11ea_af41_0242ac1c0002level0_row11\" class=\"row_heading level0 row11\" >12</th>\n",
              "                        <td id=\"T_a31c3c2c_bab3_11ea_af41_0242ac1c0002row11_col0\" class=\"data row11 col0\" >mak</td>\n",
              "                        <td id=\"T_a31c3c2c_bab3_11ea_af41_0242ac1c0002row11_col1\" class=\"data row11 col1\" >2100</td>\n",
              "            </tr>\n",
              "            <tr>\n",
              "                        <th id=\"T_a31c3c2c_bab3_11ea_af41_0242ac1c0002level0_row12\" class=\"row_heading level0 row12\" >13</th>\n",
              "                        <td id=\"T_a31c3c2c_bab3_11ea_af41_0242ac1c0002row12_col0\" class=\"data row12 col0\" >tim</td>\n",
              "                        <td id=\"T_a31c3c2c_bab3_11ea_af41_0242ac1c0002row12_col1\" class=\"data row12 col1\" >2072</td>\n",
              "            </tr>\n",
              "            <tr>\n",
              "                        <th id=\"T_a31c3c2c_bab3_11ea_af41_0242ac1c0002level0_row13\" class=\"row_heading level0 row13\" >14</th>\n",
              "                        <td id=\"T_a31c3c2c_bab3_11ea_af41_0242ac1c0002row13_col0\" class=\"data row13 col0\" >bit</td>\n",
              "                        <td id=\"T_a31c3c2c_bab3_11ea_af41_0242ac1c0002row13_col1\" class=\"data row13 col1\" >1831</td>\n",
              "            </tr>\n",
              "            <tr>\n",
              "                        <th id=\"T_a31c3c2c_bab3_11ea_af41_0242ac1c0002level0_row14\" class=\"row_heading level0 row14\" >15</th>\n",
              "                        <td id=\"T_a31c3c2c_bab3_11ea_af41_0242ac1c0002row14_col0\" class=\"data row14 col0\" >americ</td>\n",
              "                        <td id=\"T_a31c3c2c_bab3_11ea_af41_0242ac1c0002row14_col1\" class=\"data row14 col1\" >1826</td>\n",
              "            </tr>\n",
              "            <tr>\n",
              "                        <th id=\"T_a31c3c2c_bab3_11ea_af41_0242ac1c0002level0_row15\" class=\"row_heading level0 row15\" >16</th>\n",
              "                        <td id=\"T_a31c3c2c_bab3_11ea_af41_0242ac1c0002row15_col0\" class=\"data row15 col0\" >obam</td>\n",
              "                        <td id=\"T_a31c3c2c_bab3_11ea_af41_0242ac1c0002row15_col1\" class=\"data row15 col1\" >1797</td>\n",
              "            </tr>\n",
              "            <tr>\n",
              "                        <th id=\"T_a31c3c2c_bab3_11ea_af41_0242ac1c0002level0_row16\" class=\"row_heading level0 row16\" >17</th>\n",
              "                        <td id=\"T_a31c3c2c_bab3_11ea_af41_0242ac1c0002row16_col0\" class=\"data row16 col0\" >vot</td>\n",
              "                        <td id=\"T_a31c3c2c_bab3_11ea_af41_0242ac1c0002row16_col1\" class=\"data row16 col1\" >1782</td>\n",
              "            </tr>\n",
              "            <tr>\n",
              "                        <th id=\"T_a31c3c2c_bab3_11ea_af41_0242ac1c0002level0_row17\" class=\"row_heading level0 row17\" >18</th>\n",
              "                        <td id=\"T_a31c3c2c_bab3_11ea_af41_0242ac1c0002row17_col0\" class=\"data row17 col0\" >lik</td>\n",
              "                        <td id=\"T_a31c3c2c_bab3_11ea_af41_0242ac1c0002row17_col1\" class=\"data row17 col1\" >1777</td>\n",
              "            </tr>\n",
              "            <tr>\n",
              "                        <th id=\"T_a31c3c2c_bab3_11ea_af41_0242ac1c0002level0_row18\" class=\"row_heading level0 row18\" >19</th>\n",
              "                        <td id=\"T_a31c3c2c_bab3_11ea_af41_0242ac1c0002row18_col0\" class=\"data row18 col0\" >big</td>\n",
              "                        <td id=\"T_a31c3c2c_bab3_11ea_af41_0242ac1c0002row18_col1\" class=\"data row18 col1\" >1765</td>\n",
              "            </tr>\n",
              "    </tbody></table>"
            ],
            "text/plain": [
              "<pandas.io.formats.style.Styler at 0x7f75e6d91908>"
            ]
          },
          "metadata": {
            "tags": []
          },
          "execution_count": 43
        }
      ]
    },
    {
      "cell_type": "code",
      "metadata": {
        "id": "bgZMjNhV5kIB",
        "colab_type": "code",
        "colab": {}
      },
      "source": [
        "# fig = px.treemap(temp,ids='Common_words',values='count', title='Tree of Most Common Words')\n",
        "# fig.show()"
      ],
      "execution_count": 44,
      "outputs": []
    },
    {
      "cell_type": "code",
      "metadata": {
        "id": "EvAaPsAm8OXW",
        "colab_type": "code",
        "colab": {}
      },
      "source": [
        ""
      ],
      "execution_count": 44,
      "outputs": []
    },
    {
      "cell_type": "code",
      "metadata": {
        "id": "OhMa-6vh6CR3",
        "colab_type": "code",
        "colab": {
          "base_uri": "https://localhost:8080/",
          "height": 542
        },
        "outputId": "9c1dc635-b2ba-44fe-8c6a-71087b56893f"
      },
      "source": [
        "fig = px.treemap(temp, path=['Common_words'], values='count',title='Tree of Most Common Words')\n",
        "fig.show()"
      ],
      "execution_count": 45,
      "outputs": [
        {
          "output_type": "display_data",
          "data": {
            "text/html": [
              "<html>\n",
              "<head><meta charset=\"utf-8\" /></head>\n",
              "<body>\n",
              "    <div>\n",
              "            <script src=\"https://cdnjs.cloudflare.com/ajax/libs/mathjax/2.7.5/MathJax.js?config=TeX-AMS-MML_SVG\"></script><script type=\"text/javascript\">if (window.MathJax) {MathJax.Hub.Config({SVG: {font: \"STIX-Web\"}});}</script>\n",
              "                <script type=\"text/javascript\">window.PlotlyConfig = {MathJaxConfig: 'local'};</script>\n",
              "        <script src=\"https://cdn.plot.ly/plotly-latest.min.js\"></script>    \n",
              "            <div id=\"25f236c7-3f6d-479d-80ee-9fc5e744f638\" class=\"plotly-graph-div\" style=\"height:525px; width:100%;\"></div>\n",
              "            <script type=\"text/javascript\">\n",
              "                \n",
              "                    window.PLOTLYENV=window.PLOTLYENV || {};\n",
              "                    \n",
              "                if (document.getElementById(\"25f236c7-3f6d-479d-80ee-9fc5e744f638\")) {\n",
              "                    Plotly.newPlot(\n",
              "                        '25f236c7-3f6d-479d-80ee-9fc5e744f638',\n",
              "                        [{\"branchvalues\": \"total\", \"domain\": {\"x\": [0.0, 1.0], \"y\": [0.0, 1.0]}, \"hovertemplate\": \"labels=%{label}<br>count=%{value}<br>parent=%{parent}<br>id=%{id}<extra></extra>\", \"ids\": [\"americ\", \"big\", \"bit\", \"country\", \"donald\", \"get\", \"gre\", \"lik\", \"mak\", \"new\", \"obam\", \"peopl\", \"presid\", \"stat\", \"thank\", \"tim\", \"trump\", \"twit\", \"vot\"], \"labels\": [\"americ\", \"big\", \"bit\", \"country\", \"donald\", \"get\", \"gre\", \"lik\", \"mak\", \"new\", \"obam\", \"peopl\", \"presid\", \"stat\", \"thank\", \"tim\", \"trump\", \"twit\", \"vot\"], \"name\": \"\", \"parents\": [\"\", \"\", \"\", \"\", \"\", \"\", \"\", \"\", \"\", \"\", \"\", \"\", \"\", \"\", \"\", \"\", \"\", \"\", \"\"], \"type\": \"treemap\", \"values\": [1826, 1765, 1831, 2170, 2334, 2487, 6444, 1777, 2100, 3268, 1797, 2526, 3481, 2864, 5134, 2072, 6472, 4770, 1782]}],\n",
              "                        {\"legend\": {\"tracegroupgap\": 0}, \"template\": {\"data\": {\"bar\": [{\"error_x\": {\"color\": \"#2a3f5f\"}, \"error_y\": {\"color\": \"#2a3f5f\"}, \"marker\": {\"line\": {\"color\": \"#E5ECF6\", \"width\": 0.5}}, \"type\": \"bar\"}], \"barpolar\": [{\"marker\": {\"line\": {\"color\": \"#E5ECF6\", \"width\": 0.5}}, \"type\": \"barpolar\"}], \"carpet\": [{\"aaxis\": {\"endlinecolor\": \"#2a3f5f\", \"gridcolor\": \"white\", \"linecolor\": \"white\", \"minorgridcolor\": \"white\", \"startlinecolor\": \"#2a3f5f\"}, \"baxis\": {\"endlinecolor\": \"#2a3f5f\", \"gridcolor\": \"white\", \"linecolor\": \"white\", \"minorgridcolor\": \"white\", \"startlinecolor\": \"#2a3f5f\"}, \"type\": \"carpet\"}], \"choropleth\": [{\"colorbar\": {\"outlinewidth\": 0, \"ticks\": \"\"}, \"type\": \"choropleth\"}], \"contour\": [{\"colorbar\": {\"outlinewidth\": 0, \"ticks\": \"\"}, \"colorscale\": [[0.0, \"#0d0887\"], [0.1111111111111111, \"#46039f\"], [0.2222222222222222, \"#7201a8\"], [0.3333333333333333, \"#9c179e\"], [0.4444444444444444, \"#bd3786\"], [0.5555555555555556, \"#d8576b\"], [0.6666666666666666, \"#ed7953\"], [0.7777777777777778, \"#fb9f3a\"], [0.8888888888888888, \"#fdca26\"], [1.0, \"#f0f921\"]], \"type\": \"contour\"}], \"contourcarpet\": [{\"colorbar\": {\"outlinewidth\": 0, \"ticks\": \"\"}, \"type\": \"contourcarpet\"}], \"heatmap\": [{\"colorbar\": {\"outlinewidth\": 0, \"ticks\": \"\"}, \"colorscale\": [[0.0, \"#0d0887\"], [0.1111111111111111, \"#46039f\"], [0.2222222222222222, \"#7201a8\"], [0.3333333333333333, \"#9c179e\"], [0.4444444444444444, \"#bd3786\"], [0.5555555555555556, \"#d8576b\"], [0.6666666666666666, \"#ed7953\"], [0.7777777777777778, \"#fb9f3a\"], [0.8888888888888888, \"#fdca26\"], [1.0, \"#f0f921\"]], \"type\": \"heatmap\"}], \"heatmapgl\": [{\"colorbar\": {\"outlinewidth\": 0, \"ticks\": \"\"}, \"colorscale\": [[0.0, \"#0d0887\"], [0.1111111111111111, \"#46039f\"], [0.2222222222222222, \"#7201a8\"], [0.3333333333333333, \"#9c179e\"], [0.4444444444444444, \"#bd3786\"], [0.5555555555555556, \"#d8576b\"], [0.6666666666666666, \"#ed7953\"], [0.7777777777777778, \"#fb9f3a\"], [0.8888888888888888, \"#fdca26\"], [1.0, \"#f0f921\"]], \"type\": \"heatmapgl\"}], \"histogram\": [{\"marker\": {\"colorbar\": {\"outlinewidth\": 0, \"ticks\": \"\"}}, \"type\": \"histogram\"}], \"histogram2d\": [{\"colorbar\": {\"outlinewidth\": 0, \"ticks\": \"\"}, \"colorscale\": [[0.0, \"#0d0887\"], [0.1111111111111111, \"#46039f\"], [0.2222222222222222, \"#7201a8\"], [0.3333333333333333, \"#9c179e\"], [0.4444444444444444, \"#bd3786\"], [0.5555555555555556, \"#d8576b\"], [0.6666666666666666, \"#ed7953\"], [0.7777777777777778, \"#fb9f3a\"], [0.8888888888888888, \"#fdca26\"], [1.0, \"#f0f921\"]], \"type\": \"histogram2d\"}], \"histogram2dcontour\": [{\"colorbar\": {\"outlinewidth\": 0, \"ticks\": \"\"}, \"colorscale\": [[0.0, \"#0d0887\"], [0.1111111111111111, \"#46039f\"], [0.2222222222222222, \"#7201a8\"], [0.3333333333333333, \"#9c179e\"], [0.4444444444444444, \"#bd3786\"], [0.5555555555555556, \"#d8576b\"], [0.6666666666666666, \"#ed7953\"], [0.7777777777777778, \"#fb9f3a\"], [0.8888888888888888, \"#fdca26\"], [1.0, \"#f0f921\"]], \"type\": \"histogram2dcontour\"}], \"mesh3d\": [{\"colorbar\": {\"outlinewidth\": 0, \"ticks\": \"\"}, \"type\": \"mesh3d\"}], \"parcoords\": [{\"line\": {\"colorbar\": {\"outlinewidth\": 0, \"ticks\": \"\"}}, \"type\": \"parcoords\"}], \"pie\": [{\"automargin\": true, \"type\": \"pie\"}], \"scatter\": [{\"marker\": {\"colorbar\": {\"outlinewidth\": 0, \"ticks\": \"\"}}, \"type\": \"scatter\"}], \"scatter3d\": [{\"line\": {\"colorbar\": {\"outlinewidth\": 0, \"ticks\": \"\"}}, \"marker\": {\"colorbar\": {\"outlinewidth\": 0, \"ticks\": \"\"}}, \"type\": \"scatter3d\"}], \"scattercarpet\": [{\"marker\": {\"colorbar\": {\"outlinewidth\": 0, \"ticks\": \"\"}}, \"type\": \"scattercarpet\"}], \"scattergeo\": [{\"marker\": {\"colorbar\": {\"outlinewidth\": 0, \"ticks\": \"\"}}, \"type\": \"scattergeo\"}], \"scattergl\": [{\"marker\": {\"colorbar\": {\"outlinewidth\": 0, \"ticks\": \"\"}}, \"type\": \"scattergl\"}], \"scattermapbox\": [{\"marker\": {\"colorbar\": {\"outlinewidth\": 0, \"ticks\": \"\"}}, \"type\": \"scattermapbox\"}], \"scatterpolar\": [{\"marker\": {\"colorbar\": {\"outlinewidth\": 0, \"ticks\": \"\"}}, \"type\": \"scatterpolar\"}], \"scatterpolargl\": [{\"marker\": {\"colorbar\": {\"outlinewidth\": 0, \"ticks\": \"\"}}, \"type\": \"scatterpolargl\"}], \"scatterternary\": [{\"marker\": {\"colorbar\": {\"outlinewidth\": 0, \"ticks\": \"\"}}, \"type\": \"scatterternary\"}], \"surface\": [{\"colorbar\": {\"outlinewidth\": 0, \"ticks\": \"\"}, \"colorscale\": [[0.0, \"#0d0887\"], [0.1111111111111111, \"#46039f\"], [0.2222222222222222, \"#7201a8\"], [0.3333333333333333, \"#9c179e\"], [0.4444444444444444, \"#bd3786\"], [0.5555555555555556, \"#d8576b\"], [0.6666666666666666, \"#ed7953\"], [0.7777777777777778, \"#fb9f3a\"], [0.8888888888888888, \"#fdca26\"], [1.0, \"#f0f921\"]], \"type\": \"surface\"}], \"table\": [{\"cells\": {\"fill\": {\"color\": \"#EBF0F8\"}, \"line\": {\"color\": \"white\"}}, \"header\": {\"fill\": {\"color\": \"#C8D4E3\"}, \"line\": {\"color\": \"white\"}}, \"type\": \"table\"}]}, \"layout\": {\"annotationdefaults\": {\"arrowcolor\": \"#2a3f5f\", \"arrowhead\": 0, \"arrowwidth\": 1}, \"coloraxis\": {\"colorbar\": {\"outlinewidth\": 0, \"ticks\": \"\"}}, \"colorscale\": {\"diverging\": [[0, \"#8e0152\"], [0.1, \"#c51b7d\"], [0.2, \"#de77ae\"], [0.3, \"#f1b6da\"], [0.4, \"#fde0ef\"], [0.5, \"#f7f7f7\"], [0.6, \"#e6f5d0\"], [0.7, \"#b8e186\"], [0.8, \"#7fbc41\"], [0.9, \"#4d9221\"], [1, \"#276419\"]], \"sequential\": [[0.0, \"#0d0887\"], [0.1111111111111111, \"#46039f\"], [0.2222222222222222, \"#7201a8\"], [0.3333333333333333, \"#9c179e\"], [0.4444444444444444, \"#bd3786\"], [0.5555555555555556, \"#d8576b\"], [0.6666666666666666, \"#ed7953\"], [0.7777777777777778, \"#fb9f3a\"], [0.8888888888888888, \"#fdca26\"], [1.0, \"#f0f921\"]], \"sequentialminus\": [[0.0, \"#0d0887\"], [0.1111111111111111, \"#46039f\"], [0.2222222222222222, \"#7201a8\"], [0.3333333333333333, \"#9c179e\"], [0.4444444444444444, \"#bd3786\"], [0.5555555555555556, \"#d8576b\"], [0.6666666666666666, \"#ed7953\"], [0.7777777777777778, \"#fb9f3a\"], [0.8888888888888888, \"#fdca26\"], [1.0, \"#f0f921\"]]}, \"colorway\": [\"#636efa\", \"#EF553B\", \"#00cc96\", \"#ab63fa\", \"#FFA15A\", \"#19d3f3\", \"#FF6692\", \"#B6E880\", \"#FF97FF\", \"#FECB52\"], \"font\": {\"color\": \"#2a3f5f\"}, \"geo\": {\"bgcolor\": \"white\", \"lakecolor\": \"white\", \"landcolor\": \"#E5ECF6\", \"showlakes\": true, \"showland\": true, \"subunitcolor\": \"white\"}, \"hoverlabel\": {\"align\": \"left\"}, \"hovermode\": \"closest\", \"mapbox\": {\"style\": \"light\"}, \"paper_bgcolor\": \"white\", \"plot_bgcolor\": \"#E5ECF6\", \"polar\": {\"angularaxis\": {\"gridcolor\": \"white\", \"linecolor\": \"white\", \"ticks\": \"\"}, \"bgcolor\": \"#E5ECF6\", \"radialaxis\": {\"gridcolor\": \"white\", \"linecolor\": \"white\", \"ticks\": \"\"}}, \"scene\": {\"xaxis\": {\"backgroundcolor\": \"#E5ECF6\", \"gridcolor\": \"white\", \"gridwidth\": 2, \"linecolor\": \"white\", \"showbackground\": true, \"ticks\": \"\", \"zerolinecolor\": \"white\"}, \"yaxis\": {\"backgroundcolor\": \"#E5ECF6\", \"gridcolor\": \"white\", \"gridwidth\": 2, \"linecolor\": \"white\", \"showbackground\": true, \"ticks\": \"\", \"zerolinecolor\": \"white\"}, \"zaxis\": {\"backgroundcolor\": \"#E5ECF6\", \"gridcolor\": \"white\", \"gridwidth\": 2, \"linecolor\": \"white\", \"showbackground\": true, \"ticks\": \"\", \"zerolinecolor\": \"white\"}}, \"shapedefaults\": {\"line\": {\"color\": \"#2a3f5f\"}}, \"ternary\": {\"aaxis\": {\"gridcolor\": \"white\", \"linecolor\": \"white\", \"ticks\": \"\"}, \"baxis\": {\"gridcolor\": \"white\", \"linecolor\": \"white\", \"ticks\": \"\"}, \"bgcolor\": \"#E5ECF6\", \"caxis\": {\"gridcolor\": \"white\", \"linecolor\": \"white\", \"ticks\": \"\"}}, \"title\": {\"x\": 0.05}, \"xaxis\": {\"automargin\": true, \"gridcolor\": \"white\", \"linecolor\": \"white\", \"ticks\": \"\", \"title\": {\"standoff\": 15}, \"zerolinecolor\": \"white\", \"zerolinewidth\": 2}, \"yaxis\": {\"automargin\": true, \"gridcolor\": \"white\", \"linecolor\": \"white\", \"ticks\": \"\", \"title\": {\"standoff\": 15}, \"zerolinecolor\": \"white\", \"zerolinewidth\": 2}}}, \"title\": {\"text\": \"Tree of Most Common Words\"}},\n",
              "                        {\"responsive\": true}\n",
              "                    ).then(function(){\n",
              "                            \n",
              "var gd = document.getElementById('25f236c7-3f6d-479d-80ee-9fc5e744f638');\n",
              "var x = new MutationObserver(function (mutations, observer) {{\n",
              "        var display = window.getComputedStyle(gd).display;\n",
              "        if (!display || display === 'none') {{\n",
              "            console.log([gd, 'removed!']);\n",
              "            Plotly.purge(gd);\n",
              "            observer.disconnect();\n",
              "        }}\n",
              "}});\n",
              "\n",
              "// Listen for the removal of the full notebook cells\n",
              "var notebookContainer = gd.closest('#notebook-container');\n",
              "if (notebookContainer) {{\n",
              "    x.observe(notebookContainer, {childList: true});\n",
              "}}\n",
              "\n",
              "// Listen for the clearing of the current output cell\n",
              "var outputEl = gd.closest('.output');\n",
              "if (outputEl) {{\n",
              "    x.observe(outputEl, {childList: true});\n",
              "}}\n",
              "\n",
              "                        })\n",
              "                };\n",
              "                \n",
              "            </script>\n",
              "        </div>\n",
              "</body>\n",
              "</html>"
            ]
          },
          "metadata": {
            "tags": []
          }
        }
      ]
    },
    {
      "cell_type": "code",
      "metadata": {
        "id": "5V3Fcjjj7-tD",
        "colab_type": "code",
        "colab": {}
      },
      "source": [
        "# 8. Finding Most common words Sentiments Wise"
      ],
      "execution_count": 46,
      "outputs": []
    },
    {
      "cell_type": "code",
      "metadata": {
        "id": "fRQ4sLWJ8-E7",
        "colab_type": "code",
        "colab": {}
      },
      "source": [
        "# Let's look at most common words in different sentiments\n",
        "# 8.1: Finding the tweet sentiment"
      ],
      "execution_count": 47,
      "outputs": []
    },
    {
      "cell_type": "code",
      "metadata": {
        "id": "_369RFrl9LF3",
        "colab_type": "code",
        "colab": {}
      },
      "source": [
        "from wordcloud import WordCloud, STOPWORDS, ImageColorGenerator\n",
        "from textblob import TextBlob\n",
        "\n",
        "def get_tweet_setiment(tweet):\n",
        "  \"\"\"\n",
        "    Utility function to classify sentiment of passed tweet using textblob's sentiment method\n",
        "  \"\"\"\n",
        "  # Create TextBlob object of passed tweet text\n",
        "  analysis = TextBlob(tweet)\n",
        "\n",
        "  # Set sentiment\n",
        "  if analysis.sentiment.polarity > 0:\n",
        "    return 'positive'\n",
        "  elif analysis.sentiment.polarity == 0:\n",
        "    return 'neutral'\n",
        "  else:\n",
        "    return 'negative'"
      ],
      "execution_count": 48,
      "outputs": []
    },
    {
      "cell_type": "code",
      "metadata": {
        "id": "9n5EMuow-_2r",
        "colab_type": "code",
        "colab": {
          "base_uri": "https://localhost:8080/",
          "height": 206
        },
        "outputId": "45d87308-e842-4ca4-b900-74f102889f2a"
      },
      "source": [
        "train['sentiment'] = train['content'].apply(lambda x: get_tweet_setiment(\" \".join(x)))\n",
        "train.head()"
      ],
      "execution_count": 49,
      "outputs": [
        {
          "output_type": "execute_result",
          "data": {
            "text/html": [
              "<div>\n",
              "<style scoped>\n",
              "    .dataframe tbody tr th:only-of-type {\n",
              "        vertical-align: middle;\n",
              "    }\n",
              "\n",
              "    .dataframe tbody tr th {\n",
              "        vertical-align: top;\n",
              "    }\n",
              "\n",
              "    .dataframe thead th {\n",
              "        text-align: right;\n",
              "    }\n",
              "</style>\n",
              "<table border=\"1\" class=\"dataframe\">\n",
              "  <thead>\n",
              "    <tr style=\"text-align: right;\">\n",
              "      <th></th>\n",
              "      <th>id</th>\n",
              "      <th>content</th>\n",
              "      <th>date</th>\n",
              "      <th>retweets</th>\n",
              "      <th>favorites</th>\n",
              "      <th>sentiment</th>\n",
              "    </tr>\n",
              "  </thead>\n",
              "  <tbody>\n",
              "    <tr>\n",
              "      <th>0</th>\n",
              "      <td>1698308935</td>\n",
              "      <td>[sur, tun, watch, donald, trump, lat, night, d...</td>\n",
              "      <td>2009-05-04 20:54:25</td>\n",
              "      <td>500</td>\n",
              "      <td>868</td>\n",
              "      <td>positive</td>\n",
              "    </tr>\n",
              "    <tr>\n",
              "      <th>1</th>\n",
              "      <td>1701461182</td>\n",
              "      <td>[donald, trump, appear, view, tomorrow, morn, ...</td>\n",
              "      <td>2009-05-05 03:00:10</td>\n",
              "      <td>33</td>\n",
              "      <td>273</td>\n",
              "      <td>positive</td>\n",
              "    </tr>\n",
              "    <tr>\n",
              "      <th>2</th>\n",
              "      <td>1737479987</td>\n",
              "      <td>[donald, trump, read, top, ten, fin, tip, lat,...</td>\n",
              "      <td>2009-05-08 15:38:08</td>\n",
              "      <td>12</td>\n",
              "      <td>18</td>\n",
              "      <td>positive</td>\n",
              "    </tr>\n",
              "    <tr>\n",
              "      <th>3</th>\n",
              "      <td>1741160716</td>\n",
              "      <td>[new, blog, post, celebr, appr, fin, lesson, l...</td>\n",
              "      <td>2009-05-08 22:40:15</td>\n",
              "      <td>11</td>\n",
              "      <td>24</td>\n",
              "      <td>positive</td>\n",
              "    </tr>\n",
              "    <tr>\n",
              "      <th>4</th>\n",
              "      <td>1773561338</td>\n",
              "      <td>[person, nev, wallflow, rath, build, wal, clin...</td>\n",
              "      <td>2009-05-12 16:07:28</td>\n",
              "      <td>1399</td>\n",
              "      <td>1965</td>\n",
              "      <td>neutral</td>\n",
              "    </tr>\n",
              "  </tbody>\n",
              "</table>\n",
              "</div>"
            ],
            "text/plain": [
              "           id  ... sentiment\n",
              "0  1698308935  ...  positive\n",
              "1  1701461182  ...  positive\n",
              "2  1737479987  ...  positive\n",
              "3  1741160716  ...  positive\n",
              "4  1773561338  ...   neutral\n",
              "\n",
              "[5 rows x 6 columns]"
            ]
          },
          "metadata": {
            "tags": []
          },
          "execution_count": 49
        }
      ]
    },
    {
      "cell_type": "code",
      "metadata": {
        "id": "biMusk5p_Z1Q",
        "colab_type": "code",
        "colab": {}
      },
      "source": [
        "Positive_sent = train[train['sentiment']=='positive']\n",
        "Negative_sent = train[train['sentiment']=='negative']\n",
        "Neutral_sent = train[train['sentiment']=='neutral']"
      ],
      "execution_count": 50,
      "outputs": []
    },
    {
      "cell_type": "code",
      "metadata": {
        "id": "3WsY3cHSDCpV",
        "colab_type": "code",
        "colab": {
          "base_uri": "https://localhost:8080/",
          "height": 72
        },
        "outputId": "cc5320d7-25b6-43ee-c07d-5ba8ec502c76"
      },
      "source": [
        "# Overall tweet sentiments\n",
        "print('Number of tweets with positive sentiment', Positive_sent['sentiment'].count())\n",
        "print('Number of tweets with negative sentiment', Negative_sent['sentiment'].count())\n",
        "print('Number of tweets with neutral sentiment', Neutral_sent['sentiment'].count())"
      ],
      "execution_count": 51,
      "outputs": [
        {
          "output_type": "stream",
          "text": [
            "Number of tweets with positive sentiment 15069\n",
            "Number of tweets with negative sentiment 6756\n",
            "Number of tweets with neutral sentiment 19297\n"
          ],
          "name": "stdout"
        }
      ]
    },
    {
      "cell_type": "code",
      "metadata": {
        "id": "G6vigq37DKJC",
        "colab_type": "code",
        "colab": {}
      },
      "source": [
        "# 8.2: Finding common words for positive sentiment tweets"
      ],
      "execution_count": 52,
      "outputs": []
    },
    {
      "cell_type": "code",
      "metadata": {
        "id": "-1E4FnuiDcvF",
        "colab_type": "code",
        "colab": {
          "base_uri": "https://localhost:8080/",
          "height": 468
        },
        "outputId": "29c1eef7-6c1f-4bd4-b19e-09bfa21f7431"
      },
      "source": [
        "# Most common positive words\n",
        "top = Counter([item for sublist in Positive_sent['content'] for item in sublist])\n",
        "temp_positive = pd.DataFrame(top.most_common(20))\n",
        "temp_positive.columns = ['Common_words','count']\n",
        "temp_positive.style.background_gradient(cmap='Greens')"
      ],
      "execution_count": 53,
      "outputs": [
        {
          "output_type": "execute_result",
          "data": {
            "text/html": [
              "<style  type=\"text/css\" >\n",
              "    #T_adee6efe_bab3_11ea_af41_0242ac1c0002row0_col1 {\n",
              "            background-color:  #00441b;\n",
              "            color:  #f1f1f1;\n",
              "        }    #T_adee6efe_bab3_11ea_af41_0242ac1c0002row1_col1 {\n",
              "            background-color:  #0b7734;\n",
              "            color:  #f1f1f1;\n",
              "        }    #T_adee6efe_bab3_11ea_af41_0242ac1c0002row2_col1 {\n",
              "            background-color:  #0b7734;\n",
              "            color:  #f1f1f1;\n",
              "        }    #T_adee6efe_bab3_11ea_af41_0242ac1c0002row3_col1 {\n",
              "            background-color:  #0d7836;\n",
              "            color:  #f1f1f1;\n",
              "        }    #T_adee6efe_bab3_11ea_af41_0242ac1c0002row4_col1 {\n",
              "            background-color:  #abdda5;\n",
              "            color:  #000000;\n",
              "        }    #T_adee6efe_bab3_11ea_af41_0242ac1c0002row5_col1 {\n",
              "            background-color:  #b0dfaa;\n",
              "            color:  #000000;\n",
              "        }    #T_adee6efe_bab3_11ea_af41_0242ac1c0002row6_col1 {\n",
              "            background-color:  #c6e8bf;\n",
              "            color:  #000000;\n",
              "        }    #T_adee6efe_bab3_11ea_af41_0242ac1c0002row7_col1 {\n",
              "            background-color:  #cbebc5;\n",
              "            color:  #000000;\n",
              "        }    #T_adee6efe_bab3_11ea_af41_0242ac1c0002row8_col1 {\n",
              "            background-color:  #d1edcb;\n",
              "            color:  #000000;\n",
              "        }    #T_adee6efe_bab3_11ea_af41_0242ac1c0002row9_col1 {\n",
              "            background-color:  #e0f3db;\n",
              "            color:  #000000;\n",
              "        }    #T_adee6efe_bab3_11ea_af41_0242ac1c0002row10_col1 {\n",
              "            background-color:  #e4f5df;\n",
              "            color:  #000000;\n",
              "        }    #T_adee6efe_bab3_11ea_af41_0242ac1c0002row11_col1 {\n",
              "            background-color:  #e5f5e0;\n",
              "            color:  #000000;\n",
              "        }    #T_adee6efe_bab3_11ea_af41_0242ac1c0002row12_col1 {\n",
              "            background-color:  #e6f5e1;\n",
              "            color:  #000000;\n",
              "        }    #T_adee6efe_bab3_11ea_af41_0242ac1c0002row13_col1 {\n",
              "            background-color:  #e7f6e3;\n",
              "            color:  #000000;\n",
              "        }    #T_adee6efe_bab3_11ea_af41_0242ac1c0002row14_col1 {\n",
              "            background-color:  #ecf8e8;\n",
              "            color:  #000000;\n",
              "        }    #T_adee6efe_bab3_11ea_af41_0242ac1c0002row15_col1 {\n",
              "            background-color:  #f0f9ec;\n",
              "            color:  #000000;\n",
              "        }    #T_adee6efe_bab3_11ea_af41_0242ac1c0002row16_col1 {\n",
              "            background-color:  #f2faef;\n",
              "            color:  #000000;\n",
              "        }    #T_adee6efe_bab3_11ea_af41_0242ac1c0002row17_col1 {\n",
              "            background-color:  #f2faf0;\n",
              "            color:  #000000;\n",
              "        }    #T_adee6efe_bab3_11ea_af41_0242ac1c0002row18_col1 {\n",
              "            background-color:  #f4fbf2;\n",
              "            color:  #000000;\n",
              "        }    #T_adee6efe_bab3_11ea_af41_0242ac1c0002row19_col1 {\n",
              "            background-color:  #f7fcf5;\n",
              "            color:  #000000;\n",
              "        }</style><table id=\"T_adee6efe_bab3_11ea_af41_0242ac1c0002\" ><thead>    <tr>        <th class=\"blank level0\" ></th>        <th class=\"col_heading level0 col0\" >Common_words</th>        <th class=\"col_heading level0 col1\" >count</th>    </tr></thead><tbody>\n",
              "                <tr>\n",
              "                        <th id=\"T_adee6efe_bab3_11ea_af41_0242ac1c0002level0_row0\" class=\"row_heading level0 row0\" >0</th>\n",
              "                        <td id=\"T_adee6efe_bab3_11ea_af41_0242ac1c0002row0_col0\" class=\"data row0 col0\" >realdonaldtrump</td>\n",
              "                        <td id=\"T_adee6efe_bab3_11ea_af41_0242ac1c0002row0_col1\" class=\"data row0 col1\" >3011</td>\n",
              "            </tr>\n",
              "            <tr>\n",
              "                        <th id=\"T_adee6efe_bab3_11ea_af41_0242ac1c0002level0_row1\" class=\"row_heading level0 row1\" >1</th>\n",
              "                        <td id=\"T_adee6efe_bab3_11ea_af41_0242ac1c0002row1_col0\" class=\"data row1 col0\" >gre</td>\n",
              "                        <td id=\"T_adee6efe_bab3_11ea_af41_0242ac1c0002row1_col1\" class=\"data row1 col1\" >2651</td>\n",
              "            </tr>\n",
              "            <tr>\n",
              "                        <th id=\"T_adee6efe_bab3_11ea_af41_0242ac1c0002level0_row2\" class=\"row_heading level0 row2\" >2</th>\n",
              "                        <td id=\"T_adee6efe_bab3_11ea_af41_0242ac1c0002row2_col0\" class=\"data row2 col0\" >new</td>\n",
              "                        <td id=\"T_adee6efe_bab3_11ea_af41_0242ac1c0002row2_col1\" class=\"data row2 col1\" >2650</td>\n",
              "            </tr>\n",
              "            <tr>\n",
              "                        <th id=\"T_adee6efe_bab3_11ea_af41_0242ac1c0002level0_row3\" class=\"row_heading level0 row3\" >3</th>\n",
              "                        <td id=\"T_adee6efe_bab3_11ea_af41_0242ac1c0002row3_col0\" class=\"data row3 col0\" >trump</td>\n",
              "                        <td id=\"T_adee6efe_bab3_11ea_af41_0242ac1c0002row3_col1\" class=\"data row3 col1\" >2637</td>\n",
              "            </tr>\n",
              "            <tr>\n",
              "                        <th id=\"T_adee6efe_bab3_11ea_af41_0242ac1c0002level0_row4\" class=\"row_heading level0 row4\" >4</th>\n",
              "                        <td id=\"T_adee6efe_bab3_11ea_af41_0242ac1c0002row4_col0\" class=\"data row4 col0\" >good</td>\n",
              "                        <td id=\"T_adee6efe_bab3_11ea_af41_0242ac1c0002row4_col1\" class=\"data row4 col1\" >1593</td>\n",
              "            </tr>\n",
              "            <tr>\n",
              "                        <th id=\"T_adee6efe_bab3_11ea_af41_0242ac1c0002level0_row5\" class=\"row_heading level0 row5\" >5</th>\n",
              "                        <td id=\"T_adee6efe_bab3_11ea_af41_0242ac1c0002row5_col0\" class=\"data row5 col0\" >thank</td>\n",
              "                        <td id=\"T_adee6efe_bab3_11ea_af41_0242ac1c0002row5_col1\" class=\"data row5 col1\" >1563</td>\n",
              "            </tr>\n",
              "            <tr>\n",
              "                        <th id=\"T_adee6efe_bab3_11ea_af41_0242ac1c0002level0_row6\" class=\"row_heading level0 row6\" >6</th>\n",
              "                        <td id=\"T_adee6efe_bab3_11ea_af41_0242ac1c0002row6_col0\" class=\"data row6 col0\" >win</td>\n",
              "                        <td id=\"T_adee6efe_bab3_11ea_af41_0242ac1c0002row6_col1\" class=\"data row6 col1\" >1409</td>\n",
              "            </tr>\n",
              "            <tr>\n",
              "                        <th id=\"T_adee6efe_bab3_11ea_af41_0242ac1c0002level0_row7\" class=\"row_heading level0 row7\" >7</th>\n",
              "                        <td id=\"T_adee6efe_bab3_11ea_af41_0242ac1c0002row7_col0\" class=\"data row7 col0\" >presid</td>\n",
              "                        <td id=\"T_adee6efe_bab3_11ea_af41_0242ac1c0002row7_col1\" class=\"data row7 col1\" >1360</td>\n",
              "            </tr>\n",
              "            <tr>\n",
              "                        <th id=\"T_adee6efe_bab3_11ea_af41_0242ac1c0002level0_row8\" class=\"row_heading level0 row8\" >8</th>\n",
              "                        <td id=\"T_adee6efe_bab3_11ea_af41_0242ac1c0002row8_col0\" class=\"data row8 col0\" >real</td>\n",
              "                        <td id=\"T_adee6efe_bab3_11ea_af41_0242ac1c0002row8_col1\" class=\"data row8 col1\" >1304</td>\n",
              "            </tr>\n",
              "            <tr>\n",
              "                        <th id=\"T_adee6efe_bab3_11ea_af41_0242ac1c0002level0_row9\" class=\"row_heading level0 row9\" >9</th>\n",
              "                        <td id=\"T_adee6efe_bab3_11ea_af41_0242ac1c0002row9_col0\" class=\"data row9 col0\" >twit</td>\n",
              "                        <td id=\"T_adee6efe_bab3_11ea_af41_0242ac1c0002row9_col1\" class=\"data row9 col1\" >1170</td>\n",
              "            </tr>\n",
              "            <tr>\n",
              "                        <th id=\"T_adee6efe_bab3_11ea_af41_0242ac1c0002level0_row10\" class=\"row_heading level0 row10\" >10</th>\n",
              "                        <td id=\"T_adee6efe_bab3_11ea_af41_0242ac1c0002row10_col0\" class=\"data row10 col0\" >peopl</td>\n",
              "                        <td id=\"T_adee6efe_bab3_11ea_af41_0242ac1c0002row10_col1\" class=\"data row10 col1\" >1141</td>\n",
              "            </tr>\n",
              "            <tr>\n",
              "                        <th id=\"T_adee6efe_bab3_11ea_af41_0242ac1c0002level0_row11\" class=\"row_heading level0 row11\" >11</th>\n",
              "                        <td id=\"T_adee6efe_bab3_11ea_af41_0242ac1c0002row11_col0\" class=\"data row11 col0\" >many</td>\n",
              "                        <td id=\"T_adee6efe_bab3_11ea_af41_0242ac1c0002row11_col1\" class=\"data row11 col1\" >1132</td>\n",
              "            </tr>\n",
              "            <tr>\n",
              "                        <th id=\"T_adee6efe_bab3_11ea_af41_0242ac1c0002level0_row12\" class=\"row_heading level0 row12\" >12</th>\n",
              "                        <td id=\"T_adee6efe_bab3_11ea_af41_0242ac1c0002row12_col0\" class=\"data row12 col0\" >get</td>\n",
              "                        <td id=\"T_adee6efe_bab3_11ea_af41_0242ac1c0002row12_col1\" class=\"data row12 col1\" >1109</td>\n",
              "            </tr>\n",
              "            <tr>\n",
              "                        <th id=\"T_adee6efe_bab3_11ea_af41_0242ac1c0002level0_row13\" class=\"row_heading level0 row13\" >13</th>\n",
              "                        <td id=\"T_adee6efe_bab3_11ea_af41_0242ac1c0002row13_col0\" class=\"data row13 col0\" >best</td>\n",
              "                        <td id=\"T_adee6efe_bab3_11ea_af41_0242ac1c0002row13_col1\" class=\"data row13 col1\" >1094</td>\n",
              "            </tr>\n",
              "            <tr>\n",
              "                        <th id=\"T_adee6efe_bab3_11ea_af41_0242ac1c0002level0_row14\" class=\"row_heading level0 row14\" >14</th>\n",
              "                        <td id=\"T_adee6efe_bab3_11ea_af41_0242ac1c0002row14_col0\" class=\"data row14 col0\" >stat</td>\n",
              "                        <td id=\"T_adee6efe_bab3_11ea_af41_0242ac1c0002row14_col1\" class=\"data row14 col1\" >1023</td>\n",
              "            </tr>\n",
              "            <tr>\n",
              "                        <th id=\"T_adee6efe_bab3_11ea_af41_0242ac1c0002level0_row15\" class=\"row_heading level0 row15\" >15</th>\n",
              "                        <td id=\"T_adee6efe_bab3_11ea_af41_0242ac1c0002row15_col0\" class=\"data row15 col0\" >country</td>\n",
              "                        <td id=\"T_adee6efe_bab3_11ea_af41_0242ac1c0002row15_col1\" class=\"data row15 col1\" >967</td>\n",
              "            </tr>\n",
              "            <tr>\n",
              "                        <th id=\"T_adee6efe_bab3_11ea_af41_0242ac1c0002level0_row16\" class=\"row_heading level0 row16\" >16</th>\n",
              "                        <td id=\"T_adee6efe_bab3_11ea_af41_0242ac1c0002row16_col0\" class=\"data row16 col0\" >tim</td>\n",
              "                        <td id=\"T_adee6efe_bab3_11ea_af41_0242ac1c0002row16_col1\" class=\"data row16 col1\" >938</td>\n",
              "            </tr>\n",
              "            <tr>\n",
              "                        <th id=\"T_adee6efe_bab3_11ea_af41_0242ac1c0002level0_row17\" class=\"row_heading level0 row17\" >17</th>\n",
              "                        <td id=\"T_adee6efe_bab3_11ea_af41_0242ac1c0002row17_col0\" class=\"data row17 col0\" >much</td>\n",
              "                        <td id=\"T_adee6efe_bab3_11ea_af41_0242ac1c0002row17_col1\" class=\"data row17 col1\" >927</td>\n",
              "            </tr>\n",
              "            <tr>\n",
              "                        <th id=\"T_adee6efe_bab3_11ea_af41_0242ac1c0002level0_row18\" class=\"row_heading level0 row18\" >18</th>\n",
              "                        <td id=\"T_adee6efe_bab3_11ea_af41_0242ac1c0002row18_col0\" class=\"data row18 col0\" >donald</td>\n",
              "                        <td id=\"T_adee6efe_bab3_11ea_af41_0242ac1c0002row18_col1\" class=\"data row18 col1\" >900</td>\n",
              "            </tr>\n",
              "            <tr>\n",
              "                        <th id=\"T_adee6efe_bab3_11ea_af41_0242ac1c0002level0_row19\" class=\"row_heading level0 row19\" >19</th>\n",
              "                        <td id=\"T_adee6efe_bab3_11ea_af41_0242ac1c0002row19_col0\" class=\"data row19 col0\" >elect</td>\n",
              "                        <td id=\"T_adee6efe_bab3_11ea_af41_0242ac1c0002row19_col1\" class=\"data row19 col1\" >856</td>\n",
              "            </tr>\n",
              "    </tbody></table>"
            ],
            "text/plain": [
              "<pandas.io.formats.style.Styler at 0x7f75e4aa63c8>"
            ]
          },
          "metadata": {
            "tags": []
          },
          "execution_count": 53
        }
      ]
    },
    {
      "cell_type": "code",
      "metadata": {
        "id": "ZoHnnnlOE91v",
        "colab_type": "code",
        "colab": {}
      },
      "source": [
        "# Since we have words like 's', 'gre' or many more which do not really mean anything, we will remove them and find the most common words."
      ],
      "execution_count": 54,
      "outputs": []
    },
    {
      "cell_type": "code",
      "metadata": {
        "id": "GonfwfsDFSWZ",
        "colab_type": "code",
        "colab": {
          "base_uri": "https://localhost:8080/",
          "height": 510
        },
        "outputId": "e35fcfb5-4565-4cb3-f33b-df0b9820313a"
      },
      "source": [
        "import numpy as np \n",
        "top = Counter([item for sublist in Positive_sent['content'] for item in sublist])\n",
        "temp_positive = pd.DataFrame(top.most_common(23))\n",
        "temp_positive.columns = ['Common_words','count']\n",
        "temp_positive['Common_words'] = temp_positive['Common_words'].map(lambda x: re.sub(r'\\W+','',x))\n",
        "temp_positive['Common_words'] = temp_positive['Common_words'].replace(r'\\W+','',regex=True)\n",
        "temp_positive['Common_words'] = temp_positive['Common_words'].apply(lambda x: remove_spaces(x))\n",
        "temp_positive = temp_positive[~temp_positive['Common_words'].isin(['s','gre','\"',' * '])] # New line removing meaningless words\n",
        "mask1 = temp_positive.Common_words.str.contains('[a-zA-Z]')\n",
        "mask2 = temp_positive.Common_words.notna()\n",
        "temp_positive = temp_positive[mask1 | mask2]\n",
        "temp_positive.Common_words = temp_positive.Common_words.str.replace(r\"\\s+\",\"\").replace(\"\",np.NaN)\n",
        "temp_positive = temp_positive.dropna()\n",
        "\n",
        "temp_positive.style.background_gradient(cmap = 'Greens')"
      ],
      "execution_count": 60,
      "outputs": [
        {
          "output_type": "execute_result",
          "data": {
            "text/html": [
              "<style  type=\"text/css\" >\n",
              "    #T_81efd638_bab5_11ea_af41_0242ac1c0002row0_col1 {\n",
              "            background-color:  #00441b;\n",
              "            color:  #f1f1f1;\n",
              "        }    #T_81efd638_bab5_11ea_af41_0242ac1c0002row1_col1 {\n",
              "            background-color:  #0a7633;\n",
              "            color:  #f1f1f1;\n",
              "        }    #T_81efd638_bab5_11ea_af41_0242ac1c0002row2_col1 {\n",
              "            background-color:  #0b7734;\n",
              "            color:  #f1f1f1;\n",
              "        }    #T_81efd638_bab5_11ea_af41_0242ac1c0002row3_col1 {\n",
              "            background-color:  #a5db9f;\n",
              "            color:  #000000;\n",
              "        }    #T_81efd638_bab5_11ea_af41_0242ac1c0002row4_col1 {\n",
              "            background-color:  #a9dca3;\n",
              "            color:  #000000;\n",
              "        }    #T_81efd638_bab5_11ea_af41_0242ac1c0002row5_col1 {\n",
              "            background-color:  #bee5b8;\n",
              "            color:  #000000;\n",
              "        }    #T_81efd638_bab5_11ea_af41_0242ac1c0002row6_col1 {\n",
              "            background-color:  #c4e8bd;\n",
              "            color:  #000000;\n",
              "        }    #T_81efd638_bab5_11ea_af41_0242ac1c0002row7_col1 {\n",
              "            background-color:  #cbebc5;\n",
              "            color:  #000000;\n",
              "        }    #T_81efd638_bab5_11ea_af41_0242ac1c0002row8_col1 {\n",
              "            background-color:  #daf0d4;\n",
              "            color:  #000000;\n",
              "        }    #T_81efd638_bab5_11ea_af41_0242ac1c0002row9_col1 {\n",
              "            background-color:  #dcf2d7;\n",
              "            color:  #000000;\n",
              "        }    #T_81efd638_bab5_11ea_af41_0242ac1c0002row10_col1 {\n",
              "            background-color:  #ddf2d8;\n",
              "            color:  #000000;\n",
              "        }    #T_81efd638_bab5_11ea_af41_0242ac1c0002row11_col1 {\n",
              "            background-color:  #e0f3db;\n",
              "            color:  #000000;\n",
              "        }    #T_81efd638_bab5_11ea_af41_0242ac1c0002row12_col1 {\n",
              "            background-color:  #e2f4dd;\n",
              "            color:  #000000;\n",
              "        }    #T_81efd638_bab5_11ea_af41_0242ac1c0002row13_col1 {\n",
              "            background-color:  #e8f6e3;\n",
              "            color:  #000000;\n",
              "        }    #T_81efd638_bab5_11ea_af41_0242ac1c0002row14_col1 {\n",
              "            background-color:  #ebf7e7;\n",
              "            color:  #000000;\n",
              "        }    #T_81efd638_bab5_11ea_af41_0242ac1c0002row15_col1 {\n",
              "            background-color:  #edf8ea;\n",
              "            color:  #000000;\n",
              "        }    #T_81efd638_bab5_11ea_af41_0242ac1c0002row16_col1 {\n",
              "            background-color:  #eef8ea;\n",
              "            color:  #000000;\n",
              "        }    #T_81efd638_bab5_11ea_af41_0242ac1c0002row17_col1 {\n",
              "            background-color:  #f0f9ec;\n",
              "            color:  #000000;\n",
              "        }    #T_81efd638_bab5_11ea_af41_0242ac1c0002row18_col1 {\n",
              "            background-color:  #f2faf0;\n",
              "            color:  #000000;\n",
              "        }    #T_81efd638_bab5_11ea_af41_0242ac1c0002row19_col1 {\n",
              "            background-color:  #f4fbf1;\n",
              "            color:  #000000;\n",
              "        }    #T_81efd638_bab5_11ea_af41_0242ac1c0002row20_col1 {\n",
              "            background-color:  #f4fbf2;\n",
              "            color:  #000000;\n",
              "        }    #T_81efd638_bab5_11ea_af41_0242ac1c0002row21_col1 {\n",
              "            background-color:  #f7fcf5;\n",
              "            color:  #000000;\n",
              "        }</style><table id=\"T_81efd638_bab5_11ea_af41_0242ac1c0002\" ><thead>    <tr>        <th class=\"blank level0\" ></th>        <th class=\"col_heading level0 col0\" >Common_words</th>        <th class=\"col_heading level0 col1\" >count</th>    </tr></thead><tbody>\n",
              "                <tr>\n",
              "                        <th id=\"T_81efd638_bab5_11ea_af41_0242ac1c0002level0_row0\" class=\"row_heading level0 row0\" >0</th>\n",
              "                        <td id=\"T_81efd638_bab5_11ea_af41_0242ac1c0002row0_col0\" class=\"data row0 col0\" >realdonaldtrump</td>\n",
              "                        <td id=\"T_81efd638_bab5_11ea_af41_0242ac1c0002row0_col1\" class=\"data row0 col1\" >3011</td>\n",
              "            </tr>\n",
              "            <tr>\n",
              "                        <th id=\"T_81efd638_bab5_11ea_af41_0242ac1c0002level0_row1\" class=\"row_heading level0 row1\" >2</th>\n",
              "                        <td id=\"T_81efd638_bab5_11ea_af41_0242ac1c0002row1_col0\" class=\"data row1 col0\" >new</td>\n",
              "                        <td id=\"T_81efd638_bab5_11ea_af41_0242ac1c0002row1_col1\" class=\"data row1 col1\" >2650</td>\n",
              "            </tr>\n",
              "            <tr>\n",
              "                        <th id=\"T_81efd638_bab5_11ea_af41_0242ac1c0002level0_row2\" class=\"row_heading level0 row2\" >3</th>\n",
              "                        <td id=\"T_81efd638_bab5_11ea_af41_0242ac1c0002row2_col0\" class=\"data row2 col0\" >trump</td>\n",
              "                        <td id=\"T_81efd638_bab5_11ea_af41_0242ac1c0002row2_col1\" class=\"data row2 col1\" >2637</td>\n",
              "            </tr>\n",
              "            <tr>\n",
              "                        <th id=\"T_81efd638_bab5_11ea_af41_0242ac1c0002level0_row3\" class=\"row_heading level0 row3\" >4</th>\n",
              "                        <td id=\"T_81efd638_bab5_11ea_af41_0242ac1c0002row3_col0\" class=\"data row3 col0\" >good</td>\n",
              "                        <td id=\"T_81efd638_bab5_11ea_af41_0242ac1c0002row3_col1\" class=\"data row3 col1\" >1593</td>\n",
              "            </tr>\n",
              "            <tr>\n",
              "                        <th id=\"T_81efd638_bab5_11ea_af41_0242ac1c0002level0_row4\" class=\"row_heading level0 row4\" >5</th>\n",
              "                        <td id=\"T_81efd638_bab5_11ea_af41_0242ac1c0002row4_col0\" class=\"data row4 col0\" >thank</td>\n",
              "                        <td id=\"T_81efd638_bab5_11ea_af41_0242ac1c0002row4_col1\" class=\"data row4 col1\" >1563</td>\n",
              "            </tr>\n",
              "            <tr>\n",
              "                        <th id=\"T_81efd638_bab5_11ea_af41_0242ac1c0002level0_row5\" class=\"row_heading level0 row5\" >6</th>\n",
              "                        <td id=\"T_81efd638_bab5_11ea_af41_0242ac1c0002row5_col0\" class=\"data row5 col0\" >win</td>\n",
              "                        <td id=\"T_81efd638_bab5_11ea_af41_0242ac1c0002row5_col1\" class=\"data row5 col1\" >1409</td>\n",
              "            </tr>\n",
              "            <tr>\n",
              "                        <th id=\"T_81efd638_bab5_11ea_af41_0242ac1c0002level0_row6\" class=\"row_heading level0 row6\" >7</th>\n",
              "                        <td id=\"T_81efd638_bab5_11ea_af41_0242ac1c0002row6_col0\" class=\"data row6 col0\" >presid</td>\n",
              "                        <td id=\"T_81efd638_bab5_11ea_af41_0242ac1c0002row6_col1\" class=\"data row6 col1\" >1360</td>\n",
              "            </tr>\n",
              "            <tr>\n",
              "                        <th id=\"T_81efd638_bab5_11ea_af41_0242ac1c0002level0_row7\" class=\"row_heading level0 row7\" >8</th>\n",
              "                        <td id=\"T_81efd638_bab5_11ea_af41_0242ac1c0002row7_col0\" class=\"data row7 col0\" >real</td>\n",
              "                        <td id=\"T_81efd638_bab5_11ea_af41_0242ac1c0002row7_col1\" class=\"data row7 col1\" >1304</td>\n",
              "            </tr>\n",
              "            <tr>\n",
              "                        <th id=\"T_81efd638_bab5_11ea_af41_0242ac1c0002level0_row8\" class=\"row_heading level0 row8\" >9</th>\n",
              "                        <td id=\"T_81efd638_bab5_11ea_af41_0242ac1c0002row8_col0\" class=\"data row8 col0\" >twit</td>\n",
              "                        <td id=\"T_81efd638_bab5_11ea_af41_0242ac1c0002row8_col1\" class=\"data row8 col1\" >1170</td>\n",
              "            </tr>\n",
              "            <tr>\n",
              "                        <th id=\"T_81efd638_bab5_11ea_af41_0242ac1c0002level0_row9\" class=\"row_heading level0 row9\" >10</th>\n",
              "                        <td id=\"T_81efd638_bab5_11ea_af41_0242ac1c0002row9_col0\" class=\"data row9 col0\" >peopl</td>\n",
              "                        <td id=\"T_81efd638_bab5_11ea_af41_0242ac1c0002row9_col1\" class=\"data row9 col1\" >1141</td>\n",
              "            </tr>\n",
              "            <tr>\n",
              "                        <th id=\"T_81efd638_bab5_11ea_af41_0242ac1c0002level0_row10\" class=\"row_heading level0 row10\" >11</th>\n",
              "                        <td id=\"T_81efd638_bab5_11ea_af41_0242ac1c0002row10_col0\" class=\"data row10 col0\" >many</td>\n",
              "                        <td id=\"T_81efd638_bab5_11ea_af41_0242ac1c0002row10_col1\" class=\"data row10 col1\" >1132</td>\n",
              "            </tr>\n",
              "            <tr>\n",
              "                        <th id=\"T_81efd638_bab5_11ea_af41_0242ac1c0002level0_row11\" class=\"row_heading level0 row11\" >12</th>\n",
              "                        <td id=\"T_81efd638_bab5_11ea_af41_0242ac1c0002row11_col0\" class=\"data row11 col0\" >get</td>\n",
              "                        <td id=\"T_81efd638_bab5_11ea_af41_0242ac1c0002row11_col1\" class=\"data row11 col1\" >1109</td>\n",
              "            </tr>\n",
              "            <tr>\n",
              "                        <th id=\"T_81efd638_bab5_11ea_af41_0242ac1c0002level0_row12\" class=\"row_heading level0 row12\" >13</th>\n",
              "                        <td id=\"T_81efd638_bab5_11ea_af41_0242ac1c0002row12_col0\" class=\"data row12 col0\" >best</td>\n",
              "                        <td id=\"T_81efd638_bab5_11ea_af41_0242ac1c0002row12_col1\" class=\"data row12 col1\" >1094</td>\n",
              "            </tr>\n",
              "            <tr>\n",
              "                        <th id=\"T_81efd638_bab5_11ea_af41_0242ac1c0002level0_row13\" class=\"row_heading level0 row13\" >14</th>\n",
              "                        <td id=\"T_81efd638_bab5_11ea_af41_0242ac1c0002row13_col0\" class=\"data row13 col0\" >stat</td>\n",
              "                        <td id=\"T_81efd638_bab5_11ea_af41_0242ac1c0002row13_col1\" class=\"data row13 col1\" >1023</td>\n",
              "            </tr>\n",
              "            <tr>\n",
              "                        <th id=\"T_81efd638_bab5_11ea_af41_0242ac1c0002level0_row14\" class=\"row_heading level0 row14\" >15</th>\n",
              "                        <td id=\"T_81efd638_bab5_11ea_af41_0242ac1c0002row14_col0\" class=\"data row14 col0\" >country</td>\n",
              "                        <td id=\"T_81efd638_bab5_11ea_af41_0242ac1c0002row14_col1\" class=\"data row14 col1\" >967</td>\n",
              "            </tr>\n",
              "            <tr>\n",
              "                        <th id=\"T_81efd638_bab5_11ea_af41_0242ac1c0002level0_row15\" class=\"row_heading level0 row15\" >16</th>\n",
              "                        <td id=\"T_81efd638_bab5_11ea_af41_0242ac1c0002row15_col0\" class=\"data row15 col0\" >tim</td>\n",
              "                        <td id=\"T_81efd638_bab5_11ea_af41_0242ac1c0002row15_col1\" class=\"data row15 col1\" >938</td>\n",
              "            </tr>\n",
              "            <tr>\n",
              "                        <th id=\"T_81efd638_bab5_11ea_af41_0242ac1c0002level0_row16\" class=\"row_heading level0 row16\" >17</th>\n",
              "                        <td id=\"T_81efd638_bab5_11ea_af41_0242ac1c0002row16_col0\" class=\"data row16 col0\" >much</td>\n",
              "                        <td id=\"T_81efd638_bab5_11ea_af41_0242ac1c0002row16_col1\" class=\"data row16 col1\" >927</td>\n",
              "            </tr>\n",
              "            <tr>\n",
              "                        <th id=\"T_81efd638_bab5_11ea_af41_0242ac1c0002level0_row17\" class=\"row_heading level0 row17\" >18</th>\n",
              "                        <td id=\"T_81efd638_bab5_11ea_af41_0242ac1c0002row17_col0\" class=\"data row17 col0\" >donald</td>\n",
              "                        <td id=\"T_81efd638_bab5_11ea_af41_0242ac1c0002row17_col1\" class=\"data row17 col1\" >900</td>\n",
              "            </tr>\n",
              "            <tr>\n",
              "                        <th id=\"T_81efd638_bab5_11ea_af41_0242ac1c0002level0_row18\" class=\"row_heading level0 row18\" >19</th>\n",
              "                        <td id=\"T_81efd638_bab5_11ea_af41_0242ac1c0002row18_col0\" class=\"data row18 col0\" >elect</td>\n",
              "                        <td id=\"T_81efd638_bab5_11ea_af41_0242ac1c0002row18_col1\" class=\"data row18 col1\" >856</td>\n",
              "            </tr>\n",
              "            <tr>\n",
              "                        <th id=\"T_81efd638_bab5_11ea_af41_0242ac1c0002level0_row19\" class=\"row_heading level0 row19\" >20</th>\n",
              "                        <td id=\"T_81efd638_bab5_11ea_af41_0242ac1c0002row19_col0\" class=\"data row19 col0\" >big</td>\n",
              "                        <td id=\"T_81efd638_bab5_11ea_af41_0242ac1c0002row19_col1\" class=\"data row19 col1\" >844</td>\n",
              "            </tr>\n",
              "            <tr>\n",
              "                        <th id=\"T_81efd638_bab5_11ea_af41_0242ac1c0002level0_row20\" class=\"row_heading level0 row20\" >21</th>\n",
              "                        <td id=\"T_81efd638_bab5_11ea_af41_0242ac1c0002row20_col0\" class=\"data row20 col0\" >mak</td>\n",
              "                        <td id=\"T_81efd638_bab5_11ea_af41_0242ac1c0002row20_col1\" class=\"data row20 col1\" >831</td>\n",
              "            </tr>\n",
              "            <tr>\n",
              "                        <th id=\"T_81efd638_bab5_11ea_af41_0242ac1c0002level0_row21\" class=\"row_heading level0 row21\" >22</th>\n",
              "                        <td id=\"T_81efd638_bab5_11ea_af41_0242ac1c0002row21_col0\" class=\"data row21 col0\" >lik</td>\n",
              "                        <td id=\"T_81efd638_bab5_11ea_af41_0242ac1c0002row21_col1\" class=\"data row21 col1\" >784</td>\n",
              "            </tr>\n",
              "    </tbody></table>"
            ],
            "text/plain": [
              "<pandas.io.formats.style.Styler at 0x7f75e4ae5b00>"
            ]
          },
          "metadata": {
            "tags": []
          },
          "execution_count": 60
        }
      ]
    },
    {
      "cell_type": "code",
      "metadata": {
        "id": "7ice08aVlz5m",
        "colab_type": "code",
        "colab": {
          "base_uri": "https://localhost:8080/",
          "height": 717
        },
        "outputId": "4b194c72-826f-48ea-940b-ee3df2434263"
      },
      "source": [
        "# Most Common Words in Positive Sentiment Tweets\n",
        "fig = px.bar(temp_positive,x='count',y='Common_words', title='Most Common Words in Positive Sentiment Tweets', orientation='h',width=700,height=700,color='Common_words')\n",
        "\n",
        "fig.show()\n"
      ],
      "execution_count": 61,
      "outputs": [
        {
          "output_type": "display_data",
          "data": {
            "text/html": [
              "<html>\n",
              "<head><meta charset=\"utf-8\" /></head>\n",
              "<body>\n",
              "    <div>\n",
              "            <script src=\"https://cdnjs.cloudflare.com/ajax/libs/mathjax/2.7.5/MathJax.js?config=TeX-AMS-MML_SVG\"></script><script type=\"text/javascript\">if (window.MathJax) {MathJax.Hub.Config({SVG: {font: \"STIX-Web\"}});}</script>\n",
              "                <script type=\"text/javascript\">window.PlotlyConfig = {MathJaxConfig: 'local'};</script>\n",
              "        <script src=\"https://cdn.plot.ly/plotly-latest.min.js\"></script>    \n",
              "            <div id=\"77e76073-a710-43e2-9729-8d81bb89554a\" class=\"plotly-graph-div\" style=\"height:700px; width:700px;\"></div>\n",
              "            <script type=\"text/javascript\">\n",
              "                \n",
              "                    window.PLOTLYENV=window.PLOTLYENV || {};\n",
              "                    \n",
              "                if (document.getElementById(\"77e76073-a710-43e2-9729-8d81bb89554a\")) {\n",
              "                    Plotly.newPlot(\n",
              "                        '77e76073-a710-43e2-9729-8d81bb89554a',\n",
              "                        [{\"alignmentgroup\": \"True\", \"hovertemplate\": \"Common_words=%{y}<br>count=%{x}<extra></extra>\", \"legendgroup\": \"realdonaldtrump\", \"marker\": {\"color\": \"#636efa\"}, \"name\": \"realdonaldtrump\", \"offsetgroup\": \"realdonaldtrump\", \"orientation\": \"h\", \"showlegend\": true, \"textposition\": \"auto\", \"type\": \"bar\", \"x\": [3011], \"xaxis\": \"x\", \"y\": [\"realdonaldtrump\"], \"yaxis\": \"y\"}, {\"alignmentgroup\": \"True\", \"hovertemplate\": \"Common_words=%{y}<br>count=%{x}<extra></extra>\", \"legendgroup\": \"new\", \"marker\": {\"color\": \"#EF553B\"}, \"name\": \"new\", \"offsetgroup\": \"new\", \"orientation\": \"h\", \"showlegend\": true, \"textposition\": \"auto\", \"type\": \"bar\", \"x\": [2650], \"xaxis\": \"x\", \"y\": [\"new\"], \"yaxis\": \"y\"}, {\"alignmentgroup\": \"True\", \"hovertemplate\": \"Common_words=%{y}<br>count=%{x}<extra></extra>\", \"legendgroup\": \"trump\", \"marker\": {\"color\": \"#00cc96\"}, \"name\": \"trump\", \"offsetgroup\": \"trump\", \"orientation\": \"h\", \"showlegend\": true, \"textposition\": \"auto\", \"type\": \"bar\", \"x\": [2637], \"xaxis\": \"x\", \"y\": [\"trump\"], \"yaxis\": \"y\"}, {\"alignmentgroup\": \"True\", \"hovertemplate\": \"Common_words=%{y}<br>count=%{x}<extra></extra>\", \"legendgroup\": \"good\", \"marker\": {\"color\": \"#ab63fa\"}, \"name\": \"good\", \"offsetgroup\": \"good\", \"orientation\": \"h\", \"showlegend\": true, \"textposition\": \"auto\", \"type\": \"bar\", \"x\": [1593], \"xaxis\": \"x\", \"y\": [\"good\"], \"yaxis\": \"y\"}, {\"alignmentgroup\": \"True\", \"hovertemplate\": \"Common_words=%{y}<br>count=%{x}<extra></extra>\", \"legendgroup\": \"thank\", \"marker\": {\"color\": \"#FFA15A\"}, \"name\": \"thank\", \"offsetgroup\": \"thank\", \"orientation\": \"h\", \"showlegend\": true, \"textposition\": \"auto\", \"type\": \"bar\", \"x\": [1563], \"xaxis\": \"x\", \"y\": [\"thank\"], \"yaxis\": \"y\"}, {\"alignmentgroup\": \"True\", \"hovertemplate\": \"Common_words=%{y}<br>count=%{x}<extra></extra>\", \"legendgroup\": \"win\", \"marker\": {\"color\": \"#19d3f3\"}, \"name\": \"win\", \"offsetgroup\": \"win\", \"orientation\": \"h\", \"showlegend\": true, \"textposition\": \"auto\", \"type\": \"bar\", \"x\": [1409], \"xaxis\": \"x\", \"y\": [\"win\"], \"yaxis\": \"y\"}, {\"alignmentgroup\": \"True\", \"hovertemplate\": \"Common_words=%{y}<br>count=%{x}<extra></extra>\", \"legendgroup\": \"presid\", \"marker\": {\"color\": \"#FF6692\"}, \"name\": \"presid\", \"offsetgroup\": \"presid\", \"orientation\": \"h\", \"showlegend\": true, \"textposition\": \"auto\", \"type\": \"bar\", \"x\": [1360], \"xaxis\": \"x\", \"y\": [\"presid\"], \"yaxis\": \"y\"}, {\"alignmentgroup\": \"True\", \"hovertemplate\": \"Common_words=%{y}<br>count=%{x}<extra></extra>\", \"legendgroup\": \"real\", \"marker\": {\"color\": \"#B6E880\"}, \"name\": \"real\", \"offsetgroup\": \"real\", \"orientation\": \"h\", \"showlegend\": true, \"textposition\": \"auto\", \"type\": \"bar\", \"x\": [1304], \"xaxis\": \"x\", \"y\": [\"real\"], \"yaxis\": \"y\"}, {\"alignmentgroup\": \"True\", \"hovertemplate\": \"Common_words=%{y}<br>count=%{x}<extra></extra>\", \"legendgroup\": \"twit\", \"marker\": {\"color\": \"#FF97FF\"}, \"name\": \"twit\", \"offsetgroup\": \"twit\", \"orientation\": \"h\", \"showlegend\": true, \"textposition\": \"auto\", \"type\": \"bar\", \"x\": [1170], \"xaxis\": \"x\", \"y\": [\"twit\"], \"yaxis\": \"y\"}, {\"alignmentgroup\": \"True\", \"hovertemplate\": \"Common_words=%{y}<br>count=%{x}<extra></extra>\", \"legendgroup\": \"peopl\", \"marker\": {\"color\": \"#FECB52\"}, \"name\": \"peopl\", \"offsetgroup\": \"peopl\", \"orientation\": \"h\", \"showlegend\": true, \"textposition\": \"auto\", \"type\": \"bar\", \"x\": [1141], \"xaxis\": \"x\", \"y\": [\"peopl\"], \"yaxis\": \"y\"}, {\"alignmentgroup\": \"True\", \"hovertemplate\": \"Common_words=%{y}<br>count=%{x}<extra></extra>\", \"legendgroup\": \"many\", \"marker\": {\"color\": \"#636efa\"}, \"name\": \"many\", \"offsetgroup\": \"many\", \"orientation\": \"h\", \"showlegend\": true, \"textposition\": \"auto\", \"type\": \"bar\", \"x\": [1132], \"xaxis\": \"x\", \"y\": [\"many\"], \"yaxis\": \"y\"}, {\"alignmentgroup\": \"True\", \"hovertemplate\": \"Common_words=%{y}<br>count=%{x}<extra></extra>\", \"legendgroup\": \"get\", \"marker\": {\"color\": \"#EF553B\"}, \"name\": \"get\", \"offsetgroup\": \"get\", \"orientation\": \"h\", \"showlegend\": true, \"textposition\": \"auto\", \"type\": \"bar\", \"x\": [1109], \"xaxis\": \"x\", \"y\": [\"get\"], \"yaxis\": \"y\"}, {\"alignmentgroup\": \"True\", \"hovertemplate\": \"Common_words=%{y}<br>count=%{x}<extra></extra>\", \"legendgroup\": \"best\", \"marker\": {\"color\": \"#00cc96\"}, \"name\": \"best\", \"offsetgroup\": \"best\", \"orientation\": \"h\", \"showlegend\": true, \"textposition\": \"auto\", \"type\": \"bar\", \"x\": [1094], \"xaxis\": \"x\", \"y\": [\"best\"], \"yaxis\": \"y\"}, {\"alignmentgroup\": \"True\", \"hovertemplate\": \"Common_words=%{y}<br>count=%{x}<extra></extra>\", \"legendgroup\": \"stat\", \"marker\": {\"color\": \"#ab63fa\"}, \"name\": \"stat\", \"offsetgroup\": \"stat\", \"orientation\": \"h\", \"showlegend\": true, \"textposition\": \"auto\", \"type\": \"bar\", \"x\": [1023], \"xaxis\": \"x\", \"y\": [\"stat\"], \"yaxis\": \"y\"}, {\"alignmentgroup\": \"True\", \"hovertemplate\": \"Common_words=%{y}<br>count=%{x}<extra></extra>\", \"legendgroup\": \"country\", \"marker\": {\"color\": \"#FFA15A\"}, \"name\": \"country\", \"offsetgroup\": \"country\", \"orientation\": \"h\", \"showlegend\": true, \"textposition\": \"auto\", \"type\": \"bar\", \"x\": [967], \"xaxis\": \"x\", \"y\": [\"country\"], \"yaxis\": \"y\"}, {\"alignmentgroup\": \"True\", \"hovertemplate\": \"Common_words=%{y}<br>count=%{x}<extra></extra>\", \"legendgroup\": \"tim\", \"marker\": {\"color\": \"#19d3f3\"}, \"name\": \"tim\", \"offsetgroup\": \"tim\", \"orientation\": \"h\", \"showlegend\": true, \"textposition\": \"auto\", \"type\": \"bar\", \"x\": [938], \"xaxis\": \"x\", \"y\": [\"tim\"], \"yaxis\": \"y\"}, {\"alignmentgroup\": \"True\", \"hovertemplate\": \"Common_words=%{y}<br>count=%{x}<extra></extra>\", \"legendgroup\": \"much\", \"marker\": {\"color\": \"#FF6692\"}, \"name\": \"much\", \"offsetgroup\": \"much\", \"orientation\": \"h\", \"showlegend\": true, \"textposition\": \"auto\", \"type\": \"bar\", \"x\": [927], \"xaxis\": \"x\", \"y\": [\"much\"], \"yaxis\": \"y\"}, {\"alignmentgroup\": \"True\", \"hovertemplate\": \"Common_words=%{y}<br>count=%{x}<extra></extra>\", \"legendgroup\": \"donald\", \"marker\": {\"color\": \"#B6E880\"}, \"name\": \"donald\", \"offsetgroup\": \"donald\", \"orientation\": \"h\", \"showlegend\": true, \"textposition\": \"auto\", \"type\": \"bar\", \"x\": [900], \"xaxis\": \"x\", \"y\": [\"donald\"], \"yaxis\": \"y\"}, {\"alignmentgroup\": \"True\", \"hovertemplate\": \"Common_words=%{y}<br>count=%{x}<extra></extra>\", \"legendgroup\": \"elect\", \"marker\": {\"color\": \"#FF97FF\"}, \"name\": \"elect\", \"offsetgroup\": \"elect\", \"orientation\": \"h\", \"showlegend\": true, \"textposition\": \"auto\", \"type\": \"bar\", \"x\": [856], \"xaxis\": \"x\", \"y\": [\"elect\"], \"yaxis\": \"y\"}, {\"alignmentgroup\": \"True\", \"hovertemplate\": \"Common_words=%{y}<br>count=%{x}<extra></extra>\", \"legendgroup\": \"big\", \"marker\": {\"color\": \"#FECB52\"}, \"name\": \"big\", \"offsetgroup\": \"big\", \"orientation\": \"h\", \"showlegend\": true, \"textposition\": \"auto\", \"type\": \"bar\", \"x\": [844], \"xaxis\": \"x\", \"y\": [\"big\"], \"yaxis\": \"y\"}, {\"alignmentgroup\": \"True\", \"hovertemplate\": \"Common_words=%{y}<br>count=%{x}<extra></extra>\", \"legendgroup\": \"mak\", \"marker\": {\"color\": \"#636efa\"}, \"name\": \"mak\", \"offsetgroup\": \"mak\", \"orientation\": \"h\", \"showlegend\": true, \"textposition\": \"auto\", \"type\": \"bar\", \"x\": [831], \"xaxis\": \"x\", \"y\": [\"mak\"], \"yaxis\": \"y\"}, {\"alignmentgroup\": \"True\", \"hovertemplate\": \"Common_words=%{y}<br>count=%{x}<extra></extra>\", \"legendgroup\": \"lik\", \"marker\": {\"color\": \"#EF553B\"}, \"name\": \"lik\", \"offsetgroup\": \"lik\", \"orientation\": \"h\", \"showlegend\": true, \"textposition\": \"auto\", \"type\": \"bar\", \"x\": [784], \"xaxis\": \"x\", \"y\": [\"lik\"], \"yaxis\": \"y\"}],\n",
              "                        {\"barmode\": \"relative\", \"height\": 700, \"legend\": {\"title\": {\"text\": \"Common_words\"}, \"tracegroupgap\": 0}, \"template\": {\"data\": {\"bar\": [{\"error_x\": {\"color\": \"#2a3f5f\"}, \"error_y\": {\"color\": \"#2a3f5f\"}, \"marker\": {\"line\": {\"color\": \"#E5ECF6\", \"width\": 0.5}}, \"type\": \"bar\"}], \"barpolar\": [{\"marker\": {\"line\": {\"color\": \"#E5ECF6\", \"width\": 0.5}}, \"type\": \"barpolar\"}], \"carpet\": [{\"aaxis\": {\"endlinecolor\": \"#2a3f5f\", \"gridcolor\": \"white\", \"linecolor\": \"white\", \"minorgridcolor\": \"white\", \"startlinecolor\": \"#2a3f5f\"}, \"baxis\": {\"endlinecolor\": \"#2a3f5f\", \"gridcolor\": \"white\", \"linecolor\": \"white\", \"minorgridcolor\": \"white\", \"startlinecolor\": \"#2a3f5f\"}, \"type\": \"carpet\"}], \"choropleth\": [{\"colorbar\": {\"outlinewidth\": 0, \"ticks\": \"\"}, \"type\": \"choropleth\"}], \"contour\": [{\"colorbar\": {\"outlinewidth\": 0, \"ticks\": \"\"}, \"colorscale\": [[0.0, \"#0d0887\"], [0.1111111111111111, \"#46039f\"], [0.2222222222222222, \"#7201a8\"], [0.3333333333333333, \"#9c179e\"], [0.4444444444444444, \"#bd3786\"], [0.5555555555555556, \"#d8576b\"], [0.6666666666666666, \"#ed7953\"], [0.7777777777777778, \"#fb9f3a\"], [0.8888888888888888, \"#fdca26\"], [1.0, \"#f0f921\"]], \"type\": \"contour\"}], \"contourcarpet\": [{\"colorbar\": {\"outlinewidth\": 0, \"ticks\": \"\"}, \"type\": \"contourcarpet\"}], \"heatmap\": [{\"colorbar\": {\"outlinewidth\": 0, \"ticks\": \"\"}, \"colorscale\": [[0.0, \"#0d0887\"], [0.1111111111111111, \"#46039f\"], [0.2222222222222222, \"#7201a8\"], [0.3333333333333333, \"#9c179e\"], [0.4444444444444444, \"#bd3786\"], [0.5555555555555556, \"#d8576b\"], [0.6666666666666666, \"#ed7953\"], [0.7777777777777778, \"#fb9f3a\"], [0.8888888888888888, \"#fdca26\"], [1.0, \"#f0f921\"]], \"type\": \"heatmap\"}], \"heatmapgl\": [{\"colorbar\": {\"outlinewidth\": 0, \"ticks\": \"\"}, \"colorscale\": [[0.0, \"#0d0887\"], [0.1111111111111111, \"#46039f\"], [0.2222222222222222, \"#7201a8\"], [0.3333333333333333, \"#9c179e\"], [0.4444444444444444, \"#bd3786\"], [0.5555555555555556, \"#d8576b\"], [0.6666666666666666, \"#ed7953\"], [0.7777777777777778, \"#fb9f3a\"], [0.8888888888888888, \"#fdca26\"], [1.0, \"#f0f921\"]], \"type\": \"heatmapgl\"}], \"histogram\": [{\"marker\": {\"colorbar\": {\"outlinewidth\": 0, \"ticks\": \"\"}}, \"type\": \"histogram\"}], \"histogram2d\": [{\"colorbar\": {\"outlinewidth\": 0, \"ticks\": \"\"}, \"colorscale\": [[0.0, \"#0d0887\"], [0.1111111111111111, \"#46039f\"], [0.2222222222222222, \"#7201a8\"], [0.3333333333333333, \"#9c179e\"], [0.4444444444444444, \"#bd3786\"], [0.5555555555555556, \"#d8576b\"], [0.6666666666666666, \"#ed7953\"], [0.7777777777777778, \"#fb9f3a\"], [0.8888888888888888, \"#fdca26\"], [1.0, \"#f0f921\"]], \"type\": \"histogram2d\"}], \"histogram2dcontour\": [{\"colorbar\": {\"outlinewidth\": 0, \"ticks\": \"\"}, \"colorscale\": [[0.0, \"#0d0887\"], [0.1111111111111111, \"#46039f\"], [0.2222222222222222, \"#7201a8\"], [0.3333333333333333, \"#9c179e\"], [0.4444444444444444, \"#bd3786\"], [0.5555555555555556, \"#d8576b\"], [0.6666666666666666, \"#ed7953\"], [0.7777777777777778, \"#fb9f3a\"], [0.8888888888888888, \"#fdca26\"], [1.0, \"#f0f921\"]], \"type\": \"histogram2dcontour\"}], \"mesh3d\": [{\"colorbar\": {\"outlinewidth\": 0, \"ticks\": \"\"}, \"type\": \"mesh3d\"}], \"parcoords\": [{\"line\": {\"colorbar\": {\"outlinewidth\": 0, \"ticks\": \"\"}}, \"type\": \"parcoords\"}], \"pie\": [{\"automargin\": true, \"type\": \"pie\"}], \"scatter\": [{\"marker\": {\"colorbar\": {\"outlinewidth\": 0, \"ticks\": \"\"}}, \"type\": \"scatter\"}], \"scatter3d\": [{\"line\": {\"colorbar\": {\"outlinewidth\": 0, \"ticks\": \"\"}}, \"marker\": {\"colorbar\": {\"outlinewidth\": 0, \"ticks\": \"\"}}, \"type\": \"scatter3d\"}], \"scattercarpet\": [{\"marker\": {\"colorbar\": {\"outlinewidth\": 0, \"ticks\": \"\"}}, \"type\": \"scattercarpet\"}], \"scattergeo\": [{\"marker\": {\"colorbar\": {\"outlinewidth\": 0, \"ticks\": \"\"}}, \"type\": \"scattergeo\"}], \"scattergl\": [{\"marker\": {\"colorbar\": {\"outlinewidth\": 0, \"ticks\": \"\"}}, \"type\": \"scattergl\"}], \"scattermapbox\": [{\"marker\": {\"colorbar\": {\"outlinewidth\": 0, \"ticks\": \"\"}}, \"type\": \"scattermapbox\"}], \"scatterpolar\": [{\"marker\": {\"colorbar\": {\"outlinewidth\": 0, \"ticks\": \"\"}}, \"type\": \"scatterpolar\"}], \"scatterpolargl\": [{\"marker\": {\"colorbar\": {\"outlinewidth\": 0, \"ticks\": \"\"}}, \"type\": \"scatterpolargl\"}], \"scatterternary\": [{\"marker\": {\"colorbar\": {\"outlinewidth\": 0, \"ticks\": \"\"}}, \"type\": \"scatterternary\"}], \"surface\": [{\"colorbar\": {\"outlinewidth\": 0, \"ticks\": \"\"}, \"colorscale\": [[0.0, \"#0d0887\"], [0.1111111111111111, \"#46039f\"], [0.2222222222222222, \"#7201a8\"], [0.3333333333333333, \"#9c179e\"], [0.4444444444444444, \"#bd3786\"], [0.5555555555555556, \"#d8576b\"], [0.6666666666666666, \"#ed7953\"], [0.7777777777777778, \"#fb9f3a\"], [0.8888888888888888, \"#fdca26\"], [1.0, \"#f0f921\"]], \"type\": \"surface\"}], \"table\": [{\"cells\": {\"fill\": {\"color\": \"#EBF0F8\"}, \"line\": {\"color\": \"white\"}}, \"header\": {\"fill\": {\"color\": \"#C8D4E3\"}, \"line\": {\"color\": \"white\"}}, \"type\": \"table\"}]}, \"layout\": {\"annotationdefaults\": {\"arrowcolor\": \"#2a3f5f\", \"arrowhead\": 0, \"arrowwidth\": 1}, \"coloraxis\": {\"colorbar\": {\"outlinewidth\": 0, \"ticks\": \"\"}}, \"colorscale\": {\"diverging\": [[0, \"#8e0152\"], [0.1, \"#c51b7d\"], [0.2, \"#de77ae\"], [0.3, \"#f1b6da\"], [0.4, \"#fde0ef\"], [0.5, \"#f7f7f7\"], [0.6, \"#e6f5d0\"], [0.7, \"#b8e186\"], [0.8, \"#7fbc41\"], [0.9, \"#4d9221\"], [1, \"#276419\"]], \"sequential\": [[0.0, \"#0d0887\"], [0.1111111111111111, \"#46039f\"], [0.2222222222222222, \"#7201a8\"], [0.3333333333333333, \"#9c179e\"], [0.4444444444444444, \"#bd3786\"], [0.5555555555555556, \"#d8576b\"], [0.6666666666666666, \"#ed7953\"], [0.7777777777777778, \"#fb9f3a\"], [0.8888888888888888, \"#fdca26\"], [1.0, \"#f0f921\"]], \"sequentialminus\": [[0.0, \"#0d0887\"], [0.1111111111111111, \"#46039f\"], [0.2222222222222222, \"#7201a8\"], [0.3333333333333333, \"#9c179e\"], [0.4444444444444444, \"#bd3786\"], [0.5555555555555556, \"#d8576b\"], [0.6666666666666666, \"#ed7953\"], [0.7777777777777778, \"#fb9f3a\"], [0.8888888888888888, \"#fdca26\"], [1.0, \"#f0f921\"]]}, \"colorway\": [\"#636efa\", \"#EF553B\", \"#00cc96\", \"#ab63fa\", \"#FFA15A\", \"#19d3f3\", \"#FF6692\", \"#B6E880\", \"#FF97FF\", \"#FECB52\"], \"font\": {\"color\": \"#2a3f5f\"}, \"geo\": {\"bgcolor\": \"white\", \"lakecolor\": \"white\", \"landcolor\": \"#E5ECF6\", \"showlakes\": true, \"showland\": true, \"subunitcolor\": \"white\"}, \"hoverlabel\": {\"align\": \"left\"}, \"hovermode\": \"closest\", \"mapbox\": {\"style\": \"light\"}, \"paper_bgcolor\": \"white\", \"plot_bgcolor\": \"#E5ECF6\", \"polar\": {\"angularaxis\": {\"gridcolor\": \"white\", \"linecolor\": \"white\", \"ticks\": \"\"}, \"bgcolor\": \"#E5ECF6\", \"radialaxis\": {\"gridcolor\": \"white\", \"linecolor\": \"white\", \"ticks\": \"\"}}, \"scene\": {\"xaxis\": {\"backgroundcolor\": \"#E5ECF6\", \"gridcolor\": \"white\", \"gridwidth\": 2, \"linecolor\": \"white\", \"showbackground\": true, \"ticks\": \"\", \"zerolinecolor\": \"white\"}, \"yaxis\": {\"backgroundcolor\": \"#E5ECF6\", \"gridcolor\": \"white\", \"gridwidth\": 2, \"linecolor\": \"white\", \"showbackground\": true, \"ticks\": \"\", \"zerolinecolor\": \"white\"}, \"zaxis\": {\"backgroundcolor\": \"#E5ECF6\", \"gridcolor\": \"white\", \"gridwidth\": 2, \"linecolor\": \"white\", \"showbackground\": true, \"ticks\": \"\", \"zerolinecolor\": \"white\"}}, \"shapedefaults\": {\"line\": {\"color\": \"#2a3f5f\"}}, \"ternary\": {\"aaxis\": {\"gridcolor\": \"white\", \"linecolor\": \"white\", \"ticks\": \"\"}, \"baxis\": {\"gridcolor\": \"white\", \"linecolor\": \"white\", \"ticks\": \"\"}, \"bgcolor\": \"#E5ECF6\", \"caxis\": {\"gridcolor\": \"white\", \"linecolor\": \"white\", \"ticks\": \"\"}}, \"title\": {\"x\": 0.05}, \"xaxis\": {\"automargin\": true, \"gridcolor\": \"white\", \"linecolor\": \"white\", \"ticks\": \"\", \"title\": {\"standoff\": 15}, \"zerolinecolor\": \"white\", \"zerolinewidth\": 2}, \"yaxis\": {\"automargin\": true, \"gridcolor\": \"white\", \"linecolor\": \"white\", \"ticks\": \"\", \"title\": {\"standoff\": 15}, \"zerolinecolor\": \"white\", \"zerolinewidth\": 2}}}, \"title\": {\"text\": \"Most Common Words in Positive Sentiment Tweets\"}, \"width\": 700, \"xaxis\": {\"anchor\": \"y\", \"domain\": [0.0, 1.0], \"title\": {\"text\": \"count\"}}, \"yaxis\": {\"anchor\": \"x\", \"categoryarray\": [\"lik\", \"mak\", \"big\", \"elect\", \"donald\", \"much\", \"tim\", \"country\", \"stat\", \"best\", \"get\", \"many\", \"peopl\", \"twit\", \"real\", \"presid\", \"win\", \"thank\", \"good\", \"trump\", \"new\", \"realdonaldtrump\"], \"categoryorder\": \"array\", \"domain\": [0.0, 1.0], \"title\": {\"text\": \"Common_words\"}}},\n",
              "                        {\"responsive\": true}\n",
              "                    ).then(function(){\n",
              "                            \n",
              "var gd = document.getElementById('77e76073-a710-43e2-9729-8d81bb89554a');\n",
              "var x = new MutationObserver(function (mutations, observer) {{\n",
              "        var display = window.getComputedStyle(gd).display;\n",
              "        if (!display || display === 'none') {{\n",
              "            console.log([gd, 'removed!']);\n",
              "            Plotly.purge(gd);\n",
              "            observer.disconnect();\n",
              "        }}\n",
              "}});\n",
              "\n",
              "// Listen for the removal of the full notebook cells\n",
              "var notebookContainer = gd.closest('#notebook-container');\n",
              "if (notebookContainer) {{\n",
              "    x.observe(notebookContainer, {childList: true});\n",
              "}}\n",
              "\n",
              "// Listen for the clearing of the current output cell\n",
              "var outputEl = gd.closest('.output');\n",
              "if (outputEl) {{\n",
              "    x.observe(outputEl, {childList: true});\n",
              "}}\n",
              "\n",
              "                        })\n",
              "                };\n",
              "                \n",
              "            </script>\n",
              "        </div>\n",
              "</body>\n",
              "</html>"
            ]
          },
          "metadata": {
            "tags": []
          }
        }
      ]
    },
    {
      "cell_type": "code",
      "metadata": {
        "id": "7rfHTnJHm51c",
        "colab_type": "code",
        "colab": {
          "base_uri": "https://localhost:8080/",
          "height": 446
        },
        "outputId": "6af31e86-652e-4ff9-b152-ff1a4248855b"
      },
      "source": [
        "# 8.3 : Find Common Words for Negative Sentiment tweets\n",
        "#MosT common negative words\n",
        "top = Counter([item for sublist in Negative_sent['content'] for item in sublist])\n",
        "temp_negative = pd.DataFrame(top.most_common(20))\n",
        "temp_negative = temp_negative.iloc[1:,:]\n",
        "temp_negative.columns = ['Common_words','count']\n",
        "temp_negative.style.background_gradient(cmap='Reds')"
      ],
      "execution_count": 62,
      "outputs": [
        {
          "output_type": "execute_result",
          "data": {
            "text/html": [
              "<style  type=\"text/css\" >\n",
              "    #T_7093a83c_bab6_11ea_af41_0242ac1c0002row0_col1 {\n",
              "            background-color:  #67000d;\n",
              "            color:  #f1f1f1;\n",
              "        }    #T_7093a83c_bab6_11ea_af41_0242ac1c0002row1_col1 {\n",
              "            background-color:  #9f0e14;\n",
              "            color:  #f1f1f1;\n",
              "        }    #T_7093a83c_bab6_11ea_af41_0242ac1c0002row2_col1 {\n",
              "            background-color:  #b11218;\n",
              "            color:  #f1f1f1;\n",
              "        }    #T_7093a83c_bab6_11ea_af41_0242ac1c0002row3_col1 {\n",
              "            background-color:  #f6563d;\n",
              "            color:  #000000;\n",
              "        }    #T_7093a83c_bab6_11ea_af41_0242ac1c0002row4_col1 {\n",
              "            background-color:  #f75c41;\n",
              "            color:  #000000;\n",
              "        }    #T_7093a83c_bab6_11ea_af41_0242ac1c0002row5_col1 {\n",
              "            background-color:  #f96044;\n",
              "            color:  #000000;\n",
              "        }    #T_7093a83c_bab6_11ea_af41_0242ac1c0002row6_col1 {\n",
              "            background-color:  #fb6d4d;\n",
              "            color:  #000000;\n",
              "        }    #T_7093a83c_bab6_11ea_af41_0242ac1c0002row7_col1 {\n",
              "            background-color:  #fc8b6b;\n",
              "            color:  #000000;\n",
              "        }    #T_7093a83c_bab6_11ea_af41_0242ac1c0002row8_col1 {\n",
              "            background-color:  #fc9373;\n",
              "            color:  #000000;\n",
              "        }    #T_7093a83c_bab6_11ea_af41_0242ac1c0002row9_col1 {\n",
              "            background-color:  #fc9777;\n",
              "            color:  #000000;\n",
              "        }    #T_7093a83c_bab6_11ea_af41_0242ac1c0002row10_col1 {\n",
              "            background-color:  #fca98c;\n",
              "            color:  #000000;\n",
              "        }    #T_7093a83c_bab6_11ea_af41_0242ac1c0002row11_col1 {\n",
              "            background-color:  #fcbca2;\n",
              "            color:  #000000;\n",
              "        }    #T_7093a83c_bab6_11ea_af41_0242ac1c0002row12_col1 {\n",
              "            background-color:  #fcc3ab;\n",
              "            color:  #000000;\n",
              "        }    #T_7093a83c_bab6_11ea_af41_0242ac1c0002row13_col1 {\n",
              "            background-color:  #fdcdb9;\n",
              "            color:  #000000;\n",
              "        }    #T_7093a83c_bab6_11ea_af41_0242ac1c0002row14_col1 {\n",
              "            background-color:  #fedccd;\n",
              "            color:  #000000;\n",
              "        }    #T_7093a83c_bab6_11ea_af41_0242ac1c0002row15_col1 {\n",
              "            background-color:  #fee2d5;\n",
              "            color:  #000000;\n",
              "        }    #T_7093a83c_bab6_11ea_af41_0242ac1c0002row16_col1 {\n",
              "            background-color:  #ffebe2;\n",
              "            color:  #000000;\n",
              "        }    #T_7093a83c_bab6_11ea_af41_0242ac1c0002row17_col1 {\n",
              "            background-color:  #fff1ea;\n",
              "            color:  #000000;\n",
              "        }    #T_7093a83c_bab6_11ea_af41_0242ac1c0002row18_col1 {\n",
              "            background-color:  #fff5f0;\n",
              "            color:  #000000;\n",
              "        }</style><table id=\"T_7093a83c_bab6_11ea_af41_0242ac1c0002\" ><thead>    <tr>        <th class=\"blank level0\" ></th>        <th class=\"col_heading level0 col0\" >Common_words</th>        <th class=\"col_heading level0 col1\" >count</th>    </tr></thead><tbody>\n",
              "                <tr>\n",
              "                        <th id=\"T_7093a83c_bab6_11ea_af41_0242ac1c0002level0_row0\" class=\"row_heading level0 row0\" >1</th>\n",
              "                        <td id=\"T_7093a83c_bab6_11ea_af41_0242ac1c0002row0_col0\" class=\"data row0 col0\" >gre</td>\n",
              "                        <td id=\"T_7093a83c_bab6_11ea_af41_0242ac1c0002row0_col1\" class=\"data row0 col1\" >825</td>\n",
              "            </tr>\n",
              "            <tr>\n",
              "                        <th id=\"T_7093a83c_bab6_11ea_af41_0242ac1c0002level0_row1\" class=\"row_heading level0 row1\" >2</th>\n",
              "                        <td id=\"T_7093a83c_bab6_11ea_af41_0242ac1c0002row1_col0\" class=\"data row1 col0\" >realdonaldtrump</td>\n",
              "                        <td id=\"T_7093a83c_bab6_11ea_af41_0242ac1c0002row1_col1\" class=\"data row1 col1\" >774</td>\n",
              "            </tr>\n",
              "            <tr>\n",
              "                        <th id=\"T_7093a83c_bab6_11ea_af41_0242ac1c0002level0_row2\" class=\"row_heading level0 row2\" >3</th>\n",
              "                        <td id=\"T_7093a83c_bab6_11ea_af41_0242ac1c0002row2_col0\" class=\"data row2 col0\" >trump</td>\n",
              "                        <td id=\"T_7093a83c_bab6_11ea_af41_0242ac1c0002row2_col1\" class=\"data row2 col1\" >751</td>\n",
              "            </tr>\n",
              "            <tr>\n",
              "                        <th id=\"T_7093a83c_bab6_11ea_af41_0242ac1c0002level0_row3\" class=\"row_heading level0 row3\" >4</th>\n",
              "                        <td id=\"T_7093a83c_bab6_11ea_af41_0242ac1c0002row3_col0\" class=\"data row3 col0\" >peopl</td>\n",
              "                        <td id=\"T_7093a83c_bab6_11ea_af41_0242ac1c0002row3_col1\" class=\"data row3 col1\" >625</td>\n",
              "            </tr>\n",
              "            <tr>\n",
              "                        <th id=\"T_7093a83c_bab6_11ea_af41_0242ac1c0002level0_row4\" class=\"row_heading level0 row4\" >5</th>\n",
              "                        <td id=\"T_7093a83c_bab6_11ea_af41_0242ac1c0002row4_col0\" class=\"data row4 col0\" >new</td>\n",
              "                        <td id=\"T_7093a83c_bab6_11ea_af41_0242ac1c0002row4_col1\" class=\"data row4 col1\" >618</td>\n",
              "            </tr>\n",
              "            <tr>\n",
              "                        <th id=\"T_7093a83c_bab6_11ea_af41_0242ac1c0002level0_row5\" class=\"row_heading level0 row5\" >6</th>\n",
              "                        <td id=\"T_7093a83c_bab6_11ea_af41_0242ac1c0002row5_col0\" class=\"data row5 col0\" >mad</td>\n",
              "                        <td id=\"T_7093a83c_bab6_11ea_af41_0242ac1c0002row5_col1\" class=\"data row5 col1\" >614</td>\n",
              "            </tr>\n",
              "            <tr>\n",
              "                        <th id=\"T_7093a83c_bab6_11ea_af41_0242ac1c0002level0_row6\" class=\"row_heading level0 row6\" >7</th>\n",
              "                        <td id=\"T_7093a83c_bab6_11ea_af41_0242ac1c0002row6_col0\" class=\"data row6 col0\" >presid</td>\n",
              "                        <td id=\"T_7093a83c_bab6_11ea_af41_0242ac1c0002row6_col1\" class=\"data row6 col1\" >598</td>\n",
              "            </tr>\n",
              "            <tr>\n",
              "                        <th id=\"T_7093a83c_bab6_11ea_af41_0242ac1c0002level0_row7\" class=\"row_heading level0 row7\" >8</th>\n",
              "                        <td id=\"T_7093a83c_bab6_11ea_af41_0242ac1c0002row7_col0\" class=\"data row7 col0\" >stat</td>\n",
              "                        <td id=\"T_7093a83c_bab6_11ea_af41_0242ac1c0002row7_col1\" class=\"data row7 col1\" >555</td>\n",
              "            </tr>\n",
              "            <tr>\n",
              "                        <th id=\"T_7093a83c_bab6_11ea_af41_0242ac1c0002level0_row8\" class=\"row_heading level0 row8\" >9</th>\n",
              "                        <td id=\"T_7093a83c_bab6_11ea_af41_0242ac1c0002row8_col0\" class=\"data row8 col0\" >get</td>\n",
              "                        <td id=\"T_7093a83c_bab6_11ea_af41_0242ac1c0002row8_col1\" class=\"data row8 col1\" >546</td>\n",
              "            </tr>\n",
              "            <tr>\n",
              "                        <th id=\"T_7093a83c_bab6_11ea_af41_0242ac1c0002level0_row9\" class=\"row_heading level0 row9\" >10</th>\n",
              "                        <td id=\"T_7093a83c_bab6_11ea_af41_0242ac1c0002row9_col0\" class=\"data row9 col0\" >fail</td>\n",
              "                        <td id=\"T_7093a83c_bab6_11ea_af41_0242ac1c0002row9_col1\" class=\"data row9 col1\" >540</td>\n",
              "            </tr>\n",
              "            <tr>\n",
              "                        <th id=\"T_7093a83c_bab6_11ea_af41_0242ac1c0002level0_row10\" class=\"row_heading level0 row10\" >11</th>\n",
              "                        <td id=\"T_7093a83c_bab6_11ea_af41_0242ac1c0002row10_col0\" class=\"data row10 col0\" >tim</td>\n",
              "                        <td id=\"T_7093a83c_bab6_11ea_af41_0242ac1c0002row10_col1\" class=\"data row10 col1\" >516</td>\n",
              "            </tr>\n",
              "            <tr>\n",
              "                        <th id=\"T_7093a83c_bab6_11ea_af41_0242ac1c0002level0_row11\" class=\"row_heading level0 row11\" >12</th>\n",
              "                        <td id=\"T_7093a83c_bab6_11ea_af41_0242ac1c0002row11_col0\" class=\"data row11 col0\" >obam</td>\n",
              "                        <td id=\"T_7093a83c_bab6_11ea_af41_0242ac1c0002row11_col1\" class=\"data row11 col1\" >490</td>\n",
              "            </tr>\n",
              "            <tr>\n",
              "                        <th id=\"T_7093a83c_bab6_11ea_af41_0242ac1c0002level0_row12\" class=\"row_heading level0 row12\" >13</th>\n",
              "                        <td id=\"T_7093a83c_bab6_11ea_af41_0242ac1c0002row12_col0\" class=\"data row12 col0\" >country</td>\n",
              "                        <td id=\"T_7093a83c_bab6_11ea_af41_0242ac1c0002row12_col1\" class=\"data row12 col1\" >479</td>\n",
              "            </tr>\n",
              "            <tr>\n",
              "                        <th id=\"T_7093a83c_bab6_11ea_af41_0242ac1c0002level0_row13\" class=\"row_heading level0 row13\" >14</th>\n",
              "                        <td id=\"T_7093a83c_bab6_11ea_af41_0242ac1c0002row13_col0\" class=\"data row13 col0\" >work</td>\n",
              "                        <td id=\"T_7093a83c_bab6_11ea_af41_0242ac1c0002row13_col1\" class=\"data row13 col1\" >463</td>\n",
              "            </tr>\n",
              "            <tr>\n",
              "                        <th id=\"T_7093a83c_bab6_11ea_af41_0242ac1c0002level0_row14\" class=\"row_heading level0 row14\" >15</th>\n",
              "                        <td id=\"T_7093a83c_bab6_11ea_af41_0242ac1c0002row14_col0\" class=\"data row14 col0\" >hard</td>\n",
              "                        <td id=\"T_7093a83c_bab6_11ea_af41_0242ac1c0002row14_col1\" class=\"data row14 col1\" >440</td>\n",
              "            </tr>\n",
              "            <tr>\n",
              "                        <th id=\"T_7093a83c_bab6_11ea_af41_0242ac1c0002level0_row15\" class=\"row_heading level0 row15\" >16</th>\n",
              "                        <td id=\"T_7093a83c_bab6_11ea_af41_0242ac1c0002row15_col0\" class=\"data row15 col0\" >democr</td>\n",
              "                        <td id=\"T_7093a83c_bab6_11ea_af41_0242ac1c0002row15_col1\" class=\"data row15 col1\" >430</td>\n",
              "            </tr>\n",
              "            <tr>\n",
              "                        <th id=\"T_7093a83c_bab6_11ea_af41_0242ac1c0002level0_row16\" class=\"row_heading level0 row16\" >17</th>\n",
              "                        <td id=\"T_7093a83c_bab6_11ea_af41_0242ac1c0002row16_col0\" class=\"data row16 col0\" >want</td>\n",
              "                        <td id=\"T_7093a83c_bab6_11ea_af41_0242ac1c0002row16_col1\" class=\"data row16 col1\" >406</td>\n",
              "            </tr>\n",
              "            <tr>\n",
              "                        <th id=\"T_7093a83c_bab6_11ea_af41_0242ac1c0002level0_row17\" class=\"row_heading level0 row17\" >18</th>\n",
              "                        <td id=\"T_7093a83c_bab6_11ea_af41_0242ac1c0002row17_col0\" class=\"data row17 col0\" >nev</td>\n",
              "                        <td id=\"T_7093a83c_bab6_11ea_af41_0242ac1c0002row17_col1\" class=\"data row17 col1\" >390</td>\n",
              "            </tr>\n",
              "            <tr>\n",
              "                        <th id=\"T_7093a83c_bab6_11ea_af41_0242ac1c0002level0_row18\" class=\"row_heading level0 row18\" >19</th>\n",
              "                        <td id=\"T_7093a83c_bab6_11ea_af41_0242ac1c0002row18_col0\" class=\"data row18 col0\" >twit</td>\n",
              "                        <td id=\"T_7093a83c_bab6_11ea_af41_0242ac1c0002row18_col1\" class=\"data row18 col1\" >379</td>\n",
              "            </tr>\n",
              "    </tbody></table>"
            ],
            "text/plain": [
              "<pandas.io.formats.style.Styler at 0x7f75e4b5dfd0>"
            ]
          },
          "metadata": {
            "tags": []
          },
          "execution_count": 62
        }
      ]
    },
    {
      "cell_type": "code",
      "metadata": {
        "id": "iPAWjs53nf37",
        "colab_type": "code",
        "colab": {
          "base_uri": "https://localhost:8080/",
          "height": 489
        },
        "outputId": "630d5935-d98a-493a-acf0-0243f42f32fb"
      },
      "source": [
        "\n",
        "#MosT common negative words\n",
        "top = Counter([item for sublist in Negative_sent['content'] for item in sublist])\n",
        "temp_negative = pd.DataFrame(top.most_common(22))\n",
        "temp_negative = temp_negative.iloc[1:,:]\n",
        "temp_negative.columns = ['Common_words','count']\n",
        "\n",
        "#Data cleaning\n",
        "temp_negative['Common_words'] = temp_negative['Common_words'].map(lambda x: re.sub(r'\\W+', '', x))\n",
        "temp_negative['Common_words'] = temp_negative['Common_words'].replace(r'\\W+', '', regex=True)\n",
        "temp_negative=temp_negative[~temp_negative['Common_words'].isin(['s','t'])] #new line removing meaningless words from above\n",
        "mask1 = temp_negative.Common_words.str.contains('[a-zA-Z]')\n",
        "mask2 = temp_negative.Common_words.notna()\n",
        "temp_negative = temp_negative[mask1 | mask2]\n",
        "\n",
        "temp_negative.Common_words =  temp_negative.Common_words.replace(\"\", np.nan)\n",
        "temp_negative = temp_negative.dropna(subset=['Common_words'])\n",
        "\n",
        "temp_negative.style.background_gradient(cmap='Reds')"
      ],
      "execution_count": 64,
      "outputs": [
        {
          "output_type": "execute_result",
          "data": {
            "text/html": [
              "<style  type=\"text/css\" >\n",
              "    #T_94786ea4_bab6_11ea_af41_0242ac1c0002row0_col1 {\n",
              "            background-color:  #67000d;\n",
              "            color:  #f1f1f1;\n",
              "        }    #T_94786ea4_bab6_11ea_af41_0242ac1c0002row1_col1 {\n",
              "            background-color:  #9d0d14;\n",
              "            color:  #f1f1f1;\n",
              "        }    #T_94786ea4_bab6_11ea_af41_0242ac1c0002row2_col1 {\n",
              "            background-color:  #b01217;\n",
              "            color:  #f1f1f1;\n",
              "        }    #T_94786ea4_bab6_11ea_af41_0242ac1c0002row3_col1 {\n",
              "            background-color:  #f5533b;\n",
              "            color:  #000000;\n",
              "        }    #T_94786ea4_bab6_11ea_af41_0242ac1c0002row4_col1 {\n",
              "            background-color:  #f7593f;\n",
              "            color:  #000000;\n",
              "        }    #T_94786ea4_bab6_11ea_af41_0242ac1c0002row5_col1 {\n",
              "            background-color:  #f75c41;\n",
              "            color:  #000000;\n",
              "        }    #T_94786ea4_bab6_11ea_af41_0242ac1c0002row6_col1 {\n",
              "            background-color:  #fb694a;\n",
              "            color:  #000000;\n",
              "        }    #T_94786ea4_bab6_11ea_af41_0242ac1c0002row7_col1 {\n",
              "            background-color:  #fc8969;\n",
              "            color:  #000000;\n",
              "        }    #T_94786ea4_bab6_11ea_af41_0242ac1c0002row8_col1 {\n",
              "            background-color:  #fc8f6f;\n",
              "            color:  #000000;\n",
              "        }    #T_94786ea4_bab6_11ea_af41_0242ac1c0002row9_col1 {\n",
              "            background-color:  #fc9373;\n",
              "            color:  #000000;\n",
              "        }    #T_94786ea4_bab6_11ea_af41_0242ac1c0002row10_col1 {\n",
              "            background-color:  #fca588;\n",
              "            color:  #000000;\n",
              "        }    #T_94786ea4_bab6_11ea_af41_0242ac1c0002row11_col1 {\n",
              "            background-color:  #fcb79c;\n",
              "            color:  #000000;\n",
              "        }    #T_94786ea4_bab6_11ea_af41_0242ac1c0002row12_col1 {\n",
              "            background-color:  #fcbfa7;\n",
              "            color:  #000000;\n",
              "        }    #T_94786ea4_bab6_11ea_af41_0242ac1c0002row13_col1 {\n",
              "            background-color:  #fdcab5;\n",
              "            color:  #000000;\n",
              "        }    #T_94786ea4_bab6_11ea_af41_0242ac1c0002row14_col1 {\n",
              "            background-color:  #fed9c9;\n",
              "            color:  #000000;\n",
              "        }    #T_94786ea4_bab6_11ea_af41_0242ac1c0002row15_col1 {\n",
              "            background-color:  #fedfd0;\n",
              "            color:  #000000;\n",
              "        }    #T_94786ea4_bab6_11ea_af41_0242ac1c0002row16_col1 {\n",
              "            background-color:  #fee8de;\n",
              "            color:  #000000;\n",
              "        }    #T_94786ea4_bab6_11ea_af41_0242ac1c0002row17_col1 {\n",
              "            background-color:  #ffeee7;\n",
              "            color:  #000000;\n",
              "        }    #T_94786ea4_bab6_11ea_af41_0242ac1c0002row18_col1 {\n",
              "            background-color:  #fff2ec;\n",
              "            color:  #000000;\n",
              "        }    #T_94786ea4_bab6_11ea_af41_0242ac1c0002row19_col1 {\n",
              "            background-color:  #fff2ec;\n",
              "            color:  #000000;\n",
              "        }    #T_94786ea4_bab6_11ea_af41_0242ac1c0002row20_col1 {\n",
              "            background-color:  #fff5f0;\n",
              "            color:  #000000;\n",
              "        }</style><table id=\"T_94786ea4_bab6_11ea_af41_0242ac1c0002\" ><thead>    <tr>        <th class=\"blank level0\" ></th>        <th class=\"col_heading level0 col0\" >Common_words</th>        <th class=\"col_heading level0 col1\" >count</th>    </tr></thead><tbody>\n",
              "                <tr>\n",
              "                        <th id=\"T_94786ea4_bab6_11ea_af41_0242ac1c0002level0_row0\" class=\"row_heading level0 row0\" >1</th>\n",
              "                        <td id=\"T_94786ea4_bab6_11ea_af41_0242ac1c0002row0_col0\" class=\"data row0 col0\" >gre</td>\n",
              "                        <td id=\"T_94786ea4_bab6_11ea_af41_0242ac1c0002row0_col1\" class=\"data row0 col1\" >825</td>\n",
              "            </tr>\n",
              "            <tr>\n",
              "                        <th id=\"T_94786ea4_bab6_11ea_af41_0242ac1c0002level0_row1\" class=\"row_heading level0 row1\" >2</th>\n",
              "                        <td id=\"T_94786ea4_bab6_11ea_af41_0242ac1c0002row1_col0\" class=\"data row1 col0\" >realdonaldtrump</td>\n",
              "                        <td id=\"T_94786ea4_bab6_11ea_af41_0242ac1c0002row1_col1\" class=\"data row1 col1\" >774</td>\n",
              "            </tr>\n",
              "            <tr>\n",
              "                        <th id=\"T_94786ea4_bab6_11ea_af41_0242ac1c0002level0_row2\" class=\"row_heading level0 row2\" >3</th>\n",
              "                        <td id=\"T_94786ea4_bab6_11ea_af41_0242ac1c0002row2_col0\" class=\"data row2 col0\" >trump</td>\n",
              "                        <td id=\"T_94786ea4_bab6_11ea_af41_0242ac1c0002row2_col1\" class=\"data row2 col1\" >751</td>\n",
              "            </tr>\n",
              "            <tr>\n",
              "                        <th id=\"T_94786ea4_bab6_11ea_af41_0242ac1c0002level0_row3\" class=\"row_heading level0 row3\" >4</th>\n",
              "                        <td id=\"T_94786ea4_bab6_11ea_af41_0242ac1c0002row3_col0\" class=\"data row3 col0\" >peopl</td>\n",
              "                        <td id=\"T_94786ea4_bab6_11ea_af41_0242ac1c0002row3_col1\" class=\"data row3 col1\" >625</td>\n",
              "            </tr>\n",
              "            <tr>\n",
              "                        <th id=\"T_94786ea4_bab6_11ea_af41_0242ac1c0002level0_row4\" class=\"row_heading level0 row4\" >5</th>\n",
              "                        <td id=\"T_94786ea4_bab6_11ea_af41_0242ac1c0002row4_col0\" class=\"data row4 col0\" >new</td>\n",
              "                        <td id=\"T_94786ea4_bab6_11ea_af41_0242ac1c0002row4_col1\" class=\"data row4 col1\" >618</td>\n",
              "            </tr>\n",
              "            <tr>\n",
              "                        <th id=\"T_94786ea4_bab6_11ea_af41_0242ac1c0002level0_row5\" class=\"row_heading level0 row5\" >6</th>\n",
              "                        <td id=\"T_94786ea4_bab6_11ea_af41_0242ac1c0002row5_col0\" class=\"data row5 col0\" >mad</td>\n",
              "                        <td id=\"T_94786ea4_bab6_11ea_af41_0242ac1c0002row5_col1\" class=\"data row5 col1\" >614</td>\n",
              "            </tr>\n",
              "            <tr>\n",
              "                        <th id=\"T_94786ea4_bab6_11ea_af41_0242ac1c0002level0_row6\" class=\"row_heading level0 row6\" >7</th>\n",
              "                        <td id=\"T_94786ea4_bab6_11ea_af41_0242ac1c0002row6_col0\" class=\"data row6 col0\" >presid</td>\n",
              "                        <td id=\"T_94786ea4_bab6_11ea_af41_0242ac1c0002row6_col1\" class=\"data row6 col1\" >598</td>\n",
              "            </tr>\n",
              "            <tr>\n",
              "                        <th id=\"T_94786ea4_bab6_11ea_af41_0242ac1c0002level0_row7\" class=\"row_heading level0 row7\" >8</th>\n",
              "                        <td id=\"T_94786ea4_bab6_11ea_af41_0242ac1c0002row7_col0\" class=\"data row7 col0\" >stat</td>\n",
              "                        <td id=\"T_94786ea4_bab6_11ea_af41_0242ac1c0002row7_col1\" class=\"data row7 col1\" >555</td>\n",
              "            </tr>\n",
              "            <tr>\n",
              "                        <th id=\"T_94786ea4_bab6_11ea_af41_0242ac1c0002level0_row8\" class=\"row_heading level0 row8\" >9</th>\n",
              "                        <td id=\"T_94786ea4_bab6_11ea_af41_0242ac1c0002row8_col0\" class=\"data row8 col0\" >get</td>\n",
              "                        <td id=\"T_94786ea4_bab6_11ea_af41_0242ac1c0002row8_col1\" class=\"data row8 col1\" >546</td>\n",
              "            </tr>\n",
              "            <tr>\n",
              "                        <th id=\"T_94786ea4_bab6_11ea_af41_0242ac1c0002level0_row9\" class=\"row_heading level0 row9\" >10</th>\n",
              "                        <td id=\"T_94786ea4_bab6_11ea_af41_0242ac1c0002row9_col0\" class=\"data row9 col0\" >fail</td>\n",
              "                        <td id=\"T_94786ea4_bab6_11ea_af41_0242ac1c0002row9_col1\" class=\"data row9 col1\" >540</td>\n",
              "            </tr>\n",
              "            <tr>\n",
              "                        <th id=\"T_94786ea4_bab6_11ea_af41_0242ac1c0002level0_row10\" class=\"row_heading level0 row10\" >11</th>\n",
              "                        <td id=\"T_94786ea4_bab6_11ea_af41_0242ac1c0002row10_col0\" class=\"data row10 col0\" >tim</td>\n",
              "                        <td id=\"T_94786ea4_bab6_11ea_af41_0242ac1c0002row10_col1\" class=\"data row10 col1\" >516</td>\n",
              "            </tr>\n",
              "            <tr>\n",
              "                        <th id=\"T_94786ea4_bab6_11ea_af41_0242ac1c0002level0_row11\" class=\"row_heading level0 row11\" >12</th>\n",
              "                        <td id=\"T_94786ea4_bab6_11ea_af41_0242ac1c0002row11_col0\" class=\"data row11 col0\" >obam</td>\n",
              "                        <td id=\"T_94786ea4_bab6_11ea_af41_0242ac1c0002row11_col1\" class=\"data row11 col1\" >490</td>\n",
              "            </tr>\n",
              "            <tr>\n",
              "                        <th id=\"T_94786ea4_bab6_11ea_af41_0242ac1c0002level0_row12\" class=\"row_heading level0 row12\" >13</th>\n",
              "                        <td id=\"T_94786ea4_bab6_11ea_af41_0242ac1c0002row12_col0\" class=\"data row12 col0\" >country</td>\n",
              "                        <td id=\"T_94786ea4_bab6_11ea_af41_0242ac1c0002row12_col1\" class=\"data row12 col1\" >479</td>\n",
              "            </tr>\n",
              "            <tr>\n",
              "                        <th id=\"T_94786ea4_bab6_11ea_af41_0242ac1c0002level0_row13\" class=\"row_heading level0 row13\" >14</th>\n",
              "                        <td id=\"T_94786ea4_bab6_11ea_af41_0242ac1c0002row13_col0\" class=\"data row13 col0\" >work</td>\n",
              "                        <td id=\"T_94786ea4_bab6_11ea_af41_0242ac1c0002row13_col1\" class=\"data row13 col1\" >463</td>\n",
              "            </tr>\n",
              "            <tr>\n",
              "                        <th id=\"T_94786ea4_bab6_11ea_af41_0242ac1c0002level0_row14\" class=\"row_heading level0 row14\" >15</th>\n",
              "                        <td id=\"T_94786ea4_bab6_11ea_af41_0242ac1c0002row14_col0\" class=\"data row14 col0\" >hard</td>\n",
              "                        <td id=\"T_94786ea4_bab6_11ea_af41_0242ac1c0002row14_col1\" class=\"data row14 col1\" >440</td>\n",
              "            </tr>\n",
              "            <tr>\n",
              "                        <th id=\"T_94786ea4_bab6_11ea_af41_0242ac1c0002level0_row15\" class=\"row_heading level0 row15\" >16</th>\n",
              "                        <td id=\"T_94786ea4_bab6_11ea_af41_0242ac1c0002row15_col0\" class=\"data row15 col0\" >democr</td>\n",
              "                        <td id=\"T_94786ea4_bab6_11ea_af41_0242ac1c0002row15_col1\" class=\"data row15 col1\" >430</td>\n",
              "            </tr>\n",
              "            <tr>\n",
              "                        <th id=\"T_94786ea4_bab6_11ea_af41_0242ac1c0002level0_row16\" class=\"row_heading level0 row16\" >17</th>\n",
              "                        <td id=\"T_94786ea4_bab6_11ea_af41_0242ac1c0002row16_col0\" class=\"data row16 col0\" >want</td>\n",
              "                        <td id=\"T_94786ea4_bab6_11ea_af41_0242ac1c0002row16_col1\" class=\"data row16 col1\" >406</td>\n",
              "            </tr>\n",
              "            <tr>\n",
              "                        <th id=\"T_94786ea4_bab6_11ea_af41_0242ac1c0002level0_row17\" class=\"row_heading level0 row17\" >18</th>\n",
              "                        <td id=\"T_94786ea4_bab6_11ea_af41_0242ac1c0002row17_col0\" class=\"data row17 col0\" >nev</td>\n",
              "                        <td id=\"T_94786ea4_bab6_11ea_af41_0242ac1c0002row17_col1\" class=\"data row17 col1\" >390</td>\n",
              "            </tr>\n",
              "            <tr>\n",
              "                        <th id=\"T_94786ea4_bab6_11ea_af41_0242ac1c0002level0_row18\" class=\"row_heading level0 row18\" >19</th>\n",
              "                        <td id=\"T_94786ea4_bab6_11ea_af41_0242ac1c0002row18_col0\" class=\"data row18 col0\" >twit</td>\n",
              "                        <td id=\"T_94786ea4_bab6_11ea_af41_0242ac1c0002row18_col1\" class=\"data row18 col1\" >379</td>\n",
              "            </tr>\n",
              "            <tr>\n",
              "                        <th id=\"T_94786ea4_bab6_11ea_af41_0242ac1c0002level0_row19\" class=\"row_heading level0 row19\" >20</th>\n",
              "                        <td id=\"T_94786ea4_bab6_11ea_af41_0242ac1c0002row19_col0\" class=\"data row19 col0\" >year</td>\n",
              "                        <td id=\"T_94786ea4_bab6_11ea_af41_0242ac1c0002row19_col1\" class=\"data row19 col1\" >379</td>\n",
              "            </tr>\n",
              "            <tr>\n",
              "                        <th id=\"T_94786ea4_bab6_11ea_af41_0242ac1c0002level0_row20\" class=\"row_heading level0 row20\" >21</th>\n",
              "                        <td id=\"T_94786ea4_bab6_11ea_af41_0242ac1c0002row20_col0\" class=\"data row20 col0\" >real</td>\n",
              "                        <td id=\"T_94786ea4_bab6_11ea_af41_0242ac1c0002row20_col1\" class=\"data row20 col1\" >371</td>\n",
              "            </tr>\n",
              "    </tbody></table>"
            ],
            "text/plain": [
              "<pandas.io.formats.style.Styler at 0x7f75e4b5d3c8>"
            ]
          },
          "metadata": {
            "tags": []
          },
          "execution_count": 64
        }
      ]
    },
    {
      "cell_type": "code",
      "metadata": {
        "id": "hUE2USicnrrr",
        "colab_type": "code",
        "colab": {
          "base_uri": "https://localhost:8080/",
          "height": 542
        },
        "outputId": "f98c35c0-b74f-4335-da73-243b76204586"
      },
      "source": [
        "fig = px.treemap(temp_negative, path=['Common_words'], values='count',title='Tree Of Most Common Words in Negative Tweets')\n",
        "fig.show()"
      ],
      "execution_count": 65,
      "outputs": [
        {
          "output_type": "display_data",
          "data": {
            "text/html": [
              "<html>\n",
              "<head><meta charset=\"utf-8\" /></head>\n",
              "<body>\n",
              "    <div>\n",
              "            <script src=\"https://cdnjs.cloudflare.com/ajax/libs/mathjax/2.7.5/MathJax.js?config=TeX-AMS-MML_SVG\"></script><script type=\"text/javascript\">if (window.MathJax) {MathJax.Hub.Config({SVG: {font: \"STIX-Web\"}});}</script>\n",
              "                <script type=\"text/javascript\">window.PlotlyConfig = {MathJaxConfig: 'local'};</script>\n",
              "        <script src=\"https://cdn.plot.ly/plotly-latest.min.js\"></script>    \n",
              "            <div id=\"93e33d2b-3ebe-4130-9cb2-1253ac3455ef\" class=\"plotly-graph-div\" style=\"height:525px; width:100%;\"></div>\n",
              "            <script type=\"text/javascript\">\n",
              "                \n",
              "                    window.PLOTLYENV=window.PLOTLYENV || {};\n",
              "                    \n",
              "                if (document.getElementById(\"93e33d2b-3ebe-4130-9cb2-1253ac3455ef\")) {\n",
              "                    Plotly.newPlot(\n",
              "                        '93e33d2b-3ebe-4130-9cb2-1253ac3455ef',\n",
              "                        [{\"branchvalues\": \"total\", \"domain\": {\"x\": [0.0, 1.0], \"y\": [0.0, 1.0]}, \"hovertemplate\": \"labels=%{label}<br>count=%{value}<br>parent=%{parent}<br>id=%{id}<extra></extra>\", \"ids\": [\"country\", \"democr\", \"fail\", \"get\", \"gre\", \"hard\", \"mad\", \"nev\", \"new\", \"obam\", \"peopl\", \"presid\", \"real\", \"realdonaldtrump\", \"stat\", \"tim\", \"trump\", \"twit\", \"want\", \"work\", \"year\"], \"labels\": [\"country\", \"democr\", \"fail\", \"get\", \"gre\", \"hard\", \"mad\", \"nev\", \"new\", \"obam\", \"peopl\", \"presid\", \"real\", \"realdonaldtrump\", \"stat\", \"tim\", \"trump\", \"twit\", \"want\", \"work\", \"year\"], \"name\": \"\", \"parents\": [\"\", \"\", \"\", \"\", \"\", \"\", \"\", \"\", \"\", \"\", \"\", \"\", \"\", \"\", \"\", \"\", \"\", \"\", \"\", \"\", \"\"], \"type\": \"treemap\", \"values\": [479, 430, 540, 546, 825, 440, 614, 390, 618, 490, 625, 598, 371, 774, 555, 516, 751, 379, 406, 463, 379]}],\n",
              "                        {\"legend\": {\"tracegroupgap\": 0}, \"template\": {\"data\": {\"bar\": [{\"error_x\": {\"color\": \"#2a3f5f\"}, \"error_y\": {\"color\": \"#2a3f5f\"}, \"marker\": {\"line\": {\"color\": \"#E5ECF6\", \"width\": 0.5}}, \"type\": \"bar\"}], \"barpolar\": [{\"marker\": {\"line\": {\"color\": \"#E5ECF6\", \"width\": 0.5}}, \"type\": \"barpolar\"}], \"carpet\": [{\"aaxis\": {\"endlinecolor\": \"#2a3f5f\", \"gridcolor\": \"white\", \"linecolor\": \"white\", \"minorgridcolor\": \"white\", \"startlinecolor\": \"#2a3f5f\"}, \"baxis\": {\"endlinecolor\": \"#2a3f5f\", \"gridcolor\": \"white\", \"linecolor\": \"white\", \"minorgridcolor\": \"white\", \"startlinecolor\": \"#2a3f5f\"}, \"type\": \"carpet\"}], \"choropleth\": [{\"colorbar\": {\"outlinewidth\": 0, \"ticks\": \"\"}, \"type\": \"choropleth\"}], \"contour\": [{\"colorbar\": {\"outlinewidth\": 0, \"ticks\": \"\"}, \"colorscale\": [[0.0, \"#0d0887\"], [0.1111111111111111, \"#46039f\"], [0.2222222222222222, \"#7201a8\"], [0.3333333333333333, \"#9c179e\"], [0.4444444444444444, \"#bd3786\"], [0.5555555555555556, \"#d8576b\"], [0.6666666666666666, \"#ed7953\"], [0.7777777777777778, \"#fb9f3a\"], [0.8888888888888888, \"#fdca26\"], [1.0, \"#f0f921\"]], \"type\": \"contour\"}], \"contourcarpet\": [{\"colorbar\": {\"outlinewidth\": 0, \"ticks\": \"\"}, \"type\": \"contourcarpet\"}], \"heatmap\": [{\"colorbar\": {\"outlinewidth\": 0, \"ticks\": \"\"}, \"colorscale\": [[0.0, \"#0d0887\"], [0.1111111111111111, \"#46039f\"], [0.2222222222222222, \"#7201a8\"], [0.3333333333333333, \"#9c179e\"], [0.4444444444444444, \"#bd3786\"], [0.5555555555555556, \"#d8576b\"], [0.6666666666666666, \"#ed7953\"], [0.7777777777777778, \"#fb9f3a\"], [0.8888888888888888, \"#fdca26\"], [1.0, \"#f0f921\"]], \"type\": \"heatmap\"}], \"heatmapgl\": [{\"colorbar\": {\"outlinewidth\": 0, \"ticks\": \"\"}, \"colorscale\": [[0.0, \"#0d0887\"], [0.1111111111111111, \"#46039f\"], [0.2222222222222222, \"#7201a8\"], [0.3333333333333333, \"#9c179e\"], [0.4444444444444444, \"#bd3786\"], [0.5555555555555556, \"#d8576b\"], [0.6666666666666666, \"#ed7953\"], [0.7777777777777778, \"#fb9f3a\"], [0.8888888888888888, \"#fdca26\"], [1.0, \"#f0f921\"]], \"type\": \"heatmapgl\"}], \"histogram\": [{\"marker\": {\"colorbar\": {\"outlinewidth\": 0, \"ticks\": \"\"}}, \"type\": \"histogram\"}], \"histogram2d\": [{\"colorbar\": {\"outlinewidth\": 0, \"ticks\": \"\"}, \"colorscale\": [[0.0, \"#0d0887\"], [0.1111111111111111, \"#46039f\"], [0.2222222222222222, \"#7201a8\"], [0.3333333333333333, \"#9c179e\"], [0.4444444444444444, \"#bd3786\"], [0.5555555555555556, \"#d8576b\"], [0.6666666666666666, \"#ed7953\"], [0.7777777777777778, \"#fb9f3a\"], [0.8888888888888888, \"#fdca26\"], [1.0, \"#f0f921\"]], \"type\": \"histogram2d\"}], \"histogram2dcontour\": [{\"colorbar\": {\"outlinewidth\": 0, \"ticks\": \"\"}, \"colorscale\": [[0.0, \"#0d0887\"], [0.1111111111111111, \"#46039f\"], [0.2222222222222222, \"#7201a8\"], [0.3333333333333333, \"#9c179e\"], [0.4444444444444444, \"#bd3786\"], [0.5555555555555556, \"#d8576b\"], [0.6666666666666666, \"#ed7953\"], [0.7777777777777778, \"#fb9f3a\"], [0.8888888888888888, \"#fdca26\"], [1.0, \"#f0f921\"]], \"type\": \"histogram2dcontour\"}], \"mesh3d\": [{\"colorbar\": {\"outlinewidth\": 0, \"ticks\": \"\"}, \"type\": \"mesh3d\"}], \"parcoords\": [{\"line\": {\"colorbar\": {\"outlinewidth\": 0, \"ticks\": \"\"}}, \"type\": \"parcoords\"}], \"pie\": [{\"automargin\": true, \"type\": \"pie\"}], \"scatter\": [{\"marker\": {\"colorbar\": {\"outlinewidth\": 0, \"ticks\": \"\"}}, \"type\": \"scatter\"}], \"scatter3d\": [{\"line\": {\"colorbar\": {\"outlinewidth\": 0, \"ticks\": \"\"}}, \"marker\": {\"colorbar\": {\"outlinewidth\": 0, \"ticks\": \"\"}}, \"type\": \"scatter3d\"}], \"scattercarpet\": [{\"marker\": {\"colorbar\": {\"outlinewidth\": 0, \"ticks\": \"\"}}, \"type\": \"scattercarpet\"}], \"scattergeo\": [{\"marker\": {\"colorbar\": {\"outlinewidth\": 0, \"ticks\": \"\"}}, \"type\": \"scattergeo\"}], \"scattergl\": [{\"marker\": {\"colorbar\": {\"outlinewidth\": 0, \"ticks\": \"\"}}, \"type\": \"scattergl\"}], \"scattermapbox\": [{\"marker\": {\"colorbar\": {\"outlinewidth\": 0, \"ticks\": \"\"}}, \"type\": \"scattermapbox\"}], \"scatterpolar\": [{\"marker\": {\"colorbar\": {\"outlinewidth\": 0, \"ticks\": \"\"}}, \"type\": \"scatterpolar\"}], \"scatterpolargl\": [{\"marker\": {\"colorbar\": {\"outlinewidth\": 0, \"ticks\": \"\"}}, \"type\": \"scatterpolargl\"}], \"scatterternary\": [{\"marker\": {\"colorbar\": {\"outlinewidth\": 0, \"ticks\": \"\"}}, \"type\": \"scatterternary\"}], \"surface\": [{\"colorbar\": {\"outlinewidth\": 0, \"ticks\": \"\"}, \"colorscale\": [[0.0, \"#0d0887\"], [0.1111111111111111, \"#46039f\"], [0.2222222222222222, \"#7201a8\"], [0.3333333333333333, \"#9c179e\"], [0.4444444444444444, \"#bd3786\"], [0.5555555555555556, \"#d8576b\"], [0.6666666666666666, \"#ed7953\"], [0.7777777777777778, \"#fb9f3a\"], [0.8888888888888888, \"#fdca26\"], [1.0, \"#f0f921\"]], \"type\": \"surface\"}], \"table\": [{\"cells\": {\"fill\": {\"color\": \"#EBF0F8\"}, \"line\": {\"color\": \"white\"}}, \"header\": {\"fill\": {\"color\": \"#C8D4E3\"}, \"line\": {\"color\": \"white\"}}, \"type\": \"table\"}]}, \"layout\": {\"annotationdefaults\": {\"arrowcolor\": \"#2a3f5f\", \"arrowhead\": 0, \"arrowwidth\": 1}, \"coloraxis\": {\"colorbar\": {\"outlinewidth\": 0, \"ticks\": \"\"}}, \"colorscale\": {\"diverging\": [[0, \"#8e0152\"], [0.1, \"#c51b7d\"], [0.2, \"#de77ae\"], [0.3, \"#f1b6da\"], [0.4, \"#fde0ef\"], [0.5, \"#f7f7f7\"], [0.6, \"#e6f5d0\"], [0.7, \"#b8e186\"], [0.8, \"#7fbc41\"], [0.9, \"#4d9221\"], [1, \"#276419\"]], \"sequential\": [[0.0, \"#0d0887\"], [0.1111111111111111, \"#46039f\"], [0.2222222222222222, \"#7201a8\"], [0.3333333333333333, \"#9c179e\"], [0.4444444444444444, \"#bd3786\"], [0.5555555555555556, \"#d8576b\"], [0.6666666666666666, \"#ed7953\"], [0.7777777777777778, \"#fb9f3a\"], [0.8888888888888888, \"#fdca26\"], [1.0, \"#f0f921\"]], \"sequentialminus\": [[0.0, \"#0d0887\"], [0.1111111111111111, \"#46039f\"], [0.2222222222222222, \"#7201a8\"], [0.3333333333333333, \"#9c179e\"], [0.4444444444444444, \"#bd3786\"], [0.5555555555555556, \"#d8576b\"], [0.6666666666666666, \"#ed7953\"], [0.7777777777777778, \"#fb9f3a\"], [0.8888888888888888, \"#fdca26\"], [1.0, \"#f0f921\"]]}, \"colorway\": [\"#636efa\", \"#EF553B\", \"#00cc96\", \"#ab63fa\", \"#FFA15A\", \"#19d3f3\", \"#FF6692\", \"#B6E880\", \"#FF97FF\", \"#FECB52\"], \"font\": {\"color\": \"#2a3f5f\"}, \"geo\": {\"bgcolor\": \"white\", \"lakecolor\": \"white\", \"landcolor\": \"#E5ECF6\", \"showlakes\": true, \"showland\": true, \"subunitcolor\": \"white\"}, \"hoverlabel\": {\"align\": \"left\"}, \"hovermode\": \"closest\", \"mapbox\": {\"style\": \"light\"}, \"paper_bgcolor\": \"white\", \"plot_bgcolor\": \"#E5ECF6\", \"polar\": {\"angularaxis\": {\"gridcolor\": \"white\", \"linecolor\": \"white\", \"ticks\": \"\"}, \"bgcolor\": \"#E5ECF6\", \"radialaxis\": {\"gridcolor\": \"white\", \"linecolor\": \"white\", \"ticks\": \"\"}}, \"scene\": {\"xaxis\": {\"backgroundcolor\": \"#E5ECF6\", \"gridcolor\": \"white\", \"gridwidth\": 2, \"linecolor\": \"white\", \"showbackground\": true, \"ticks\": \"\", \"zerolinecolor\": \"white\"}, \"yaxis\": {\"backgroundcolor\": \"#E5ECF6\", \"gridcolor\": \"white\", \"gridwidth\": 2, \"linecolor\": \"white\", \"showbackground\": true, \"ticks\": \"\", \"zerolinecolor\": \"white\"}, \"zaxis\": {\"backgroundcolor\": \"#E5ECF6\", \"gridcolor\": \"white\", \"gridwidth\": 2, \"linecolor\": \"white\", \"showbackground\": true, \"ticks\": \"\", \"zerolinecolor\": \"white\"}}, \"shapedefaults\": {\"line\": {\"color\": \"#2a3f5f\"}}, \"ternary\": {\"aaxis\": {\"gridcolor\": \"white\", \"linecolor\": \"white\", \"ticks\": \"\"}, \"baxis\": {\"gridcolor\": \"white\", \"linecolor\": \"white\", \"ticks\": \"\"}, \"bgcolor\": \"#E5ECF6\", \"caxis\": {\"gridcolor\": \"white\", \"linecolor\": \"white\", \"ticks\": \"\"}}, \"title\": {\"x\": 0.05}, \"xaxis\": {\"automargin\": true, \"gridcolor\": \"white\", \"linecolor\": \"white\", \"ticks\": \"\", \"title\": {\"standoff\": 15}, \"zerolinecolor\": \"white\", \"zerolinewidth\": 2}, \"yaxis\": {\"automargin\": true, \"gridcolor\": \"white\", \"linecolor\": \"white\", \"ticks\": \"\", \"title\": {\"standoff\": 15}, \"zerolinecolor\": \"white\", \"zerolinewidth\": 2}}}, \"title\": {\"text\": \"Tree Of Most Common Words in Negative Tweets\"}},\n",
              "                        {\"responsive\": true}\n",
              "                    ).then(function(){\n",
              "                            \n",
              "var gd = document.getElementById('93e33d2b-3ebe-4130-9cb2-1253ac3455ef');\n",
              "var x = new MutationObserver(function (mutations, observer) {{\n",
              "        var display = window.getComputedStyle(gd).display;\n",
              "        if (!display || display === 'none') {{\n",
              "            console.log([gd, 'removed!']);\n",
              "            Plotly.purge(gd);\n",
              "            observer.disconnect();\n",
              "        }}\n",
              "}});\n",
              "\n",
              "// Listen for the removal of the full notebook cells\n",
              "var notebookContainer = gd.closest('#notebook-container');\n",
              "if (notebookContainer) {{\n",
              "    x.observe(notebookContainer, {childList: true});\n",
              "}}\n",
              "\n",
              "// Listen for the clearing of the current output cell\n",
              "var outputEl = gd.closest('.output');\n",
              "if (outputEl) {{\n",
              "    x.observe(outputEl, {childList: true});\n",
              "}}\n",
              "\n",
              "                        })\n",
              "                };\n",
              "                \n",
              "            </script>\n",
              "        </div>\n",
              "</body>\n",
              "</html>"
            ]
          },
          "metadata": {
            "tags": []
          }
        }
      ]
    },
    {
      "cell_type": "code",
      "metadata": {
        "id": "7zztu6ktn598",
        "colab_type": "code",
        "colab": {
          "base_uri": "https://localhost:8080/",
          "height": 446
        },
        "outputId": "fdfc1529-a2a2-4ced-9979-927e32e98858"
      },
      "source": [
        "# 8.4: Finding Common words for neutral Sentiment tweets\n",
        "#MosT common Neutral words\n",
        "top = Counter([item for sublist in Neutral_sent['content'] for item in sublist])\n",
        "temp_neutral = pd.DataFrame(top.most_common(20))\n",
        "temp_neutral = temp_neutral.loc[1:,:]\n",
        "temp_neutral.columns = ['Common_words','count']\n",
        "temp_neutral.style.background_gradient(cmap='Reds')"
      ],
      "execution_count": 66,
      "outputs": [
        {
          "output_type": "execute_result",
          "data": {
            "text/html": [
              "<style  type=\"text/css\" >\n",
              "    #T_01ce82c2_bab7_11ea_af41_0242ac1c0002row0_col1 {\n",
              "            background-color:  #67000d;\n",
              "            color:  #f1f1f1;\n",
              "        }    #T_01ce82c2_bab7_11ea_af41_0242ac1c0002row1_col1 {\n",
              "            background-color:  #71020e;\n",
              "            color:  #f1f1f1;\n",
              "        }    #T_01ce82c2_bab7_11ea_af41_0242ac1c0002row2_col1 {\n",
              "            background-color:  #8a0812;\n",
              "            color:  #f1f1f1;\n",
              "        }    #T_01ce82c2_bab7_11ea_af41_0242ac1c0002row3_col1 {\n",
              "            background-color:  #a10e15;\n",
              "            color:  #f1f1f1;\n",
              "        }    #T_01ce82c2_bab7_11ea_af41_0242ac1c0002row4_col1 {\n",
              "            background-color:  #fca486;\n",
              "            color:  #000000;\n",
              "        }    #T_01ce82c2_bab7_11ea_af41_0242ac1c0002row5_col1 {\n",
              "            background-color:  #fcc1a8;\n",
              "            color:  #000000;\n",
              "        }    #T_01ce82c2_bab7_11ea_af41_0242ac1c0002row6_col1 {\n",
              "            background-color:  #fdc9b3;\n",
              "            color:  #000000;\n",
              "        }    #T_01ce82c2_bab7_11ea_af41_0242ac1c0002row7_col1 {\n",
              "            background-color:  #fed8c7;\n",
              "            color:  #000000;\n",
              "        }    #T_01ce82c2_bab7_11ea_af41_0242ac1c0002row8_col1 {\n",
              "            background-color:  #fee7db;\n",
              "            color:  #000000;\n",
              "        }    #T_01ce82c2_bab7_11ea_af41_0242ac1c0002row9_col1 {\n",
              "            background-color:  #fee7dc;\n",
              "            color:  #000000;\n",
              "        }    #T_01ce82c2_bab7_11ea_af41_0242ac1c0002row10_col1 {\n",
              "            background-color:  #ffebe2;\n",
              "            color:  #000000;\n",
              "        }    #T_01ce82c2_bab7_11ea_af41_0242ac1c0002row11_col1 {\n",
              "            background-color:  #ffece3;\n",
              "            color:  #000000;\n",
              "        }    #T_01ce82c2_bab7_11ea_af41_0242ac1c0002row12_col1 {\n",
              "            background-color:  #ffede5;\n",
              "            color:  #000000;\n",
              "        }    #T_01ce82c2_bab7_11ea_af41_0242ac1c0002row13_col1 {\n",
              "            background-color:  #fff0e9;\n",
              "            color:  #000000;\n",
              "        }    #T_01ce82c2_bab7_11ea_af41_0242ac1c0002row14_col1 {\n",
              "            background-color:  #fff1ea;\n",
              "            color:  #000000;\n",
              "        }    #T_01ce82c2_bab7_11ea_af41_0242ac1c0002row15_col1 {\n",
              "            background-color:  #fff2ec;\n",
              "            color:  #000000;\n",
              "        }    #T_01ce82c2_bab7_11ea_af41_0242ac1c0002row16_col1 {\n",
              "            background-color:  #fff3ed;\n",
              "            color:  #000000;\n",
              "        }    #T_01ce82c2_bab7_11ea_af41_0242ac1c0002row17_col1 {\n",
              "            background-color:  #fff5f0;\n",
              "            color:  #000000;\n",
              "        }    #T_01ce82c2_bab7_11ea_af41_0242ac1c0002row18_col1 {\n",
              "            background-color:  #fff5f0;\n",
              "            color:  #000000;\n",
              "        }</style><table id=\"T_01ce82c2_bab7_11ea_af41_0242ac1c0002\" ><thead>    <tr>        <th class=\"blank level0\" ></th>        <th class=\"col_heading level0 col0\" >Common_words</th>        <th class=\"col_heading level0 col1\" >count</th>    </tr></thead><tbody>\n",
              "                <tr>\n",
              "                        <th id=\"T_01ce82c2_bab7_11ea_af41_0242ac1c0002level0_row0\" class=\"row_heading level0 row0\" >1</th>\n",
              "                        <td id=\"T_01ce82c2_bab7_11ea_af41_0242ac1c0002row0_col0\" class=\"data row0 col0\" >thank</td>\n",
              "                        <td id=\"T_01ce82c2_bab7_11ea_af41_0242ac1c0002row0_col1\" class=\"data row0 col1\" >3276</td>\n",
              "            </tr>\n",
              "            <tr>\n",
              "                        <th id=\"T_01ce82c2_bab7_11ea_af41_0242ac1c0002level0_row1\" class=\"row_heading level0 row1\" >2</th>\n",
              "                        <td id=\"T_01ce82c2_bab7_11ea_af41_0242ac1c0002row1_col0\" class=\"data row1 col0\" >twit</td>\n",
              "                        <td id=\"T_01ce82c2_bab7_11ea_af41_0242ac1c0002row1_col1\" class=\"data row1 col1\" >3221</td>\n",
              "            </tr>\n",
              "            <tr>\n",
              "                        <th id=\"T_01ce82c2_bab7_11ea_af41_0242ac1c0002level0_row2\" class=\"row_heading level0 row2\" >3</th>\n",
              "                        <td id=\"T_01ce82c2_bab7_11ea_af41_0242ac1c0002row2_col0\" class=\"data row2 col0\" >trump</td>\n",
              "                        <td id=\"T_01ce82c2_bab7_11ea_af41_0242ac1c0002row2_col1\" class=\"data row2 col1\" >3084</td>\n",
              "            </tr>\n",
              "            <tr>\n",
              "                        <th id=\"T_01ce82c2_bab7_11ea_af41_0242ac1c0002level0_row3\" class=\"row_heading level0 row3\" >4</th>\n",
              "                        <td id=\"T_01ce82c2_bab7_11ea_af41_0242ac1c0002row3_col0\" class=\"data row3 col0\" >gre</td>\n",
              "                        <td id=\"T_01ce82c2_bab7_11ea_af41_0242ac1c0002row3_col1\" class=\"data row3 col1\" >2968</td>\n",
              "            </tr>\n",
              "            <tr>\n",
              "                        <th id=\"T_01ce82c2_bab7_11ea_af41_0242ac1c0002level0_row4\" class=\"row_heading level0 row4\" >5</th>\n",
              "                        <td id=\"T_01ce82c2_bab7_11ea_af41_0242ac1c0002row4_col0\" class=\"data row4 col0\" >presid</td>\n",
              "                        <td id=\"T_01ce82c2_bab7_11ea_af41_0242ac1c0002row4_col1\" class=\"data row4 col1\" >1523</td>\n",
              "            </tr>\n",
              "            <tr>\n",
              "                        <th id=\"T_01ce82c2_bab7_11ea_af41_0242ac1c0002level0_row5\" class=\"row_heading level0 row5\" >6</th>\n",
              "                        <td id=\"T_01ce82c2_bab7_11ea_af41_0242ac1c0002row5_col0\" class=\"data row5 col0\" >stat</td>\n",
              "                        <td id=\"T_01ce82c2_bab7_11ea_af41_0242ac1c0002row5_col1\" class=\"data row5 col1\" >1286</td>\n",
              "            </tr>\n",
              "            <tr>\n",
              "                        <th id=\"T_01ce82c2_bab7_11ea_af41_0242ac1c0002level0_row6\" class=\"row_heading level0 row6\" >7</th>\n",
              "                        <td id=\"T_01ce82c2_bab7_11ea_af41_0242ac1c0002row6_col0\" class=\"data row6 col0\" >donald</td>\n",
              "                        <td id=\"T_01ce82c2_bab7_11ea_af41_0242ac1c0002row6_col1\" class=\"data row6 col1\" >1213</td>\n",
              "            </tr>\n",
              "            <tr>\n",
              "                        <th id=\"T_01ce82c2_bab7_11ea_af41_0242ac1c0002level0_row7\" class=\"row_heading level0 row7\" >8</th>\n",
              "                        <td id=\"T_01ce82c2_bab7_11ea_af41_0242ac1c0002row7_col0\" class=\"data row7 col0\" >bit</td>\n",
              "                        <td id=\"T_01ce82c2_bab7_11ea_af41_0242ac1c0002row7_col1\" class=\"data row7 col1\" >1090</td>\n",
              "            </tr>\n",
              "            <tr>\n",
              "                        <th id=\"T_01ce82c2_bab7_11ea_af41_0242ac1c0002level0_row8\" class=\"row_heading level0 row8\" >9</th>\n",
              "                        <td id=\"T_01ce82c2_bab7_11ea_af41_0242ac1c0002row8_col0\" class=\"data row8 col0\" >mak</td>\n",
              "                        <td id=\"T_01ce82c2_bab7_11ea_af41_0242ac1c0002row8_col1\" class=\"data row8 col1\" >914</td>\n",
              "            </tr>\n",
              "            <tr>\n",
              "                        <th id=\"T_01ce82c2_bab7_11ea_af41_0242ac1c0002level0_row9\" class=\"row_heading level0 row9\" >10</th>\n",
              "                        <td id=\"T_01ce82c2_bab7_11ea_af41_0242ac1c0002row9_col0\" class=\"data row9 col0\" >americ</td>\n",
              "                        <td id=\"T_01ce82c2_bab7_11ea_af41_0242ac1c0002row9_col1\" class=\"data row9 col1\" >900</td>\n",
              "            </tr>\n",
              "            <tr>\n",
              "                        <th id=\"T_01ce82c2_bab7_11ea_af41_0242ac1c0002level0_row10\" class=\"row_heading level0 row10\" >11</th>\n",
              "                        <td id=\"T_01ce82c2_bab7_11ea_af41_0242ac1c0002row10_col0\" class=\"data row10 col0\" >run</td>\n",
              "                        <td id=\"T_01ce82c2_bab7_11ea_af41_0242ac1c0002row10_col1\" class=\"data row10 col1\" >843</td>\n",
              "            </tr>\n",
              "            <tr>\n",
              "                        <th id=\"T_01ce82c2_bab7_11ea_af41_0242ac1c0002level0_row11\" class=\"row_heading level0 row11\" >12</th>\n",
              "                        <td id=\"T_01ce82c2_bab7_11ea_af41_0242ac1c0002row11_col0\" class=\"data row11 col0\" >get</td>\n",
              "                        <td id=\"T_01ce82c2_bab7_11ea_af41_0242ac1c0002row11_col1\" class=\"data row11 col1\" >832</td>\n",
              "            </tr>\n",
              "            <tr>\n",
              "                        <th id=\"T_01ce82c2_bab7_11ea_af41_0242ac1c0002level0_row12\" class=\"row_heading level0 row12\" >13</th>\n",
              "                        <td id=\"T_01ce82c2_bab7_11ea_af41_0242ac1c0002row12_col0\" class=\"data row12 col0\" >vot</td>\n",
              "                        <td id=\"T_01ce82c2_bab7_11ea_af41_0242ac1c0002row12_col1\" class=\"data row12 col1\" >816</td>\n",
              "            </tr>\n",
              "            <tr>\n",
              "                        <th id=\"T_01ce82c2_bab7_11ea_af41_0242ac1c0002level0_row13\" class=\"row_heading level0 row13\" >14</th>\n",
              "                        <td id=\"T_01ce82c2_bab7_11ea_af41_0242ac1c0002row13_col0\" class=\"data row13 col0\" >peopl</td>\n",
              "                        <td id=\"T_01ce82c2_bab7_11ea_af41_0242ac1c0002row13_col1\" class=\"data row13 col1\" >760</td>\n",
              "            </tr>\n",
              "            <tr>\n",
              "                        <th id=\"T_01ce82c2_bab7_11ea_af41_0242ac1c0002level0_row14\" class=\"row_heading level0 row14\" >15</th>\n",
              "                        <td id=\"T_01ce82c2_bab7_11ea_af41_0242ac1c0002row14_col0\" class=\"data row14 col0\" >obam</td>\n",
              "                        <td id=\"T_01ce82c2_bab7_11ea_af41_0242ac1c0002row14_col1\" class=\"data row14 col1\" >753</td>\n",
              "            </tr>\n",
              "            <tr>\n",
              "                        <th id=\"T_01ce82c2_bab7_11ea_af41_0242ac1c0002level0_row15\" class=\"row_heading level0 row15\" >16</th>\n",
              "                        <td id=\"T_01ce82c2_bab7_11ea_af41_0242ac1c0002row15_col0\" class=\"data row15 col0\" >lov</td>\n",
              "                        <td id=\"T_01ce82c2_bab7_11ea_af41_0242ac1c0002row15_col1\" class=\"data row15 col1\" >731</td>\n",
              "            </tr>\n",
              "            <tr>\n",
              "                        <th id=\"T_01ce82c2_bab7_11ea_af41_0242ac1c0002level0_row16\" class=\"row_heading level0 row16\" >17</th>\n",
              "                        <td id=\"T_01ce82c2_bab7_11ea_af41_0242ac1c0002row16_col0\" class=\"data row16 col0\" >country</td>\n",
              "                        <td id=\"T_01ce82c2_bab7_11ea_af41_0242ac1c0002row16_col1\" class=\"data row16 col1\" >724</td>\n",
              "            </tr>\n",
              "            <tr>\n",
              "                        <th id=\"T_01ce82c2_bab7_11ea_af41_0242ac1c0002level0_row17\" class=\"row_heading level0 row17\" >18</th>\n",
              "                        <td id=\"T_01ce82c2_bab7_11ea_af41_0242ac1c0002row17_col0\" class=\"data row17 col0\" >tru</td>\n",
              "                        <td id=\"T_01ce82c2_bab7_11ea_af41_0242ac1c0002row17_col1\" class=\"data row17 col1\" >697</td>\n",
              "            </tr>\n",
              "            <tr>\n",
              "                        <th id=\"T_01ce82c2_bab7_11ea_af41_0242ac1c0002level0_row18\" class=\"row_heading level0 row18\" >19</th>\n",
              "                        <td id=\"T_01ce82c2_bab7_11ea_af41_0242ac1c0002row18_col0\" class=\"data row18 col0\" >nee</td>\n",
              "                        <td id=\"T_01ce82c2_bab7_11ea_af41_0242ac1c0002row18_col1\" class=\"data row18 col1\" >687</td>\n",
              "            </tr>\n",
              "    </tbody></table>"
            ],
            "text/plain": [
              "<pandas.io.formats.style.Styler at 0x7f75e4b565c0>"
            ]
          },
          "metadata": {
            "tags": []
          },
          "execution_count": 66
        }
      ]
    },
    {
      "cell_type": "code",
      "metadata": {
        "id": "wLXcdWUdobWo",
        "colab_type": "code",
        "colab": {
          "base_uri": "https://localhost:8080/",
          "height": 446
        },
        "outputId": "dbe90315-5315-459c-9fae-ed604fbfc20e"
      },
      "source": [
        "top = Counter([item for sublist in Neutral_sent['content'] for item in sublist])\n",
        "temp_neutral = pd.DataFrame(top.most_common(20))\n",
        "temp_neutral = temp_neutral.loc[1:,:]\n",
        "temp_neutral.columns = ['Common_words','count']\n",
        "\n",
        "#Data cleaning\n",
        "temp_neutral['Common_words'] = temp_neutral['Common_words'].map(lambda x: re.sub(r'\\W+', '', x))\n",
        "temp_neutral['Common_words'] = temp_neutral['Common_words'].replace(r'\\W+', '', regex=True)\n",
        "temp_neutral=temp_neutral[~temp_neutral['Common_words'].isin(['s'])] #new line removing meaningless words from above\n",
        "\n",
        "temp_neutral.Common_words =  temp_neutral.Common_words.replace(\"\", np.nan)\n",
        "temp_neutral = temp_neutral.dropna(subset=['Common_words'])\n",
        "\n",
        "temp_neutral.style.background_gradient(cmap='Reds')"
      ],
      "execution_count": 67,
      "outputs": [
        {
          "output_type": "execute_result",
          "data": {
            "text/html": [
              "<style  type=\"text/css\" >\n",
              "    #T_13d3a466_bab7_11ea_af41_0242ac1c0002row0_col1 {\n",
              "            background-color:  #67000d;\n",
              "            color:  #f1f1f1;\n",
              "        }    #T_13d3a466_bab7_11ea_af41_0242ac1c0002row1_col1 {\n",
              "            background-color:  #71020e;\n",
              "            color:  #f1f1f1;\n",
              "        }    #T_13d3a466_bab7_11ea_af41_0242ac1c0002row2_col1 {\n",
              "            background-color:  #8a0812;\n",
              "            color:  #f1f1f1;\n",
              "        }    #T_13d3a466_bab7_11ea_af41_0242ac1c0002row3_col1 {\n",
              "            background-color:  #a10e15;\n",
              "            color:  #f1f1f1;\n",
              "        }    #T_13d3a466_bab7_11ea_af41_0242ac1c0002row4_col1 {\n",
              "            background-color:  #fca486;\n",
              "            color:  #000000;\n",
              "        }    #T_13d3a466_bab7_11ea_af41_0242ac1c0002row5_col1 {\n",
              "            background-color:  #fcc1a8;\n",
              "            color:  #000000;\n",
              "        }    #T_13d3a466_bab7_11ea_af41_0242ac1c0002row6_col1 {\n",
              "            background-color:  #fdc9b3;\n",
              "            color:  #000000;\n",
              "        }    #T_13d3a466_bab7_11ea_af41_0242ac1c0002row7_col1 {\n",
              "            background-color:  #fed8c7;\n",
              "            color:  #000000;\n",
              "        }    #T_13d3a466_bab7_11ea_af41_0242ac1c0002row8_col1 {\n",
              "            background-color:  #fee7db;\n",
              "            color:  #000000;\n",
              "        }    #T_13d3a466_bab7_11ea_af41_0242ac1c0002row9_col1 {\n",
              "            background-color:  #fee7dc;\n",
              "            color:  #000000;\n",
              "        }    #T_13d3a466_bab7_11ea_af41_0242ac1c0002row10_col1 {\n",
              "            background-color:  #ffebe2;\n",
              "            color:  #000000;\n",
              "        }    #T_13d3a466_bab7_11ea_af41_0242ac1c0002row11_col1 {\n",
              "            background-color:  #ffece3;\n",
              "            color:  #000000;\n",
              "        }    #T_13d3a466_bab7_11ea_af41_0242ac1c0002row12_col1 {\n",
              "            background-color:  #ffede5;\n",
              "            color:  #000000;\n",
              "        }    #T_13d3a466_bab7_11ea_af41_0242ac1c0002row13_col1 {\n",
              "            background-color:  #fff0e9;\n",
              "            color:  #000000;\n",
              "        }    #T_13d3a466_bab7_11ea_af41_0242ac1c0002row14_col1 {\n",
              "            background-color:  #fff1ea;\n",
              "            color:  #000000;\n",
              "        }    #T_13d3a466_bab7_11ea_af41_0242ac1c0002row15_col1 {\n",
              "            background-color:  #fff2ec;\n",
              "            color:  #000000;\n",
              "        }    #T_13d3a466_bab7_11ea_af41_0242ac1c0002row16_col1 {\n",
              "            background-color:  #fff3ed;\n",
              "            color:  #000000;\n",
              "        }    #T_13d3a466_bab7_11ea_af41_0242ac1c0002row17_col1 {\n",
              "            background-color:  #fff5f0;\n",
              "            color:  #000000;\n",
              "        }    #T_13d3a466_bab7_11ea_af41_0242ac1c0002row18_col1 {\n",
              "            background-color:  #fff5f0;\n",
              "            color:  #000000;\n",
              "        }</style><table id=\"T_13d3a466_bab7_11ea_af41_0242ac1c0002\" ><thead>    <tr>        <th class=\"blank level0\" ></th>        <th class=\"col_heading level0 col0\" >Common_words</th>        <th class=\"col_heading level0 col1\" >count</th>    </tr></thead><tbody>\n",
              "                <tr>\n",
              "                        <th id=\"T_13d3a466_bab7_11ea_af41_0242ac1c0002level0_row0\" class=\"row_heading level0 row0\" >1</th>\n",
              "                        <td id=\"T_13d3a466_bab7_11ea_af41_0242ac1c0002row0_col0\" class=\"data row0 col0\" >thank</td>\n",
              "                        <td id=\"T_13d3a466_bab7_11ea_af41_0242ac1c0002row0_col1\" class=\"data row0 col1\" >3276</td>\n",
              "            </tr>\n",
              "            <tr>\n",
              "                        <th id=\"T_13d3a466_bab7_11ea_af41_0242ac1c0002level0_row1\" class=\"row_heading level0 row1\" >2</th>\n",
              "                        <td id=\"T_13d3a466_bab7_11ea_af41_0242ac1c0002row1_col0\" class=\"data row1 col0\" >twit</td>\n",
              "                        <td id=\"T_13d3a466_bab7_11ea_af41_0242ac1c0002row1_col1\" class=\"data row1 col1\" >3221</td>\n",
              "            </tr>\n",
              "            <tr>\n",
              "                        <th id=\"T_13d3a466_bab7_11ea_af41_0242ac1c0002level0_row2\" class=\"row_heading level0 row2\" >3</th>\n",
              "                        <td id=\"T_13d3a466_bab7_11ea_af41_0242ac1c0002row2_col0\" class=\"data row2 col0\" >trump</td>\n",
              "                        <td id=\"T_13d3a466_bab7_11ea_af41_0242ac1c0002row2_col1\" class=\"data row2 col1\" >3084</td>\n",
              "            </tr>\n",
              "            <tr>\n",
              "                        <th id=\"T_13d3a466_bab7_11ea_af41_0242ac1c0002level0_row3\" class=\"row_heading level0 row3\" >4</th>\n",
              "                        <td id=\"T_13d3a466_bab7_11ea_af41_0242ac1c0002row3_col0\" class=\"data row3 col0\" >gre</td>\n",
              "                        <td id=\"T_13d3a466_bab7_11ea_af41_0242ac1c0002row3_col1\" class=\"data row3 col1\" >2968</td>\n",
              "            </tr>\n",
              "            <tr>\n",
              "                        <th id=\"T_13d3a466_bab7_11ea_af41_0242ac1c0002level0_row4\" class=\"row_heading level0 row4\" >5</th>\n",
              "                        <td id=\"T_13d3a466_bab7_11ea_af41_0242ac1c0002row4_col0\" class=\"data row4 col0\" >presid</td>\n",
              "                        <td id=\"T_13d3a466_bab7_11ea_af41_0242ac1c0002row4_col1\" class=\"data row4 col1\" >1523</td>\n",
              "            </tr>\n",
              "            <tr>\n",
              "                        <th id=\"T_13d3a466_bab7_11ea_af41_0242ac1c0002level0_row5\" class=\"row_heading level0 row5\" >6</th>\n",
              "                        <td id=\"T_13d3a466_bab7_11ea_af41_0242ac1c0002row5_col0\" class=\"data row5 col0\" >stat</td>\n",
              "                        <td id=\"T_13d3a466_bab7_11ea_af41_0242ac1c0002row5_col1\" class=\"data row5 col1\" >1286</td>\n",
              "            </tr>\n",
              "            <tr>\n",
              "                        <th id=\"T_13d3a466_bab7_11ea_af41_0242ac1c0002level0_row6\" class=\"row_heading level0 row6\" >7</th>\n",
              "                        <td id=\"T_13d3a466_bab7_11ea_af41_0242ac1c0002row6_col0\" class=\"data row6 col0\" >donald</td>\n",
              "                        <td id=\"T_13d3a466_bab7_11ea_af41_0242ac1c0002row6_col1\" class=\"data row6 col1\" >1213</td>\n",
              "            </tr>\n",
              "            <tr>\n",
              "                        <th id=\"T_13d3a466_bab7_11ea_af41_0242ac1c0002level0_row7\" class=\"row_heading level0 row7\" >8</th>\n",
              "                        <td id=\"T_13d3a466_bab7_11ea_af41_0242ac1c0002row7_col0\" class=\"data row7 col0\" >bit</td>\n",
              "                        <td id=\"T_13d3a466_bab7_11ea_af41_0242ac1c0002row7_col1\" class=\"data row7 col1\" >1090</td>\n",
              "            </tr>\n",
              "            <tr>\n",
              "                        <th id=\"T_13d3a466_bab7_11ea_af41_0242ac1c0002level0_row8\" class=\"row_heading level0 row8\" >9</th>\n",
              "                        <td id=\"T_13d3a466_bab7_11ea_af41_0242ac1c0002row8_col0\" class=\"data row8 col0\" >mak</td>\n",
              "                        <td id=\"T_13d3a466_bab7_11ea_af41_0242ac1c0002row8_col1\" class=\"data row8 col1\" >914</td>\n",
              "            </tr>\n",
              "            <tr>\n",
              "                        <th id=\"T_13d3a466_bab7_11ea_af41_0242ac1c0002level0_row9\" class=\"row_heading level0 row9\" >10</th>\n",
              "                        <td id=\"T_13d3a466_bab7_11ea_af41_0242ac1c0002row9_col0\" class=\"data row9 col0\" >americ</td>\n",
              "                        <td id=\"T_13d3a466_bab7_11ea_af41_0242ac1c0002row9_col1\" class=\"data row9 col1\" >900</td>\n",
              "            </tr>\n",
              "            <tr>\n",
              "                        <th id=\"T_13d3a466_bab7_11ea_af41_0242ac1c0002level0_row10\" class=\"row_heading level0 row10\" >11</th>\n",
              "                        <td id=\"T_13d3a466_bab7_11ea_af41_0242ac1c0002row10_col0\" class=\"data row10 col0\" >run</td>\n",
              "                        <td id=\"T_13d3a466_bab7_11ea_af41_0242ac1c0002row10_col1\" class=\"data row10 col1\" >843</td>\n",
              "            </tr>\n",
              "            <tr>\n",
              "                        <th id=\"T_13d3a466_bab7_11ea_af41_0242ac1c0002level0_row11\" class=\"row_heading level0 row11\" >12</th>\n",
              "                        <td id=\"T_13d3a466_bab7_11ea_af41_0242ac1c0002row11_col0\" class=\"data row11 col0\" >get</td>\n",
              "                        <td id=\"T_13d3a466_bab7_11ea_af41_0242ac1c0002row11_col1\" class=\"data row11 col1\" >832</td>\n",
              "            </tr>\n",
              "            <tr>\n",
              "                        <th id=\"T_13d3a466_bab7_11ea_af41_0242ac1c0002level0_row12\" class=\"row_heading level0 row12\" >13</th>\n",
              "                        <td id=\"T_13d3a466_bab7_11ea_af41_0242ac1c0002row12_col0\" class=\"data row12 col0\" >vot</td>\n",
              "                        <td id=\"T_13d3a466_bab7_11ea_af41_0242ac1c0002row12_col1\" class=\"data row12 col1\" >816</td>\n",
              "            </tr>\n",
              "            <tr>\n",
              "                        <th id=\"T_13d3a466_bab7_11ea_af41_0242ac1c0002level0_row13\" class=\"row_heading level0 row13\" >14</th>\n",
              "                        <td id=\"T_13d3a466_bab7_11ea_af41_0242ac1c0002row13_col0\" class=\"data row13 col0\" >peopl</td>\n",
              "                        <td id=\"T_13d3a466_bab7_11ea_af41_0242ac1c0002row13_col1\" class=\"data row13 col1\" >760</td>\n",
              "            </tr>\n",
              "            <tr>\n",
              "                        <th id=\"T_13d3a466_bab7_11ea_af41_0242ac1c0002level0_row14\" class=\"row_heading level0 row14\" >15</th>\n",
              "                        <td id=\"T_13d3a466_bab7_11ea_af41_0242ac1c0002row14_col0\" class=\"data row14 col0\" >obam</td>\n",
              "                        <td id=\"T_13d3a466_bab7_11ea_af41_0242ac1c0002row14_col1\" class=\"data row14 col1\" >753</td>\n",
              "            </tr>\n",
              "            <tr>\n",
              "                        <th id=\"T_13d3a466_bab7_11ea_af41_0242ac1c0002level0_row15\" class=\"row_heading level0 row15\" >16</th>\n",
              "                        <td id=\"T_13d3a466_bab7_11ea_af41_0242ac1c0002row15_col0\" class=\"data row15 col0\" >lov</td>\n",
              "                        <td id=\"T_13d3a466_bab7_11ea_af41_0242ac1c0002row15_col1\" class=\"data row15 col1\" >731</td>\n",
              "            </tr>\n",
              "            <tr>\n",
              "                        <th id=\"T_13d3a466_bab7_11ea_af41_0242ac1c0002level0_row16\" class=\"row_heading level0 row16\" >17</th>\n",
              "                        <td id=\"T_13d3a466_bab7_11ea_af41_0242ac1c0002row16_col0\" class=\"data row16 col0\" >country</td>\n",
              "                        <td id=\"T_13d3a466_bab7_11ea_af41_0242ac1c0002row16_col1\" class=\"data row16 col1\" >724</td>\n",
              "            </tr>\n",
              "            <tr>\n",
              "                        <th id=\"T_13d3a466_bab7_11ea_af41_0242ac1c0002level0_row17\" class=\"row_heading level0 row17\" >18</th>\n",
              "                        <td id=\"T_13d3a466_bab7_11ea_af41_0242ac1c0002row17_col0\" class=\"data row17 col0\" >tru</td>\n",
              "                        <td id=\"T_13d3a466_bab7_11ea_af41_0242ac1c0002row17_col1\" class=\"data row17 col1\" >697</td>\n",
              "            </tr>\n",
              "            <tr>\n",
              "                        <th id=\"T_13d3a466_bab7_11ea_af41_0242ac1c0002level0_row18\" class=\"row_heading level0 row18\" >19</th>\n",
              "                        <td id=\"T_13d3a466_bab7_11ea_af41_0242ac1c0002row18_col0\" class=\"data row18 col0\" >nee</td>\n",
              "                        <td id=\"T_13d3a466_bab7_11ea_af41_0242ac1c0002row18_col1\" class=\"data row18 col1\" >687</td>\n",
              "            </tr>\n",
              "    </tbody></table>"
            ],
            "text/plain": [
              "<pandas.io.formats.style.Styler at 0x7f75e4b5a588>"
            ]
          },
          "metadata": {
            "tags": []
          },
          "execution_count": 67
        }
      ]
    },
    {
      "cell_type": "code",
      "metadata": {
        "id": "MulmS_mOoiu9",
        "colab_type": "code",
        "colab": {
          "base_uri": "https://localhost:8080/",
          "height": 717
        },
        "outputId": "7cbf278a-49f9-4835-be67-afae95fae46a"
      },
      "source": [
        "fig = px.bar(temp_neutral, x=\"count\", y=\"Common_words\", title='Most Commmon Neutral Words', orientation='h', \n",
        "             width=700, height=700,color='Common_words')\n",
        "fig.show()"
      ],
      "execution_count": 68,
      "outputs": [
        {
          "output_type": "display_data",
          "data": {
            "text/html": [
              "<html>\n",
              "<head><meta charset=\"utf-8\" /></head>\n",
              "<body>\n",
              "    <div>\n",
              "            <script src=\"https://cdnjs.cloudflare.com/ajax/libs/mathjax/2.7.5/MathJax.js?config=TeX-AMS-MML_SVG\"></script><script type=\"text/javascript\">if (window.MathJax) {MathJax.Hub.Config({SVG: {font: \"STIX-Web\"}});}</script>\n",
              "                <script type=\"text/javascript\">window.PlotlyConfig = {MathJaxConfig: 'local'};</script>\n",
              "        <script src=\"https://cdn.plot.ly/plotly-latest.min.js\"></script>    \n",
              "            <div id=\"ddf48d87-93ca-4632-a41d-5a91bf4fd599\" class=\"plotly-graph-div\" style=\"height:700px; width:700px;\"></div>\n",
              "            <script type=\"text/javascript\">\n",
              "                \n",
              "                    window.PLOTLYENV=window.PLOTLYENV || {};\n",
              "                    \n",
              "                if (document.getElementById(\"ddf48d87-93ca-4632-a41d-5a91bf4fd599\")) {\n",
              "                    Plotly.newPlot(\n",
              "                        'ddf48d87-93ca-4632-a41d-5a91bf4fd599',\n",
              "                        [{\"alignmentgroup\": \"True\", \"hovertemplate\": \"Common_words=%{y}<br>count=%{x}<extra></extra>\", \"legendgroup\": \"thank\", \"marker\": {\"color\": \"#636efa\"}, \"name\": \"thank\", \"offsetgroup\": \"thank\", \"orientation\": \"h\", \"showlegend\": true, \"textposition\": \"auto\", \"type\": \"bar\", \"x\": [3276], \"xaxis\": \"x\", \"y\": [\"thank\"], \"yaxis\": \"y\"}, {\"alignmentgroup\": \"True\", \"hovertemplate\": \"Common_words=%{y}<br>count=%{x}<extra></extra>\", \"legendgroup\": \"twit\", \"marker\": {\"color\": \"#EF553B\"}, \"name\": \"twit\", \"offsetgroup\": \"twit\", \"orientation\": \"h\", \"showlegend\": true, \"textposition\": \"auto\", \"type\": \"bar\", \"x\": [3221], \"xaxis\": \"x\", \"y\": [\"twit\"], \"yaxis\": \"y\"}, {\"alignmentgroup\": \"True\", \"hovertemplate\": \"Common_words=%{y}<br>count=%{x}<extra></extra>\", \"legendgroup\": \"trump\", \"marker\": {\"color\": \"#00cc96\"}, \"name\": \"trump\", \"offsetgroup\": \"trump\", \"orientation\": \"h\", \"showlegend\": true, \"textposition\": \"auto\", \"type\": \"bar\", \"x\": [3084], \"xaxis\": \"x\", \"y\": [\"trump\"], \"yaxis\": \"y\"}, {\"alignmentgroup\": \"True\", \"hovertemplate\": \"Common_words=%{y}<br>count=%{x}<extra></extra>\", \"legendgroup\": \"gre\", \"marker\": {\"color\": \"#ab63fa\"}, \"name\": \"gre\", \"offsetgroup\": \"gre\", \"orientation\": \"h\", \"showlegend\": true, \"textposition\": \"auto\", \"type\": \"bar\", \"x\": [2968], \"xaxis\": \"x\", \"y\": [\"gre\"], \"yaxis\": \"y\"}, {\"alignmentgroup\": \"True\", \"hovertemplate\": \"Common_words=%{y}<br>count=%{x}<extra></extra>\", \"legendgroup\": \"presid\", \"marker\": {\"color\": \"#FFA15A\"}, \"name\": \"presid\", \"offsetgroup\": \"presid\", \"orientation\": \"h\", \"showlegend\": true, \"textposition\": \"auto\", \"type\": \"bar\", \"x\": [1523], \"xaxis\": \"x\", \"y\": [\"presid\"], \"yaxis\": \"y\"}, {\"alignmentgroup\": \"True\", \"hovertemplate\": \"Common_words=%{y}<br>count=%{x}<extra></extra>\", \"legendgroup\": \"stat\", \"marker\": {\"color\": \"#19d3f3\"}, \"name\": \"stat\", \"offsetgroup\": \"stat\", \"orientation\": \"h\", \"showlegend\": true, \"textposition\": \"auto\", \"type\": \"bar\", \"x\": [1286], \"xaxis\": \"x\", \"y\": [\"stat\"], \"yaxis\": \"y\"}, {\"alignmentgroup\": \"True\", \"hovertemplate\": \"Common_words=%{y}<br>count=%{x}<extra></extra>\", \"legendgroup\": \"donald\", \"marker\": {\"color\": \"#FF6692\"}, \"name\": \"donald\", \"offsetgroup\": \"donald\", \"orientation\": \"h\", \"showlegend\": true, \"textposition\": \"auto\", \"type\": \"bar\", \"x\": [1213], \"xaxis\": \"x\", \"y\": [\"donald\"], \"yaxis\": \"y\"}, {\"alignmentgroup\": \"True\", \"hovertemplate\": \"Common_words=%{y}<br>count=%{x}<extra></extra>\", \"legendgroup\": \"bit\", \"marker\": {\"color\": \"#B6E880\"}, \"name\": \"bit\", \"offsetgroup\": \"bit\", \"orientation\": \"h\", \"showlegend\": true, \"textposition\": \"auto\", \"type\": \"bar\", \"x\": [1090], \"xaxis\": \"x\", \"y\": [\"bit\"], \"yaxis\": \"y\"}, {\"alignmentgroup\": \"True\", \"hovertemplate\": \"Common_words=%{y}<br>count=%{x}<extra></extra>\", \"legendgroup\": \"mak\", \"marker\": {\"color\": \"#FF97FF\"}, \"name\": \"mak\", \"offsetgroup\": \"mak\", \"orientation\": \"h\", \"showlegend\": true, \"textposition\": \"auto\", \"type\": \"bar\", \"x\": [914], \"xaxis\": \"x\", \"y\": [\"mak\"], \"yaxis\": \"y\"}, {\"alignmentgroup\": \"True\", \"hovertemplate\": \"Common_words=%{y}<br>count=%{x}<extra></extra>\", \"legendgroup\": \"americ\", \"marker\": {\"color\": \"#FECB52\"}, \"name\": \"americ\", \"offsetgroup\": \"americ\", \"orientation\": \"h\", \"showlegend\": true, \"textposition\": \"auto\", \"type\": \"bar\", \"x\": [900], \"xaxis\": \"x\", \"y\": [\"americ\"], \"yaxis\": \"y\"}, {\"alignmentgroup\": \"True\", \"hovertemplate\": \"Common_words=%{y}<br>count=%{x}<extra></extra>\", \"legendgroup\": \"run\", \"marker\": {\"color\": \"#636efa\"}, \"name\": \"run\", \"offsetgroup\": \"run\", \"orientation\": \"h\", \"showlegend\": true, \"textposition\": \"auto\", \"type\": \"bar\", \"x\": [843], \"xaxis\": \"x\", \"y\": [\"run\"], \"yaxis\": \"y\"}, {\"alignmentgroup\": \"True\", \"hovertemplate\": \"Common_words=%{y}<br>count=%{x}<extra></extra>\", \"legendgroup\": \"get\", \"marker\": {\"color\": \"#EF553B\"}, \"name\": \"get\", \"offsetgroup\": \"get\", \"orientation\": \"h\", \"showlegend\": true, \"textposition\": \"auto\", \"type\": \"bar\", \"x\": [832], \"xaxis\": \"x\", \"y\": [\"get\"], \"yaxis\": \"y\"}, {\"alignmentgroup\": \"True\", \"hovertemplate\": \"Common_words=%{y}<br>count=%{x}<extra></extra>\", \"legendgroup\": \"vot\", \"marker\": {\"color\": \"#00cc96\"}, \"name\": \"vot\", \"offsetgroup\": \"vot\", \"orientation\": \"h\", \"showlegend\": true, \"textposition\": \"auto\", \"type\": \"bar\", \"x\": [816], \"xaxis\": \"x\", \"y\": [\"vot\"], \"yaxis\": \"y\"}, {\"alignmentgroup\": \"True\", \"hovertemplate\": \"Common_words=%{y}<br>count=%{x}<extra></extra>\", \"legendgroup\": \"peopl\", \"marker\": {\"color\": \"#ab63fa\"}, \"name\": \"peopl\", \"offsetgroup\": \"peopl\", \"orientation\": \"h\", \"showlegend\": true, \"textposition\": \"auto\", \"type\": \"bar\", \"x\": [760], \"xaxis\": \"x\", \"y\": [\"peopl\"], \"yaxis\": \"y\"}, {\"alignmentgroup\": \"True\", \"hovertemplate\": \"Common_words=%{y}<br>count=%{x}<extra></extra>\", \"legendgroup\": \"obam\", \"marker\": {\"color\": \"#FFA15A\"}, \"name\": \"obam\", \"offsetgroup\": \"obam\", \"orientation\": \"h\", \"showlegend\": true, \"textposition\": \"auto\", \"type\": \"bar\", \"x\": [753], \"xaxis\": \"x\", \"y\": [\"obam\"], \"yaxis\": \"y\"}, {\"alignmentgroup\": \"True\", \"hovertemplate\": \"Common_words=%{y}<br>count=%{x}<extra></extra>\", \"legendgroup\": \"lov\", \"marker\": {\"color\": \"#19d3f3\"}, \"name\": \"lov\", \"offsetgroup\": \"lov\", \"orientation\": \"h\", \"showlegend\": true, \"textposition\": \"auto\", \"type\": \"bar\", \"x\": [731], \"xaxis\": \"x\", \"y\": [\"lov\"], \"yaxis\": \"y\"}, {\"alignmentgroup\": \"True\", \"hovertemplate\": \"Common_words=%{y}<br>count=%{x}<extra></extra>\", \"legendgroup\": \"country\", \"marker\": {\"color\": \"#FF6692\"}, \"name\": \"country\", \"offsetgroup\": \"country\", \"orientation\": \"h\", \"showlegend\": true, \"textposition\": \"auto\", \"type\": \"bar\", \"x\": [724], \"xaxis\": \"x\", \"y\": [\"country\"], \"yaxis\": \"y\"}, {\"alignmentgroup\": \"True\", \"hovertemplate\": \"Common_words=%{y}<br>count=%{x}<extra></extra>\", \"legendgroup\": \"tru\", \"marker\": {\"color\": \"#B6E880\"}, \"name\": \"tru\", \"offsetgroup\": \"tru\", \"orientation\": \"h\", \"showlegend\": true, \"textposition\": \"auto\", \"type\": \"bar\", \"x\": [697], \"xaxis\": \"x\", \"y\": [\"tru\"], \"yaxis\": \"y\"}, {\"alignmentgroup\": \"True\", \"hovertemplate\": \"Common_words=%{y}<br>count=%{x}<extra></extra>\", \"legendgroup\": \"nee\", \"marker\": {\"color\": \"#FF97FF\"}, \"name\": \"nee\", \"offsetgroup\": \"nee\", \"orientation\": \"h\", \"showlegend\": true, \"textposition\": \"auto\", \"type\": \"bar\", \"x\": [687], \"xaxis\": \"x\", \"y\": [\"nee\"], \"yaxis\": \"y\"}],\n",
              "                        {\"barmode\": \"relative\", \"height\": 700, \"legend\": {\"title\": {\"text\": \"Common_words\"}, \"tracegroupgap\": 0}, \"template\": {\"data\": {\"bar\": [{\"error_x\": {\"color\": \"#2a3f5f\"}, \"error_y\": {\"color\": \"#2a3f5f\"}, \"marker\": {\"line\": {\"color\": \"#E5ECF6\", \"width\": 0.5}}, \"type\": \"bar\"}], \"barpolar\": [{\"marker\": {\"line\": {\"color\": \"#E5ECF6\", \"width\": 0.5}}, \"type\": \"barpolar\"}], \"carpet\": [{\"aaxis\": {\"endlinecolor\": \"#2a3f5f\", \"gridcolor\": \"white\", \"linecolor\": \"white\", \"minorgridcolor\": \"white\", \"startlinecolor\": \"#2a3f5f\"}, \"baxis\": {\"endlinecolor\": \"#2a3f5f\", \"gridcolor\": \"white\", \"linecolor\": \"white\", \"minorgridcolor\": \"white\", \"startlinecolor\": \"#2a3f5f\"}, \"type\": \"carpet\"}], \"choropleth\": [{\"colorbar\": {\"outlinewidth\": 0, \"ticks\": \"\"}, \"type\": \"choropleth\"}], \"contour\": [{\"colorbar\": {\"outlinewidth\": 0, \"ticks\": \"\"}, \"colorscale\": [[0.0, \"#0d0887\"], [0.1111111111111111, \"#46039f\"], [0.2222222222222222, \"#7201a8\"], [0.3333333333333333, \"#9c179e\"], [0.4444444444444444, \"#bd3786\"], [0.5555555555555556, \"#d8576b\"], [0.6666666666666666, \"#ed7953\"], [0.7777777777777778, \"#fb9f3a\"], [0.8888888888888888, \"#fdca26\"], [1.0, \"#f0f921\"]], \"type\": \"contour\"}], \"contourcarpet\": [{\"colorbar\": {\"outlinewidth\": 0, \"ticks\": \"\"}, \"type\": \"contourcarpet\"}], \"heatmap\": [{\"colorbar\": {\"outlinewidth\": 0, \"ticks\": \"\"}, \"colorscale\": [[0.0, \"#0d0887\"], [0.1111111111111111, \"#46039f\"], [0.2222222222222222, \"#7201a8\"], [0.3333333333333333, \"#9c179e\"], [0.4444444444444444, \"#bd3786\"], [0.5555555555555556, \"#d8576b\"], [0.6666666666666666, \"#ed7953\"], [0.7777777777777778, \"#fb9f3a\"], [0.8888888888888888, \"#fdca26\"], [1.0, \"#f0f921\"]], \"type\": \"heatmap\"}], \"heatmapgl\": [{\"colorbar\": {\"outlinewidth\": 0, \"ticks\": \"\"}, \"colorscale\": [[0.0, \"#0d0887\"], [0.1111111111111111, \"#46039f\"], [0.2222222222222222, \"#7201a8\"], [0.3333333333333333, \"#9c179e\"], [0.4444444444444444, \"#bd3786\"], [0.5555555555555556, \"#d8576b\"], [0.6666666666666666, \"#ed7953\"], [0.7777777777777778, \"#fb9f3a\"], [0.8888888888888888, \"#fdca26\"], [1.0, \"#f0f921\"]], \"type\": \"heatmapgl\"}], \"histogram\": [{\"marker\": {\"colorbar\": {\"outlinewidth\": 0, \"ticks\": \"\"}}, \"type\": \"histogram\"}], \"histogram2d\": [{\"colorbar\": {\"outlinewidth\": 0, \"ticks\": \"\"}, \"colorscale\": [[0.0, \"#0d0887\"], [0.1111111111111111, \"#46039f\"], [0.2222222222222222, \"#7201a8\"], [0.3333333333333333, \"#9c179e\"], [0.4444444444444444, \"#bd3786\"], [0.5555555555555556, \"#d8576b\"], [0.6666666666666666, \"#ed7953\"], [0.7777777777777778, \"#fb9f3a\"], [0.8888888888888888, \"#fdca26\"], [1.0, \"#f0f921\"]], \"type\": \"histogram2d\"}], \"histogram2dcontour\": [{\"colorbar\": {\"outlinewidth\": 0, \"ticks\": \"\"}, \"colorscale\": [[0.0, \"#0d0887\"], [0.1111111111111111, \"#46039f\"], [0.2222222222222222, \"#7201a8\"], [0.3333333333333333, \"#9c179e\"], [0.4444444444444444, \"#bd3786\"], [0.5555555555555556, \"#d8576b\"], [0.6666666666666666, \"#ed7953\"], [0.7777777777777778, \"#fb9f3a\"], [0.8888888888888888, \"#fdca26\"], [1.0, \"#f0f921\"]], \"type\": \"histogram2dcontour\"}], \"mesh3d\": [{\"colorbar\": {\"outlinewidth\": 0, \"ticks\": \"\"}, \"type\": \"mesh3d\"}], \"parcoords\": [{\"line\": {\"colorbar\": {\"outlinewidth\": 0, \"ticks\": \"\"}}, \"type\": \"parcoords\"}], \"pie\": [{\"automargin\": true, \"type\": \"pie\"}], \"scatter\": [{\"marker\": {\"colorbar\": {\"outlinewidth\": 0, \"ticks\": \"\"}}, \"type\": \"scatter\"}], \"scatter3d\": [{\"line\": {\"colorbar\": {\"outlinewidth\": 0, \"ticks\": \"\"}}, \"marker\": {\"colorbar\": {\"outlinewidth\": 0, \"ticks\": \"\"}}, \"type\": \"scatter3d\"}], \"scattercarpet\": [{\"marker\": {\"colorbar\": {\"outlinewidth\": 0, \"ticks\": \"\"}}, \"type\": \"scattercarpet\"}], \"scattergeo\": [{\"marker\": {\"colorbar\": {\"outlinewidth\": 0, \"ticks\": \"\"}}, \"type\": \"scattergeo\"}], \"scattergl\": [{\"marker\": {\"colorbar\": {\"outlinewidth\": 0, \"ticks\": \"\"}}, \"type\": \"scattergl\"}], \"scattermapbox\": [{\"marker\": {\"colorbar\": {\"outlinewidth\": 0, \"ticks\": \"\"}}, \"type\": \"scattermapbox\"}], \"scatterpolar\": [{\"marker\": {\"colorbar\": {\"outlinewidth\": 0, \"ticks\": \"\"}}, \"type\": \"scatterpolar\"}], \"scatterpolargl\": [{\"marker\": {\"colorbar\": {\"outlinewidth\": 0, \"ticks\": \"\"}}, \"type\": \"scatterpolargl\"}], \"scatterternary\": [{\"marker\": {\"colorbar\": {\"outlinewidth\": 0, \"ticks\": \"\"}}, \"type\": \"scatterternary\"}], \"surface\": [{\"colorbar\": {\"outlinewidth\": 0, \"ticks\": \"\"}, \"colorscale\": [[0.0, \"#0d0887\"], [0.1111111111111111, \"#46039f\"], [0.2222222222222222, \"#7201a8\"], [0.3333333333333333, \"#9c179e\"], [0.4444444444444444, \"#bd3786\"], [0.5555555555555556, \"#d8576b\"], [0.6666666666666666, \"#ed7953\"], [0.7777777777777778, \"#fb9f3a\"], [0.8888888888888888, \"#fdca26\"], [1.0, \"#f0f921\"]], \"type\": \"surface\"}], \"table\": [{\"cells\": {\"fill\": {\"color\": \"#EBF0F8\"}, \"line\": {\"color\": \"white\"}}, \"header\": {\"fill\": {\"color\": \"#C8D4E3\"}, \"line\": {\"color\": \"white\"}}, \"type\": \"table\"}]}, \"layout\": {\"annotationdefaults\": {\"arrowcolor\": \"#2a3f5f\", \"arrowhead\": 0, \"arrowwidth\": 1}, \"coloraxis\": {\"colorbar\": {\"outlinewidth\": 0, \"ticks\": \"\"}}, \"colorscale\": {\"diverging\": [[0, \"#8e0152\"], [0.1, \"#c51b7d\"], [0.2, \"#de77ae\"], [0.3, \"#f1b6da\"], [0.4, \"#fde0ef\"], [0.5, \"#f7f7f7\"], [0.6, \"#e6f5d0\"], [0.7, \"#b8e186\"], [0.8, \"#7fbc41\"], [0.9, \"#4d9221\"], [1, \"#276419\"]], \"sequential\": [[0.0, \"#0d0887\"], [0.1111111111111111, \"#46039f\"], [0.2222222222222222, \"#7201a8\"], [0.3333333333333333, \"#9c179e\"], [0.4444444444444444, \"#bd3786\"], [0.5555555555555556, \"#d8576b\"], [0.6666666666666666, \"#ed7953\"], [0.7777777777777778, \"#fb9f3a\"], [0.8888888888888888, \"#fdca26\"], [1.0, \"#f0f921\"]], \"sequentialminus\": [[0.0, \"#0d0887\"], [0.1111111111111111, \"#46039f\"], [0.2222222222222222, \"#7201a8\"], [0.3333333333333333, \"#9c179e\"], [0.4444444444444444, \"#bd3786\"], [0.5555555555555556, \"#d8576b\"], [0.6666666666666666, \"#ed7953\"], [0.7777777777777778, \"#fb9f3a\"], [0.8888888888888888, \"#fdca26\"], [1.0, \"#f0f921\"]]}, \"colorway\": [\"#636efa\", \"#EF553B\", \"#00cc96\", \"#ab63fa\", \"#FFA15A\", \"#19d3f3\", \"#FF6692\", \"#B6E880\", \"#FF97FF\", \"#FECB52\"], \"font\": {\"color\": \"#2a3f5f\"}, \"geo\": {\"bgcolor\": \"white\", \"lakecolor\": \"white\", \"landcolor\": \"#E5ECF6\", \"showlakes\": true, \"showland\": true, \"subunitcolor\": \"white\"}, \"hoverlabel\": {\"align\": \"left\"}, \"hovermode\": \"closest\", \"mapbox\": {\"style\": \"light\"}, \"paper_bgcolor\": \"white\", \"plot_bgcolor\": \"#E5ECF6\", \"polar\": {\"angularaxis\": {\"gridcolor\": \"white\", \"linecolor\": \"white\", \"ticks\": \"\"}, \"bgcolor\": \"#E5ECF6\", \"radialaxis\": {\"gridcolor\": \"white\", \"linecolor\": \"white\", \"ticks\": \"\"}}, \"scene\": {\"xaxis\": {\"backgroundcolor\": \"#E5ECF6\", \"gridcolor\": \"white\", \"gridwidth\": 2, \"linecolor\": \"white\", \"showbackground\": true, \"ticks\": \"\", \"zerolinecolor\": \"white\"}, \"yaxis\": {\"backgroundcolor\": \"#E5ECF6\", \"gridcolor\": \"white\", \"gridwidth\": 2, \"linecolor\": \"white\", \"showbackground\": true, \"ticks\": \"\", \"zerolinecolor\": \"white\"}, \"zaxis\": {\"backgroundcolor\": \"#E5ECF6\", \"gridcolor\": \"white\", \"gridwidth\": 2, \"linecolor\": \"white\", \"showbackground\": true, \"ticks\": \"\", \"zerolinecolor\": \"white\"}}, \"shapedefaults\": {\"line\": {\"color\": \"#2a3f5f\"}}, \"ternary\": {\"aaxis\": {\"gridcolor\": \"white\", \"linecolor\": \"white\", \"ticks\": \"\"}, \"baxis\": {\"gridcolor\": \"white\", \"linecolor\": \"white\", \"ticks\": \"\"}, \"bgcolor\": \"#E5ECF6\", \"caxis\": {\"gridcolor\": \"white\", \"linecolor\": \"white\", \"ticks\": \"\"}}, \"title\": {\"x\": 0.05}, \"xaxis\": {\"automargin\": true, \"gridcolor\": \"white\", \"linecolor\": \"white\", \"ticks\": \"\", \"title\": {\"standoff\": 15}, \"zerolinecolor\": \"white\", \"zerolinewidth\": 2}, \"yaxis\": {\"automargin\": true, \"gridcolor\": \"white\", \"linecolor\": \"white\", \"ticks\": \"\", \"title\": {\"standoff\": 15}, \"zerolinecolor\": \"white\", \"zerolinewidth\": 2}}}, \"title\": {\"text\": \"Most Commmon Neutral Words\"}, \"width\": 700, \"xaxis\": {\"anchor\": \"y\", \"domain\": [0.0, 1.0], \"title\": {\"text\": \"count\"}}, \"yaxis\": {\"anchor\": \"x\", \"categoryarray\": [\"nee\", \"tru\", \"country\", \"lov\", \"obam\", \"peopl\", \"vot\", \"get\", \"run\", \"americ\", \"mak\", \"bit\", \"donald\", \"stat\", \"presid\", \"gre\", \"trump\", \"twit\", \"thank\"], \"categoryorder\": \"array\", \"domain\": [0.0, 1.0], \"title\": {\"text\": \"Common_words\"}}},\n",
              "                        {\"responsive\": true}\n",
              "                    ).then(function(){\n",
              "                            \n",
              "var gd = document.getElementById('ddf48d87-93ca-4632-a41d-5a91bf4fd599');\n",
              "var x = new MutationObserver(function (mutations, observer) {{\n",
              "        var display = window.getComputedStyle(gd).display;\n",
              "        if (!display || display === 'none') {{\n",
              "            console.log([gd, 'removed!']);\n",
              "            Plotly.purge(gd);\n",
              "            observer.disconnect();\n",
              "        }}\n",
              "}});\n",
              "\n",
              "// Listen for the removal of the full notebook cells\n",
              "var notebookContainer = gd.closest('#notebook-container');\n",
              "if (notebookContainer) {{\n",
              "    x.observe(notebookContainer, {childList: true});\n",
              "}}\n",
              "\n",
              "// Listen for the clearing of the current output cell\n",
              "var outputEl = gd.closest('.output');\n",
              "if (outputEl) {{\n",
              "    x.observe(outputEl, {childList: true});\n",
              "}}\n",
              "\n",
              "                        })\n",
              "                };\n",
              "                \n",
              "            </script>\n",
              "        </div>\n",
              "</body>\n",
              "</html>"
            ]
          },
          "metadata": {
            "tags": []
          }
        }
      ]
    },
    {
      "cell_type": "code",
      "metadata": {
        "id": "9v4uZwO0oom7",
        "colab_type": "code",
        "colab": {
          "base_uri": "https://localhost:8080/",
          "height": 542
        },
        "outputId": "ef399038-980d-4f32-addb-95cd0f429a4e"
      },
      "source": [
        "fig = px.treemap(temp_neutral, path=['Common_words'], values='count',title='Tree Of Most Common Neutral Words')\n",
        "fig.show()"
      ],
      "execution_count": 69,
      "outputs": [
        {
          "output_type": "display_data",
          "data": {
            "text/html": [
              "<html>\n",
              "<head><meta charset=\"utf-8\" /></head>\n",
              "<body>\n",
              "    <div>\n",
              "            <script src=\"https://cdnjs.cloudflare.com/ajax/libs/mathjax/2.7.5/MathJax.js?config=TeX-AMS-MML_SVG\"></script><script type=\"text/javascript\">if (window.MathJax) {MathJax.Hub.Config({SVG: {font: \"STIX-Web\"}});}</script>\n",
              "                <script type=\"text/javascript\">window.PlotlyConfig = {MathJaxConfig: 'local'};</script>\n",
              "        <script src=\"https://cdn.plot.ly/plotly-latest.min.js\"></script>    \n",
              "            <div id=\"bda09238-3bc4-4bb0-ba8d-9e96bb7a42ec\" class=\"plotly-graph-div\" style=\"height:525px; width:100%;\"></div>\n",
              "            <script type=\"text/javascript\">\n",
              "                \n",
              "                    window.PLOTLYENV=window.PLOTLYENV || {};\n",
              "                    \n",
              "                if (document.getElementById(\"bda09238-3bc4-4bb0-ba8d-9e96bb7a42ec\")) {\n",
              "                    Plotly.newPlot(\n",
              "                        'bda09238-3bc4-4bb0-ba8d-9e96bb7a42ec',\n",
              "                        [{\"branchvalues\": \"total\", \"domain\": {\"x\": [0.0, 1.0], \"y\": [0.0, 1.0]}, \"hovertemplate\": \"labels=%{label}<br>count=%{value}<br>parent=%{parent}<br>id=%{id}<extra></extra>\", \"ids\": [\"americ\", \"bit\", \"country\", \"donald\", \"get\", \"gre\", \"lov\", \"mak\", \"nee\", \"obam\", \"peopl\", \"presid\", \"run\", \"stat\", \"thank\", \"tru\", \"trump\", \"twit\", \"vot\"], \"labels\": [\"americ\", \"bit\", \"country\", \"donald\", \"get\", \"gre\", \"lov\", \"mak\", \"nee\", \"obam\", \"peopl\", \"presid\", \"run\", \"stat\", \"thank\", \"tru\", \"trump\", \"twit\", \"vot\"], \"name\": \"\", \"parents\": [\"\", \"\", \"\", \"\", \"\", \"\", \"\", \"\", \"\", \"\", \"\", \"\", \"\", \"\", \"\", \"\", \"\", \"\", \"\"], \"type\": \"treemap\", \"values\": [900, 1090, 724, 1213, 832, 2968, 731, 914, 687, 753, 760, 1523, 843, 1286, 3276, 697, 3084, 3221, 816]}],\n",
              "                        {\"legend\": {\"tracegroupgap\": 0}, \"template\": {\"data\": {\"bar\": [{\"error_x\": {\"color\": \"#2a3f5f\"}, \"error_y\": {\"color\": \"#2a3f5f\"}, \"marker\": {\"line\": {\"color\": \"#E5ECF6\", \"width\": 0.5}}, \"type\": \"bar\"}], \"barpolar\": [{\"marker\": {\"line\": {\"color\": \"#E5ECF6\", \"width\": 0.5}}, \"type\": \"barpolar\"}], \"carpet\": [{\"aaxis\": {\"endlinecolor\": \"#2a3f5f\", \"gridcolor\": \"white\", \"linecolor\": \"white\", \"minorgridcolor\": \"white\", \"startlinecolor\": \"#2a3f5f\"}, \"baxis\": {\"endlinecolor\": \"#2a3f5f\", \"gridcolor\": \"white\", \"linecolor\": \"white\", \"minorgridcolor\": \"white\", \"startlinecolor\": \"#2a3f5f\"}, \"type\": \"carpet\"}], \"choropleth\": [{\"colorbar\": {\"outlinewidth\": 0, \"ticks\": \"\"}, \"type\": \"choropleth\"}], \"contour\": [{\"colorbar\": {\"outlinewidth\": 0, \"ticks\": \"\"}, \"colorscale\": [[0.0, \"#0d0887\"], [0.1111111111111111, \"#46039f\"], [0.2222222222222222, \"#7201a8\"], [0.3333333333333333, \"#9c179e\"], [0.4444444444444444, \"#bd3786\"], [0.5555555555555556, \"#d8576b\"], [0.6666666666666666, \"#ed7953\"], [0.7777777777777778, \"#fb9f3a\"], [0.8888888888888888, \"#fdca26\"], [1.0, \"#f0f921\"]], \"type\": \"contour\"}], \"contourcarpet\": [{\"colorbar\": {\"outlinewidth\": 0, \"ticks\": \"\"}, \"type\": \"contourcarpet\"}], \"heatmap\": [{\"colorbar\": {\"outlinewidth\": 0, \"ticks\": \"\"}, \"colorscale\": [[0.0, \"#0d0887\"], [0.1111111111111111, \"#46039f\"], [0.2222222222222222, \"#7201a8\"], [0.3333333333333333, \"#9c179e\"], [0.4444444444444444, \"#bd3786\"], [0.5555555555555556, \"#d8576b\"], [0.6666666666666666, \"#ed7953\"], [0.7777777777777778, \"#fb9f3a\"], [0.8888888888888888, \"#fdca26\"], [1.0, \"#f0f921\"]], \"type\": \"heatmap\"}], \"heatmapgl\": [{\"colorbar\": {\"outlinewidth\": 0, \"ticks\": \"\"}, \"colorscale\": [[0.0, \"#0d0887\"], [0.1111111111111111, \"#46039f\"], [0.2222222222222222, \"#7201a8\"], [0.3333333333333333, \"#9c179e\"], [0.4444444444444444, \"#bd3786\"], [0.5555555555555556, \"#d8576b\"], [0.6666666666666666, \"#ed7953\"], [0.7777777777777778, \"#fb9f3a\"], [0.8888888888888888, \"#fdca26\"], [1.0, \"#f0f921\"]], \"type\": \"heatmapgl\"}], \"histogram\": [{\"marker\": {\"colorbar\": {\"outlinewidth\": 0, \"ticks\": \"\"}}, \"type\": \"histogram\"}], \"histogram2d\": [{\"colorbar\": {\"outlinewidth\": 0, \"ticks\": \"\"}, \"colorscale\": [[0.0, \"#0d0887\"], [0.1111111111111111, \"#46039f\"], [0.2222222222222222, \"#7201a8\"], [0.3333333333333333, \"#9c179e\"], [0.4444444444444444, \"#bd3786\"], [0.5555555555555556, \"#d8576b\"], [0.6666666666666666, \"#ed7953\"], [0.7777777777777778, \"#fb9f3a\"], [0.8888888888888888, \"#fdca26\"], [1.0, \"#f0f921\"]], \"type\": \"histogram2d\"}], \"histogram2dcontour\": [{\"colorbar\": {\"outlinewidth\": 0, \"ticks\": \"\"}, \"colorscale\": [[0.0, \"#0d0887\"], [0.1111111111111111, \"#46039f\"], [0.2222222222222222, \"#7201a8\"], [0.3333333333333333, \"#9c179e\"], [0.4444444444444444, \"#bd3786\"], [0.5555555555555556, \"#d8576b\"], [0.6666666666666666, \"#ed7953\"], [0.7777777777777778, \"#fb9f3a\"], [0.8888888888888888, \"#fdca26\"], [1.0, \"#f0f921\"]], \"type\": \"histogram2dcontour\"}], \"mesh3d\": [{\"colorbar\": {\"outlinewidth\": 0, \"ticks\": \"\"}, \"type\": \"mesh3d\"}], \"parcoords\": [{\"line\": {\"colorbar\": {\"outlinewidth\": 0, \"ticks\": \"\"}}, \"type\": \"parcoords\"}], \"pie\": [{\"automargin\": true, \"type\": \"pie\"}], \"scatter\": [{\"marker\": {\"colorbar\": {\"outlinewidth\": 0, \"ticks\": \"\"}}, \"type\": \"scatter\"}], \"scatter3d\": [{\"line\": {\"colorbar\": {\"outlinewidth\": 0, \"ticks\": \"\"}}, \"marker\": {\"colorbar\": {\"outlinewidth\": 0, \"ticks\": \"\"}}, \"type\": \"scatter3d\"}], \"scattercarpet\": [{\"marker\": {\"colorbar\": {\"outlinewidth\": 0, \"ticks\": \"\"}}, \"type\": \"scattercarpet\"}], \"scattergeo\": [{\"marker\": {\"colorbar\": {\"outlinewidth\": 0, \"ticks\": \"\"}}, \"type\": \"scattergeo\"}], \"scattergl\": [{\"marker\": {\"colorbar\": {\"outlinewidth\": 0, \"ticks\": \"\"}}, \"type\": \"scattergl\"}], \"scattermapbox\": [{\"marker\": {\"colorbar\": {\"outlinewidth\": 0, \"ticks\": \"\"}}, \"type\": \"scattermapbox\"}], \"scatterpolar\": [{\"marker\": {\"colorbar\": {\"outlinewidth\": 0, \"ticks\": \"\"}}, \"type\": \"scatterpolar\"}], \"scatterpolargl\": [{\"marker\": {\"colorbar\": {\"outlinewidth\": 0, \"ticks\": \"\"}}, \"type\": \"scatterpolargl\"}], \"scatterternary\": [{\"marker\": {\"colorbar\": {\"outlinewidth\": 0, \"ticks\": \"\"}}, \"type\": \"scatterternary\"}], \"surface\": [{\"colorbar\": {\"outlinewidth\": 0, \"ticks\": \"\"}, \"colorscale\": [[0.0, \"#0d0887\"], [0.1111111111111111, \"#46039f\"], [0.2222222222222222, \"#7201a8\"], [0.3333333333333333, \"#9c179e\"], [0.4444444444444444, \"#bd3786\"], [0.5555555555555556, \"#d8576b\"], [0.6666666666666666, \"#ed7953\"], [0.7777777777777778, \"#fb9f3a\"], [0.8888888888888888, \"#fdca26\"], [1.0, \"#f0f921\"]], \"type\": \"surface\"}], \"table\": [{\"cells\": {\"fill\": {\"color\": \"#EBF0F8\"}, \"line\": {\"color\": \"white\"}}, \"header\": {\"fill\": {\"color\": \"#C8D4E3\"}, \"line\": {\"color\": \"white\"}}, \"type\": \"table\"}]}, \"layout\": {\"annotationdefaults\": {\"arrowcolor\": \"#2a3f5f\", \"arrowhead\": 0, \"arrowwidth\": 1}, \"coloraxis\": {\"colorbar\": {\"outlinewidth\": 0, \"ticks\": \"\"}}, \"colorscale\": {\"diverging\": [[0, \"#8e0152\"], [0.1, \"#c51b7d\"], [0.2, \"#de77ae\"], [0.3, \"#f1b6da\"], [0.4, \"#fde0ef\"], [0.5, \"#f7f7f7\"], [0.6, \"#e6f5d0\"], [0.7, \"#b8e186\"], [0.8, \"#7fbc41\"], [0.9, \"#4d9221\"], [1, \"#276419\"]], \"sequential\": [[0.0, \"#0d0887\"], [0.1111111111111111, \"#46039f\"], [0.2222222222222222, \"#7201a8\"], [0.3333333333333333, \"#9c179e\"], [0.4444444444444444, \"#bd3786\"], [0.5555555555555556, \"#d8576b\"], [0.6666666666666666, \"#ed7953\"], [0.7777777777777778, \"#fb9f3a\"], [0.8888888888888888, \"#fdca26\"], [1.0, \"#f0f921\"]], \"sequentialminus\": [[0.0, \"#0d0887\"], [0.1111111111111111, \"#46039f\"], [0.2222222222222222, \"#7201a8\"], [0.3333333333333333, \"#9c179e\"], [0.4444444444444444, \"#bd3786\"], [0.5555555555555556, \"#d8576b\"], [0.6666666666666666, \"#ed7953\"], [0.7777777777777778, \"#fb9f3a\"], [0.8888888888888888, \"#fdca26\"], [1.0, \"#f0f921\"]]}, \"colorway\": [\"#636efa\", \"#EF553B\", \"#00cc96\", \"#ab63fa\", \"#FFA15A\", \"#19d3f3\", \"#FF6692\", \"#B6E880\", \"#FF97FF\", \"#FECB52\"], \"font\": {\"color\": \"#2a3f5f\"}, \"geo\": {\"bgcolor\": \"white\", \"lakecolor\": \"white\", \"landcolor\": \"#E5ECF6\", \"showlakes\": true, \"showland\": true, \"subunitcolor\": \"white\"}, \"hoverlabel\": {\"align\": \"left\"}, \"hovermode\": \"closest\", \"mapbox\": {\"style\": \"light\"}, \"paper_bgcolor\": \"white\", \"plot_bgcolor\": \"#E5ECF6\", \"polar\": {\"angularaxis\": {\"gridcolor\": \"white\", \"linecolor\": \"white\", \"ticks\": \"\"}, \"bgcolor\": \"#E5ECF6\", \"radialaxis\": {\"gridcolor\": \"white\", \"linecolor\": \"white\", \"ticks\": \"\"}}, \"scene\": {\"xaxis\": {\"backgroundcolor\": \"#E5ECF6\", \"gridcolor\": \"white\", \"gridwidth\": 2, \"linecolor\": \"white\", \"showbackground\": true, \"ticks\": \"\", \"zerolinecolor\": \"white\"}, \"yaxis\": {\"backgroundcolor\": \"#E5ECF6\", \"gridcolor\": \"white\", \"gridwidth\": 2, \"linecolor\": \"white\", \"showbackground\": true, \"ticks\": \"\", \"zerolinecolor\": \"white\"}, \"zaxis\": {\"backgroundcolor\": \"#E5ECF6\", \"gridcolor\": \"white\", \"gridwidth\": 2, \"linecolor\": \"white\", \"showbackground\": true, \"ticks\": \"\", \"zerolinecolor\": \"white\"}}, \"shapedefaults\": {\"line\": {\"color\": \"#2a3f5f\"}}, \"ternary\": {\"aaxis\": {\"gridcolor\": \"white\", \"linecolor\": \"white\", \"ticks\": \"\"}, \"baxis\": {\"gridcolor\": \"white\", \"linecolor\": \"white\", \"ticks\": \"\"}, \"bgcolor\": \"#E5ECF6\", \"caxis\": {\"gridcolor\": \"white\", \"linecolor\": \"white\", \"ticks\": \"\"}}, \"title\": {\"x\": 0.05}, \"xaxis\": {\"automargin\": true, \"gridcolor\": \"white\", \"linecolor\": \"white\", \"ticks\": \"\", \"title\": {\"standoff\": 15}, \"zerolinecolor\": \"white\", \"zerolinewidth\": 2}, \"yaxis\": {\"automargin\": true, \"gridcolor\": \"white\", \"linecolor\": \"white\", \"ticks\": \"\", \"title\": {\"standoff\": 15}, \"zerolinecolor\": \"white\", \"zerolinewidth\": 2}}}, \"title\": {\"text\": \"Tree Of Most Common Neutral Words\"}},\n",
              "                        {\"responsive\": true}\n",
              "                    ).then(function(){\n",
              "                            \n",
              "var gd = document.getElementById('bda09238-3bc4-4bb0-ba8d-9e96bb7a42ec');\n",
              "var x = new MutationObserver(function (mutations, observer) {{\n",
              "        var display = window.getComputedStyle(gd).display;\n",
              "        if (!display || display === 'none') {{\n",
              "            console.log([gd, 'removed!']);\n",
              "            Plotly.purge(gd);\n",
              "            observer.disconnect();\n",
              "        }}\n",
              "}});\n",
              "\n",
              "// Listen for the removal of the full notebook cells\n",
              "var notebookContainer = gd.closest('#notebook-container');\n",
              "if (notebookContainer) {{\n",
              "    x.observe(notebookContainer, {childList: true});\n",
              "}}\n",
              "\n",
              "// Listen for the clearing of the current output cell\n",
              "var outputEl = gd.closest('.output');\n",
              "if (outputEl) {{\n",
              "    x.observe(outputEl, {childList: true});\n",
              "}}\n",
              "\n",
              "                        })\n",
              "                };\n",
              "                \n",
              "            </script>\n",
              "        </div>\n",
              "</body>\n",
              "</html>"
            ]
          },
          "metadata": {
            "tags": []
          }
        }
      ]
    },
    {
      "cell_type": "code",
      "metadata": {
        "id": "EXMV249wo7ZL",
        "colab_type": "code",
        "colab": {}
      },
      "source": [
        "# 9. Number of Unique Words in tweets of each type of Sentiment\n",
        "\n",
        "# We will look at number of unique words in each type of tweet with different sentiments:\n",
        "# Positive, Negative, Neutral"
      ],
      "execution_count": 70,
      "outputs": []
    },
    {
      "cell_type": "code",
      "metadata": {
        "id": "d0j3AuQXoulM",
        "colab_type": "code",
        "colab": {}
      },
      "source": [
        "raw_text = [word for word_list in train['content'] for word in word_list]\n"
      ],
      "execution_count": 71,
      "outputs": []
    },
    {
      "cell_type": "code",
      "metadata": {
        "id": "_fXUh11DpteR",
        "colab_type": "code",
        "colab": {}
      },
      "source": [
        "# Function to find unique words\n",
        "def words_unique(sentiment,numwords,raw_words):\n",
        "  '''\n",
        "    Input:\n",
        "        segment - Segment category (ex. 'Neutral');\n",
        "        numwords - how many specific words do you want to see in the final result; \n",
        "        raw_words - list  for item in train_data[train_data.segments == segments]['temp_list1']:\n",
        "    Output: \n",
        "        dataframe giving information about the name of the specific ingredient and how many times it occurs in the chosen cuisine (in descending order based on their counts)..\n",
        "\n",
        "    '''\n",
        "  allother = []\n",
        "  for item in train[train.sentiment != sentiment]['content']:\n",
        "    for word in item:\n",
        "      allother.append(word)\n",
        "  allother = list(set(allother))\n",
        "  specificnonly = [x for x in raw_text if x not in allother]\n",
        "\n",
        "  mycounter = Counter()\n",
        "  for item in train[train.sentiment == sentiment]['content']:\n",
        "    for word in item:\n",
        "      mycounter[word] += 1\n",
        "  keep = list(specificnonly)\n",
        "\n",
        "  for word in list(mycounter):\n",
        "    if word not in keep:\n",
        "      del mycounter[word]\n",
        "  \n",
        "  Unique_words = pd.DataFrame(mycounter.most_common(numwords), columns=['words','count'])\n",
        "  return Unique_words"
      ],
      "execution_count": 74,
      "outputs": []
    },
    {
      "cell_type": "code",
      "metadata": {
        "id": "p8CO0UForvrG",
        "colab_type": "code",
        "colab": {}
      },
      "source": [
        "# 9.1: Number of unique words in tweets with positive sentiment"
      ],
      "execution_count": 75,
      "outputs": []
    },
    {
      "cell_type": "code",
      "metadata": {
        "id": "0NnV_Ir5sKR_",
        "colab_type": "code",
        "colab": {
          "base_uri": "https://localhost:8080/",
          "height": 486
        },
        "outputId": "1df310ae-18ce-4920-ed6c-86bf3276aa4d"
      },
      "source": [
        "Unique_Positive = words_unique('positive',20,raw_text)\n",
        "print(\"The top 20 unique words in Positive Tweets are:\")\n",
        "Unique_Positive.style.background_gradient(cmap='Greens')"
      ],
      "execution_count": 76,
      "outputs": [
        {
          "output_type": "stream",
          "text": [
            "The top 20 unique words in Positive Tweets are:\n"
          ],
          "name": "stdout"
        },
        {
          "output_type": "execute_result",
          "data": {
            "text/html": [
              "<style  type=\"text/css\" >\n",
              "    #T_c0f1a9c0_bab9_11ea_af41_0242ac1c0002row0_col1 {\n",
              "            background-color:  #00441b;\n",
              "            color:  #f1f1f1;\n",
              "        }    #T_c0f1a9c0_bab9_11ea_af41_0242ac1c0002row1_col1 {\n",
              "            background-color:  #157f3b;\n",
              "            color:  #f1f1f1;\n",
              "        }    #T_c0f1a9c0_bab9_11ea_af41_0242ac1c0002row2_col1 {\n",
              "            background-color:  #4bb062;\n",
              "            color:  #000000;\n",
              "        }    #T_c0f1a9c0_bab9_11ea_af41_0242ac1c0002row3_col1 {\n",
              "            background-color:  #73c476;\n",
              "            color:  #000000;\n",
              "        }    #T_c0f1a9c0_bab9_11ea_af41_0242ac1c0002row4_col1 {\n",
              "            background-color:  #98d594;\n",
              "            color:  #000000;\n",
              "        }    #T_c0f1a9c0_bab9_11ea_af41_0242ac1c0002row5_col1 {\n",
              "            background-color:  #b8e3b2;\n",
              "            color:  #000000;\n",
              "        }    #T_c0f1a9c0_bab9_11ea_af41_0242ac1c0002row6_col1 {\n",
              "            background-color:  #b8e3b2;\n",
              "            color:  #000000;\n",
              "        }    #T_c0f1a9c0_bab9_11ea_af41_0242ac1c0002row7_col1 {\n",
              "            background-color:  #d3eecd;\n",
              "            color:  #000000;\n",
              "        }    #T_c0f1a9c0_bab9_11ea_af41_0242ac1c0002row8_col1 {\n",
              "            background-color:  #d3eecd;\n",
              "            color:  #000000;\n",
              "        }    #T_c0f1a9c0_bab9_11ea_af41_0242ac1c0002row9_col1 {\n",
              "            background-color:  #e9f7e5;\n",
              "            color:  #000000;\n",
              "        }    #T_c0f1a9c0_bab9_11ea_af41_0242ac1c0002row10_col1 {\n",
              "            background-color:  #e9f7e5;\n",
              "            color:  #000000;\n",
              "        }    #T_c0f1a9c0_bab9_11ea_af41_0242ac1c0002row11_col1 {\n",
              "            background-color:  #e9f7e5;\n",
              "            color:  #000000;\n",
              "        }    #T_c0f1a9c0_bab9_11ea_af41_0242ac1c0002row12_col1 {\n",
              "            background-color:  #e9f7e5;\n",
              "            color:  #000000;\n",
              "        }    #T_c0f1a9c0_bab9_11ea_af41_0242ac1c0002row13_col1 {\n",
              "            background-color:  #e9f7e5;\n",
              "            color:  #000000;\n",
              "        }    #T_c0f1a9c0_bab9_11ea_af41_0242ac1c0002row14_col1 {\n",
              "            background-color:  #f7fcf5;\n",
              "            color:  #000000;\n",
              "        }    #T_c0f1a9c0_bab9_11ea_af41_0242ac1c0002row15_col1 {\n",
              "            background-color:  #f7fcf5;\n",
              "            color:  #000000;\n",
              "        }    #T_c0f1a9c0_bab9_11ea_af41_0242ac1c0002row16_col1 {\n",
              "            background-color:  #f7fcf5;\n",
              "            color:  #000000;\n",
              "        }    #T_c0f1a9c0_bab9_11ea_af41_0242ac1c0002row17_col1 {\n",
              "            background-color:  #f7fcf5;\n",
              "            color:  #000000;\n",
              "        }    #T_c0f1a9c0_bab9_11ea_af41_0242ac1c0002row18_col1 {\n",
              "            background-color:  #f7fcf5;\n",
              "            color:  #000000;\n",
              "        }    #T_c0f1a9c0_bab9_11ea_af41_0242ac1c0002row19_col1 {\n",
              "            background-color:  #f7fcf5;\n",
              "            color:  #000000;\n",
              "        }</style><table id=\"T_c0f1a9c0_bab9_11ea_af41_0242ac1c0002\" ><thead>    <tr>        <th class=\"blank level0\" ></th>        <th class=\"col_heading level0 col0\" >words</th>        <th class=\"col_heading level0 col1\" >count</th>    </tr></thead><tbody>\n",
              "                <tr>\n",
              "                        <th id=\"T_c0f1a9c0_bab9_11ea_af41_0242ac1c0002level0_row0\" class=\"row_heading level0 row0\" >0</th>\n",
              "                        <td id=\"T_c0f1a9c0_bab9_11ea_af41_0242ac1c0002row0_col0\" class=\"data row0 col0\" >okay</td>\n",
              "                        <td id=\"T_c0f1a9c0_bab9_11ea_af41_0242ac1c0002row0_col1\" class=\"data row0 col1\" >16</td>\n",
              "            </tr>\n",
              "            <tr>\n",
              "                        <th id=\"T_c0f1a9c0_bab9_11ea_af41_0242ac1c0002level0_row1\" class=\"row_heading level0 row1\" >1</th>\n",
              "                        <td id=\"T_c0f1a9c0_bab9_11ea_af41_0242ac1c0002row1_col0\" class=\"data row1 col0\" >sweet</td>\n",
              "                        <td id=\"T_c0f1a9c0_bab9_11ea_af41_0242ac1c0002row1_col1\" class=\"data row1 col1\" >14</td>\n",
              "            </tr>\n",
              "            <tr>\n",
              "                        <th id=\"T_c0f1a9c0_bab9_11ea_af41_0242ac1c0002level0_row2\" class=\"row_heading level0 row2\" >2</th>\n",
              "                        <td id=\"T_c0f1a9c0_bab9_11ea_af41_0242ac1c0002row2_col0\" class=\"data row2 col0\" >joy</td>\n",
              "                        <td id=\"T_c0f1a9c0_bab9_11ea_af41_0242ac1c0002row2_col1\" class=\"data row2 col1\" >12</td>\n",
              "            </tr>\n",
              "            <tr>\n",
              "                        <th id=\"T_c0f1a9c0_bab9_11ea_af41_0242ac1c0002level0_row3\" class=\"row_heading level0 row3\" >3</th>\n",
              "                        <td id=\"T_c0f1a9c0_bab9_11ea_af41_0242ac1c0002row3_col0\" class=\"data row3 col0\" >loyal</td>\n",
              "                        <td id=\"T_c0f1a9c0_bab9_11ea_af41_0242ac1c0002row3_col1\" class=\"data row3 col1\" >11</td>\n",
              "            </tr>\n",
              "            <tr>\n",
              "                        <th id=\"T_c0f1a9c0_bab9_11ea_af41_0242ac1c0002level0_row4\" class=\"row_heading level0 row4\" >4</th>\n",
              "                        <td id=\"T_c0f1a9c0_bab9_11ea_af41_0242ac1c0002row4_col0\" class=\"data row4 col0\" >superb</td>\n",
              "                        <td id=\"T_c0f1a9c0_bab9_11ea_af41_0242ac1c0002row4_col1\" class=\"data row4 col1\" >10</td>\n",
              "            </tr>\n",
              "            <tr>\n",
              "                        <th id=\"T_c0f1a9c0_bab9_11ea_af41_0242ac1c0002level0_row5\" class=\"row_heading level0 row5\" >5</th>\n",
              "                        <td id=\"T_c0f1a9c0_bab9_11ea_af41_0242ac1c0002row5_col0\" class=\"data row5 col0\" >dim</td>\n",
              "                        <td id=\"T_c0f1a9c0_bab9_11ea_af41_0242ac1c0002row5_col1\" class=\"data row5 col1\" >9</td>\n",
              "            </tr>\n",
              "            <tr>\n",
              "                        <th id=\"T_c0f1a9c0_bab9_11ea_af41_0242ac1c0002level0_row6\" class=\"row_heading level0 row6\" >6</th>\n",
              "                        <td id=\"T_c0f1a9c0_bab9_11ea_af41_0242ac1c0002row6_col0\" class=\"data row6 col0\" >toyot</td>\n",
              "                        <td id=\"T_c0f1a9c0_bab9_11ea_af41_0242ac1c0002row6_col1\" class=\"data row6 col1\" >9</td>\n",
              "            </tr>\n",
              "            <tr>\n",
              "                        <th id=\"T_c0f1a9c0_bab9_11ea_af41_0242ac1c0002level0_row7\" class=\"row_heading level0 row7\" >7</th>\n",
              "                        <td id=\"T_c0f1a9c0_bab9_11ea_af41_0242ac1c0002row7_col0\" class=\"data row7 col0\" >free</td>\n",
              "                        <td id=\"T_c0f1a9c0_bab9_11ea_af41_0242ac1c0002row7_col1\" class=\"data row7 col1\" >8</td>\n",
              "            </tr>\n",
              "            <tr>\n",
              "                        <th id=\"T_c0f1a9c0_bab9_11ea_af41_0242ac1c0002level0_row8\" class=\"row_heading level0 row8\" >8</th>\n",
              "                        <td id=\"T_c0f1a9c0_bab9_11ea_af41_0242ac1c0002row8_col0\" class=\"data row8 col0\" >orl</td>\n",
              "                        <td id=\"T_c0f1a9c0_bab9_11ea_af41_0242ac1c0002row8_col1\" class=\"data row8 col1\" >8</td>\n",
              "            </tr>\n",
              "            <tr>\n",
              "                        <th id=\"T_c0f1a9c0_bab9_11ea_af41_0242ac1c0002level0_row9\" class=\"row_heading level0 row9\" >9</th>\n",
              "                        <td id=\"T_c0f1a9c0_bab9_11ea_af41_0242ac1c0002row9_col0\" class=\"data row9 col0\" >woody</td>\n",
              "                        <td id=\"T_c0f1a9c0_bab9_11ea_af41_0242ac1c0002row9_col1\" class=\"data row9 col1\" >7</td>\n",
              "            </tr>\n",
              "            <tr>\n",
              "                        <th id=\"T_c0f1a9c0_bab9_11ea_af41_0242ac1c0002level0_row10\" class=\"row_heading level0 row10\" >10</th>\n",
              "                        <td id=\"T_c0f1a9c0_bab9_11ea_af41_0242ac1c0002row10_col0\" class=\"data row10 col0\" >mighty</td>\n",
              "                        <td id=\"T_c0f1a9c0_bab9_11ea_af41_0242ac1c0002row10_col1\" class=\"data row10 col1\" >7</td>\n",
              "            </tr>\n",
              "            <tr>\n",
              "                        <th id=\"T_c0f1a9c0_bab9_11ea_af41_0242ac1c0002level0_row11\" class=\"row_heading level0 row11\" >11</th>\n",
              "                        <td id=\"T_c0f1a9c0_bab9_11ea_af41_0242ac1c0002row11_col0\" class=\"data row11 col0\" >prnewswire</td>\n",
              "                        <td id=\"T_c0f1a9c0_bab9_11ea_af41_0242ac1c0002row11_col1\" class=\"data row11 col1\" >7</td>\n",
              "            </tr>\n",
              "            <tr>\n",
              "                        <th id=\"T_c0f1a9c0_bab9_11ea_af41_0242ac1c0002level0_row12\" class=\"row_heading level0 row12\" >12</th>\n",
              "                        <td id=\"T_c0f1a9c0_bab9_11ea_af41_0242ac1c0002row12_col0\" class=\"data row12 col0\" >max</td>\n",
              "                        <td id=\"T_c0f1a9c0_bab9_11ea_af41_0242ac1c0002row12_col1\" class=\"data row12 col1\" >7</td>\n",
              "            </tr>\n",
              "            <tr>\n",
              "                        <th id=\"T_c0f1a9c0_bab9_11ea_af41_0242ac1c0002level0_row13\" class=\"row_heading level0 row13\" >13</th>\n",
              "                        <td id=\"T_c0f1a9c0_bab9_11ea_af41_0242ac1c0002row13_col0\" class=\"data row13 col0\" >foxcon</td>\n",
              "                        <td id=\"T_c0f1a9c0_bab9_11ea_af41_0242ac1c0002row13_col1\" class=\"data row13 col1\" >7</td>\n",
              "            </tr>\n",
              "            <tr>\n",
              "                        <th id=\"T_c0f1a9c0_bab9_11ea_af41_0242ac1c0002level0_row14\" class=\"row_heading level0 row14\" >14</th>\n",
              "                        <td id=\"T_c0f1a9c0_bab9_11ea_af41_0242ac1c0002row14_col0\" class=\"data row14 col0\" >reveng</td>\n",
              "                        <td id=\"T_c0f1a9c0_bab9_11ea_af41_0242ac1c0002row14_col1\" class=\"data row14 col1\" >6</td>\n",
              "            </tr>\n",
              "            <tr>\n",
              "                        <th id=\"T_c0f1a9c0_bab9_11ea_af41_0242ac1c0002level0_row15\" class=\"row_heading level0 row15\" >15</th>\n",
              "                        <td id=\"T_c0f1a9c0_bab9_11ea_af41_0242ac1c0002row15_col0\" class=\"data row15 col0\" >wand</td>\n",
              "                        <td id=\"T_c0f1a9c0_bab9_11ea_af41_0242ac1c0002row15_col1\" class=\"data row15 col1\" >6</td>\n",
              "            </tr>\n",
              "            <tr>\n",
              "                        <th id=\"T_c0f1a9c0_bab9_11ea_af41_0242ac1c0002level0_row16\" class=\"row_heading level0 row16\" >16</th>\n",
              "                        <td id=\"T_c0f1a9c0_bab9_11ea_af41_0242ac1c0002row16_col0\" class=\"data row16 col0\" >striking</td>\n",
              "                        <td id=\"T_c0f1a9c0_bab9_11ea_af41_0242ac1c0002row16_col1\" class=\"data row16 col1\" >6</td>\n",
              "            </tr>\n",
              "            <tr>\n",
              "                        <th id=\"T_c0f1a9c0_bab9_11ea_af41_0242ac1c0002level0_row17\" class=\"row_heading level0 row17\" >17</th>\n",
              "                        <td id=\"T_c0f1a9c0_bab9_11ea_af41_0242ac1c0002row17_col0\" class=\"data row17 col0\" >wiseguy</td>\n",
              "                        <td id=\"T_c0f1a9c0_bab9_11ea_af41_0242ac1c0002row17_col1\" class=\"data row17 col1\" >6</td>\n",
              "            </tr>\n",
              "            <tr>\n",
              "                        <th id=\"T_c0f1a9c0_bab9_11ea_af41_0242ac1c0002level0_row18\" class=\"row_heading level0 row18\" >18</th>\n",
              "                        <td id=\"T_c0f1a9c0_bab9_11ea_af41_0242ac1c0002row18_col0\" class=\"data row18 col0\" >acclaim</td>\n",
              "                        <td id=\"T_c0f1a9c0_bab9_11ea_af41_0242ac1c0002row18_col1\" class=\"data row18 col1\" >6</td>\n",
              "            </tr>\n",
              "            <tr>\n",
              "                        <th id=\"T_c0f1a9c0_bab9_11ea_af41_0242ac1c0002level0_row19\" class=\"row_heading level0 row19\" >19</th>\n",
              "                        <td id=\"T_c0f1a9c0_bab9_11ea_af41_0242ac1c0002row19_col0\" class=\"data row19 col0\" >teambrand</td>\n",
              "                        <td id=\"T_c0f1a9c0_bab9_11ea_af41_0242ac1c0002row19_col1\" class=\"data row19 col1\" >6</td>\n",
              "            </tr>\n",
              "    </tbody></table>"
            ],
            "text/plain": [
              "<pandas.io.formats.style.Styler at 0x7f75e4b46358>"
            ]
          },
          "metadata": {
            "tags": []
          },
          "execution_count": 76
        }
      ]
    },
    {
      "cell_type": "code",
      "metadata": {
        "id": "O4XCOQ3KskWQ",
        "colab_type": "code",
        "colab": {
          "base_uri": "https://localhost:8080/",
          "height": 677
        },
        "outputId": "9a86f3c0-9551-4e07-d37c-2741252f5c83"
      },
      "source": [
        "Unique_Positive"
      ],
      "execution_count": 77,
      "outputs": [
        {
          "output_type": "execute_result",
          "data": {
            "text/html": [
              "<div>\n",
              "<style scoped>\n",
              "    .dataframe tbody tr th:only-of-type {\n",
              "        vertical-align: middle;\n",
              "    }\n",
              "\n",
              "    .dataframe tbody tr th {\n",
              "        vertical-align: top;\n",
              "    }\n",
              "\n",
              "    .dataframe thead th {\n",
              "        text-align: right;\n",
              "    }\n",
              "</style>\n",
              "<table border=\"1\" class=\"dataframe\">\n",
              "  <thead>\n",
              "    <tr style=\"text-align: right;\">\n",
              "      <th></th>\n",
              "      <th>words</th>\n",
              "      <th>count</th>\n",
              "    </tr>\n",
              "  </thead>\n",
              "  <tbody>\n",
              "    <tr>\n",
              "      <th>0</th>\n",
              "      <td>okay</td>\n",
              "      <td>16</td>\n",
              "    </tr>\n",
              "    <tr>\n",
              "      <th>1</th>\n",
              "      <td>sweet</td>\n",
              "      <td>14</td>\n",
              "    </tr>\n",
              "    <tr>\n",
              "      <th>2</th>\n",
              "      <td>joy</td>\n",
              "      <td>12</td>\n",
              "    </tr>\n",
              "    <tr>\n",
              "      <th>3</th>\n",
              "      <td>loyal</td>\n",
              "      <td>11</td>\n",
              "    </tr>\n",
              "    <tr>\n",
              "      <th>4</th>\n",
              "      <td>superb</td>\n",
              "      <td>10</td>\n",
              "    </tr>\n",
              "    <tr>\n",
              "      <th>5</th>\n",
              "      <td>dim</td>\n",
              "      <td>9</td>\n",
              "    </tr>\n",
              "    <tr>\n",
              "      <th>6</th>\n",
              "      <td>toyot</td>\n",
              "      <td>9</td>\n",
              "    </tr>\n",
              "    <tr>\n",
              "      <th>7</th>\n",
              "      <td>free</td>\n",
              "      <td>8</td>\n",
              "    </tr>\n",
              "    <tr>\n",
              "      <th>8</th>\n",
              "      <td>orl</td>\n",
              "      <td>8</td>\n",
              "    </tr>\n",
              "    <tr>\n",
              "      <th>9</th>\n",
              "      <td>woody</td>\n",
              "      <td>7</td>\n",
              "    </tr>\n",
              "    <tr>\n",
              "      <th>10</th>\n",
              "      <td>mighty</td>\n",
              "      <td>7</td>\n",
              "    </tr>\n",
              "    <tr>\n",
              "      <th>11</th>\n",
              "      <td>prnewswire</td>\n",
              "      <td>7</td>\n",
              "    </tr>\n",
              "    <tr>\n",
              "      <th>12</th>\n",
              "      <td>max</td>\n",
              "      <td>7</td>\n",
              "    </tr>\n",
              "    <tr>\n",
              "      <th>13</th>\n",
              "      <td>foxcon</td>\n",
              "      <td>7</td>\n",
              "    </tr>\n",
              "    <tr>\n",
              "      <th>14</th>\n",
              "      <td>reveng</td>\n",
              "      <td>6</td>\n",
              "    </tr>\n",
              "    <tr>\n",
              "      <th>15</th>\n",
              "      <td>wand</td>\n",
              "      <td>6</td>\n",
              "    </tr>\n",
              "    <tr>\n",
              "      <th>16</th>\n",
              "      <td>striking</td>\n",
              "      <td>6</td>\n",
              "    </tr>\n",
              "    <tr>\n",
              "      <th>17</th>\n",
              "      <td>wiseguy</td>\n",
              "      <td>6</td>\n",
              "    </tr>\n",
              "    <tr>\n",
              "      <th>18</th>\n",
              "      <td>acclaim</td>\n",
              "      <td>6</td>\n",
              "    </tr>\n",
              "    <tr>\n",
              "      <th>19</th>\n",
              "      <td>teambrand</td>\n",
              "      <td>6</td>\n",
              "    </tr>\n",
              "  </tbody>\n",
              "</table>\n",
              "</div>"
            ],
            "text/plain": [
              "         words  count\n",
              "0         okay     16\n",
              "1        sweet     14\n",
              "2          joy     12\n",
              "3        loyal     11\n",
              "4       superb     10\n",
              "5          dim      9\n",
              "6        toyot      9\n",
              "7         free      8\n",
              "8          orl      8\n",
              "9        woody      7\n",
              "10      mighty      7\n",
              "11  prnewswire      7\n",
              "12         max      7\n",
              "13      foxcon      7\n",
              "14      reveng      6\n",
              "15        wand      6\n",
              "16    striking      6\n",
              "17     wiseguy      6\n",
              "18     acclaim      6\n",
              "19   teambrand      6"
            ]
          },
          "metadata": {
            "tags": []
          },
          "execution_count": 77
        }
      ]
    },
    {
      "cell_type": "code",
      "metadata": {
        "id": "090L4zL8tBd6",
        "colab_type": "code",
        "colab": {
          "base_uri": "https://localhost:8080/",
          "height": 542
        },
        "outputId": "dbdb62bf-713b-4b0e-db8d-de3c378742e2"
      },
      "source": [
        "fig = px.treemap(Unique_Positive, path=['words'], values='count',title='Tree Of Unique Words in Positive sentiment tweets')\n",
        "fig.show()"
      ],
      "execution_count": 78,
      "outputs": [
        {
          "output_type": "display_data",
          "data": {
            "text/html": [
              "<html>\n",
              "<head><meta charset=\"utf-8\" /></head>\n",
              "<body>\n",
              "    <div>\n",
              "            <script src=\"https://cdnjs.cloudflare.com/ajax/libs/mathjax/2.7.5/MathJax.js?config=TeX-AMS-MML_SVG\"></script><script type=\"text/javascript\">if (window.MathJax) {MathJax.Hub.Config({SVG: {font: \"STIX-Web\"}});}</script>\n",
              "                <script type=\"text/javascript\">window.PlotlyConfig = {MathJaxConfig: 'local'};</script>\n",
              "        <script src=\"https://cdn.plot.ly/plotly-latest.min.js\"></script>    \n",
              "            <div id=\"f22c2c33-c67e-41c1-89ed-8808656e2c87\" class=\"plotly-graph-div\" style=\"height:525px; width:100%;\"></div>\n",
              "            <script type=\"text/javascript\">\n",
              "                \n",
              "                    window.PLOTLYENV=window.PLOTLYENV || {};\n",
              "                    \n",
              "                if (document.getElementById(\"f22c2c33-c67e-41c1-89ed-8808656e2c87\")) {\n",
              "                    Plotly.newPlot(\n",
              "                        'f22c2c33-c67e-41c1-89ed-8808656e2c87',\n",
              "                        [{\"branchvalues\": \"total\", \"domain\": {\"x\": [0.0, 1.0], \"y\": [0.0, 1.0]}, \"hovertemplate\": \"labels=%{label}<br>count=%{value}<br>parent=%{parent}<br>id=%{id}<extra></extra>\", \"ids\": [\"acclaim\", \"dim\", \"foxcon\", \"free\", \"joy\", \"loyal\", \"max\", \"mighty\", \"okay\", \"orl\", \"prnewswire\", \"reveng\", \"striking\", \"superb\", \"sweet\", \"teambrand\", \"toyot\", \"wand\", \"wiseguy\", \"woody\"], \"labels\": [\"acclaim\", \"dim\", \"foxcon\", \"free\", \"joy\", \"loyal\", \"max\", \"mighty\", \"okay\", \"orl\", \"prnewswire\", \"reveng\", \"striking\", \"superb\", \"sweet\", \"teambrand\", \"toyot\", \"wand\", \"wiseguy\", \"woody\"], \"name\": \"\", \"parents\": [\"\", \"\", \"\", \"\", \"\", \"\", \"\", \"\", \"\", \"\", \"\", \"\", \"\", \"\", \"\", \"\", \"\", \"\", \"\", \"\"], \"type\": \"treemap\", \"values\": [6, 9, 7, 8, 12, 11, 7, 7, 16, 8, 7, 6, 6, 10, 14, 6, 9, 6, 6, 7]}],\n",
              "                        {\"legend\": {\"tracegroupgap\": 0}, \"template\": {\"data\": {\"bar\": [{\"error_x\": {\"color\": \"#2a3f5f\"}, \"error_y\": {\"color\": \"#2a3f5f\"}, \"marker\": {\"line\": {\"color\": \"#E5ECF6\", \"width\": 0.5}}, \"type\": \"bar\"}], \"barpolar\": [{\"marker\": {\"line\": {\"color\": \"#E5ECF6\", \"width\": 0.5}}, \"type\": \"barpolar\"}], \"carpet\": [{\"aaxis\": {\"endlinecolor\": \"#2a3f5f\", \"gridcolor\": \"white\", \"linecolor\": \"white\", \"minorgridcolor\": \"white\", \"startlinecolor\": \"#2a3f5f\"}, \"baxis\": {\"endlinecolor\": \"#2a3f5f\", \"gridcolor\": \"white\", \"linecolor\": \"white\", \"minorgridcolor\": \"white\", \"startlinecolor\": \"#2a3f5f\"}, \"type\": \"carpet\"}], \"choropleth\": [{\"colorbar\": {\"outlinewidth\": 0, \"ticks\": \"\"}, \"type\": \"choropleth\"}], \"contour\": [{\"colorbar\": {\"outlinewidth\": 0, \"ticks\": \"\"}, \"colorscale\": [[0.0, \"#0d0887\"], [0.1111111111111111, \"#46039f\"], [0.2222222222222222, \"#7201a8\"], [0.3333333333333333, \"#9c179e\"], [0.4444444444444444, \"#bd3786\"], [0.5555555555555556, \"#d8576b\"], [0.6666666666666666, \"#ed7953\"], [0.7777777777777778, \"#fb9f3a\"], [0.8888888888888888, \"#fdca26\"], [1.0, \"#f0f921\"]], \"type\": \"contour\"}], \"contourcarpet\": [{\"colorbar\": {\"outlinewidth\": 0, \"ticks\": \"\"}, \"type\": \"contourcarpet\"}], \"heatmap\": [{\"colorbar\": {\"outlinewidth\": 0, \"ticks\": \"\"}, \"colorscale\": [[0.0, \"#0d0887\"], [0.1111111111111111, \"#46039f\"], [0.2222222222222222, \"#7201a8\"], [0.3333333333333333, \"#9c179e\"], [0.4444444444444444, \"#bd3786\"], [0.5555555555555556, \"#d8576b\"], [0.6666666666666666, \"#ed7953\"], [0.7777777777777778, \"#fb9f3a\"], [0.8888888888888888, \"#fdca26\"], [1.0, \"#f0f921\"]], \"type\": \"heatmap\"}], \"heatmapgl\": [{\"colorbar\": {\"outlinewidth\": 0, \"ticks\": \"\"}, \"colorscale\": [[0.0, \"#0d0887\"], [0.1111111111111111, \"#46039f\"], [0.2222222222222222, \"#7201a8\"], [0.3333333333333333, \"#9c179e\"], [0.4444444444444444, \"#bd3786\"], [0.5555555555555556, \"#d8576b\"], [0.6666666666666666, \"#ed7953\"], [0.7777777777777778, \"#fb9f3a\"], [0.8888888888888888, \"#fdca26\"], [1.0, \"#f0f921\"]], \"type\": \"heatmapgl\"}], \"histogram\": [{\"marker\": {\"colorbar\": {\"outlinewidth\": 0, \"ticks\": \"\"}}, \"type\": \"histogram\"}], \"histogram2d\": [{\"colorbar\": {\"outlinewidth\": 0, \"ticks\": \"\"}, \"colorscale\": [[0.0, \"#0d0887\"], [0.1111111111111111, \"#46039f\"], [0.2222222222222222, \"#7201a8\"], [0.3333333333333333, \"#9c179e\"], [0.4444444444444444, \"#bd3786\"], [0.5555555555555556, \"#d8576b\"], [0.6666666666666666, \"#ed7953\"], [0.7777777777777778, \"#fb9f3a\"], [0.8888888888888888, \"#fdca26\"], [1.0, \"#f0f921\"]], \"type\": \"histogram2d\"}], \"histogram2dcontour\": [{\"colorbar\": {\"outlinewidth\": 0, \"ticks\": \"\"}, \"colorscale\": [[0.0, \"#0d0887\"], [0.1111111111111111, \"#46039f\"], [0.2222222222222222, \"#7201a8\"], [0.3333333333333333, \"#9c179e\"], [0.4444444444444444, \"#bd3786\"], [0.5555555555555556, \"#d8576b\"], [0.6666666666666666, \"#ed7953\"], [0.7777777777777778, \"#fb9f3a\"], [0.8888888888888888, \"#fdca26\"], [1.0, \"#f0f921\"]], \"type\": \"histogram2dcontour\"}], \"mesh3d\": [{\"colorbar\": {\"outlinewidth\": 0, \"ticks\": \"\"}, \"type\": \"mesh3d\"}], \"parcoords\": [{\"line\": {\"colorbar\": {\"outlinewidth\": 0, \"ticks\": \"\"}}, \"type\": \"parcoords\"}], \"pie\": [{\"automargin\": true, \"type\": \"pie\"}], \"scatter\": [{\"marker\": {\"colorbar\": {\"outlinewidth\": 0, \"ticks\": \"\"}}, \"type\": \"scatter\"}], \"scatter3d\": [{\"line\": {\"colorbar\": {\"outlinewidth\": 0, \"ticks\": \"\"}}, \"marker\": {\"colorbar\": {\"outlinewidth\": 0, \"ticks\": \"\"}}, \"type\": \"scatter3d\"}], \"scattercarpet\": [{\"marker\": {\"colorbar\": {\"outlinewidth\": 0, \"ticks\": \"\"}}, \"type\": \"scattercarpet\"}], \"scattergeo\": [{\"marker\": {\"colorbar\": {\"outlinewidth\": 0, \"ticks\": \"\"}}, \"type\": \"scattergeo\"}], \"scattergl\": [{\"marker\": {\"colorbar\": {\"outlinewidth\": 0, \"ticks\": \"\"}}, \"type\": \"scattergl\"}], \"scattermapbox\": [{\"marker\": {\"colorbar\": {\"outlinewidth\": 0, \"ticks\": \"\"}}, \"type\": \"scattermapbox\"}], \"scatterpolar\": [{\"marker\": {\"colorbar\": {\"outlinewidth\": 0, \"ticks\": \"\"}}, \"type\": \"scatterpolar\"}], \"scatterpolargl\": [{\"marker\": {\"colorbar\": {\"outlinewidth\": 0, \"ticks\": \"\"}}, \"type\": \"scatterpolargl\"}], \"scatterternary\": [{\"marker\": {\"colorbar\": {\"outlinewidth\": 0, \"ticks\": \"\"}}, \"type\": \"scatterternary\"}], \"surface\": [{\"colorbar\": {\"outlinewidth\": 0, \"ticks\": \"\"}, \"colorscale\": [[0.0, \"#0d0887\"], [0.1111111111111111, \"#46039f\"], [0.2222222222222222, \"#7201a8\"], [0.3333333333333333, \"#9c179e\"], [0.4444444444444444, \"#bd3786\"], [0.5555555555555556, \"#d8576b\"], [0.6666666666666666, \"#ed7953\"], [0.7777777777777778, \"#fb9f3a\"], [0.8888888888888888, \"#fdca26\"], [1.0, \"#f0f921\"]], \"type\": \"surface\"}], \"table\": [{\"cells\": {\"fill\": {\"color\": \"#EBF0F8\"}, \"line\": {\"color\": \"white\"}}, \"header\": {\"fill\": {\"color\": \"#C8D4E3\"}, \"line\": {\"color\": \"white\"}}, \"type\": \"table\"}]}, \"layout\": {\"annotationdefaults\": {\"arrowcolor\": \"#2a3f5f\", \"arrowhead\": 0, \"arrowwidth\": 1}, \"coloraxis\": {\"colorbar\": {\"outlinewidth\": 0, \"ticks\": \"\"}}, \"colorscale\": {\"diverging\": [[0, \"#8e0152\"], [0.1, \"#c51b7d\"], [0.2, \"#de77ae\"], [0.3, \"#f1b6da\"], [0.4, \"#fde0ef\"], [0.5, \"#f7f7f7\"], [0.6, \"#e6f5d0\"], [0.7, \"#b8e186\"], [0.8, \"#7fbc41\"], [0.9, \"#4d9221\"], [1, \"#276419\"]], \"sequential\": [[0.0, \"#0d0887\"], [0.1111111111111111, \"#46039f\"], [0.2222222222222222, \"#7201a8\"], [0.3333333333333333, \"#9c179e\"], [0.4444444444444444, \"#bd3786\"], [0.5555555555555556, \"#d8576b\"], [0.6666666666666666, \"#ed7953\"], [0.7777777777777778, \"#fb9f3a\"], [0.8888888888888888, \"#fdca26\"], [1.0, \"#f0f921\"]], \"sequentialminus\": [[0.0, \"#0d0887\"], [0.1111111111111111, \"#46039f\"], [0.2222222222222222, \"#7201a8\"], [0.3333333333333333, \"#9c179e\"], [0.4444444444444444, \"#bd3786\"], [0.5555555555555556, \"#d8576b\"], [0.6666666666666666, \"#ed7953\"], [0.7777777777777778, \"#fb9f3a\"], [0.8888888888888888, \"#fdca26\"], [1.0, \"#f0f921\"]]}, \"colorway\": [\"#636efa\", \"#EF553B\", \"#00cc96\", \"#ab63fa\", \"#FFA15A\", \"#19d3f3\", \"#FF6692\", \"#B6E880\", \"#FF97FF\", \"#FECB52\"], \"font\": {\"color\": \"#2a3f5f\"}, \"geo\": {\"bgcolor\": \"white\", \"lakecolor\": \"white\", \"landcolor\": \"#E5ECF6\", \"showlakes\": true, \"showland\": true, \"subunitcolor\": \"white\"}, \"hoverlabel\": {\"align\": \"left\"}, \"hovermode\": \"closest\", \"mapbox\": {\"style\": \"light\"}, \"paper_bgcolor\": \"white\", \"plot_bgcolor\": \"#E5ECF6\", \"polar\": {\"angularaxis\": {\"gridcolor\": \"white\", \"linecolor\": \"white\", \"ticks\": \"\"}, \"bgcolor\": \"#E5ECF6\", \"radialaxis\": {\"gridcolor\": \"white\", \"linecolor\": \"white\", \"ticks\": \"\"}}, \"scene\": {\"xaxis\": {\"backgroundcolor\": \"#E5ECF6\", \"gridcolor\": \"white\", \"gridwidth\": 2, \"linecolor\": \"white\", \"showbackground\": true, \"ticks\": \"\", \"zerolinecolor\": \"white\"}, \"yaxis\": {\"backgroundcolor\": \"#E5ECF6\", \"gridcolor\": \"white\", \"gridwidth\": 2, \"linecolor\": \"white\", \"showbackground\": true, \"ticks\": \"\", \"zerolinecolor\": \"white\"}, \"zaxis\": {\"backgroundcolor\": \"#E5ECF6\", \"gridcolor\": \"white\", \"gridwidth\": 2, \"linecolor\": \"white\", \"showbackground\": true, \"ticks\": \"\", \"zerolinecolor\": \"white\"}}, \"shapedefaults\": {\"line\": {\"color\": \"#2a3f5f\"}}, \"ternary\": {\"aaxis\": {\"gridcolor\": \"white\", \"linecolor\": \"white\", \"ticks\": \"\"}, \"baxis\": {\"gridcolor\": \"white\", \"linecolor\": \"white\", \"ticks\": \"\"}, \"bgcolor\": \"#E5ECF6\", \"caxis\": {\"gridcolor\": \"white\", \"linecolor\": \"white\", \"ticks\": \"\"}}, \"title\": {\"x\": 0.05}, \"xaxis\": {\"automargin\": true, \"gridcolor\": \"white\", \"linecolor\": \"white\", \"ticks\": \"\", \"title\": {\"standoff\": 15}, \"zerolinecolor\": \"white\", \"zerolinewidth\": 2}, \"yaxis\": {\"automargin\": true, \"gridcolor\": \"white\", \"linecolor\": \"white\", \"ticks\": \"\", \"title\": {\"standoff\": 15}, \"zerolinecolor\": \"white\", \"zerolinewidth\": 2}}}, \"title\": {\"text\": \"Tree Of Unique Words in Positive sentiment tweets\"}},\n",
              "                        {\"responsive\": true}\n",
              "                    ).then(function(){\n",
              "                            \n",
              "var gd = document.getElementById('f22c2c33-c67e-41c1-89ed-8808656e2c87');\n",
              "var x = new MutationObserver(function (mutations, observer) {{\n",
              "        var display = window.getComputedStyle(gd).display;\n",
              "        if (!display || display === 'none') {{\n",
              "            console.log([gd, 'removed!']);\n",
              "            Plotly.purge(gd);\n",
              "            observer.disconnect();\n",
              "        }}\n",
              "}});\n",
              "\n",
              "// Listen for the removal of the full notebook cells\n",
              "var notebookContainer = gd.closest('#notebook-container');\n",
              "if (notebookContainer) {{\n",
              "    x.observe(notebookContainer, {childList: true});\n",
              "}}\n",
              "\n",
              "// Listen for the clearing of the current output cell\n",
              "var outputEl = gd.closest('.output');\n",
              "if (outputEl) {{\n",
              "    x.observe(outputEl, {childList: true});\n",
              "}}\n",
              "\n",
              "                        })\n",
              "                };\n",
              "                \n",
              "            </script>\n",
              "        </div>\n",
              "</body>\n",
              "</html>"
            ]
          },
          "metadata": {
            "tags": []
          }
        }
      ]
    },
    {
      "cell_type": "code",
      "metadata": {
        "id": "dx0gP7vdtKBz",
        "colab_type": "code",
        "colab": {
          "base_uri": "https://localhost:8080/",
          "height": 591
        },
        "outputId": "ff42835b-21c0-439d-9e96-e008d4ecfdb5"
      },
      "source": [
        "from palettable.colorbrewer.qualitative import Pastel1_7\n",
        "plt.figure(figsize=(16,10))\n",
        "my_circle=plt.Circle((0,0), 0.7, color='white')\n",
        "plt.pie(Unique_Positive['count'], labels=Unique_Positive.words, colors=Pastel1_7.hex_colors)\n",
        "p=plt.gcf()\n",
        "p.gca().add_artist(my_circle)\n",
        "plt.title('DoNut Plot Of Unique words in Positive sentiment tweets')\n",
        "plt.show()"
      ],
      "execution_count": 79,
      "outputs": [
        {
          "output_type": "display_data",
          "data": {
            "image/png": "[encoded data removed]",
            "text/plain": [
              "<Figure size 1152x720 with 1 Axes>"
            ]
          },
          "metadata": {
            "tags": []
          }
        }
      ]
    },
    {
      "cell_type": "code",
      "metadata": {
        "id": "jM5mlIzFtUmN",
        "colab_type": "code",
        "colab": {}
      },
      "source": [
        "# 9.2: Number of unique words in tweets with negative sentiment"
      ],
      "execution_count": 80,
      "outputs": []
    },
    {
      "cell_type": "code",
      "metadata": {
        "id": "1l480Fcntiqk",
        "colab_type": "code",
        "colab": {
          "base_uri": "https://localhost:8080/",
          "height": 272
        },
        "outputId": "8fd44489-c8e3-4afc-b553-8d09ba13787b"
      },
      "source": [
        "Unique_Negative= words_unique('negative', 10, raw_text)\n",
        "print(\"The top 10 unique words in Negative Tweets are:\")\n",
        "Unique_Negative.style.background_gradient(cmap='Reds')"
      ],
      "execution_count": 81,
      "outputs": [
        {
          "output_type": "stream",
          "text": [
            "The top 10 unique words in Negative Tweets are:\n"
          ],
          "name": "stdout"
        },
        {
          "output_type": "execute_result",
          "data": {
            "text/html": [
              "<style  type=\"text/css\" >\n",
              "    #T_c31ceeac_baba_11ea_af41_0242ac1c0002row0_col1 {\n",
              "            background-color:  #67000d;\n",
              "            color:  #f1f1f1;\n",
              "        }    #T_c31ceeac_baba_11ea_af41_0242ac1c0002row1_col1 {\n",
              "            background-color:  #fb694a;\n",
              "            color:  #000000;\n",
              "        }    #T_c31ceeac_baba_11ea_af41_0242ac1c0002row2_col1 {\n",
              "            background-color:  #fb7d5d;\n",
              "            color:  #000000;\n",
              "        }    #T_c31ceeac_baba_11ea_af41_0242ac1c0002row3_col1 {\n",
              "            background-color:  #fcbba1;\n",
              "            color:  #000000;\n",
              "        }    #T_c31ceeac_baba_11ea_af41_0242ac1c0002row4_col1 {\n",
              "            background-color:  #fee0d2;\n",
              "            color:  #000000;\n",
              "        }    #T_c31ceeac_baba_11ea_af41_0242ac1c0002row5_col1 {\n",
              "            background-color:  #fee0d2;\n",
              "            color:  #000000;\n",
              "        }    #T_c31ceeac_baba_11ea_af41_0242ac1c0002row6_col1 {\n",
              "            background-color:  #feeae1;\n",
              "            color:  #000000;\n",
              "        }    #T_c31ceeac_baba_11ea_af41_0242ac1c0002row7_col1 {\n",
              "            background-color:  #feeae1;\n",
              "            color:  #000000;\n",
              "        }    #T_c31ceeac_baba_11ea_af41_0242ac1c0002row8_col1 {\n",
              "            background-color:  #fff5f0;\n",
              "            color:  #000000;\n",
              "        }    #T_c31ceeac_baba_11ea_af41_0242ac1c0002row9_col1 {\n",
              "            background-color:  #fff5f0;\n",
              "            color:  #000000;\n",
              "        }</style><table id=\"T_c31ceeac_baba_11ea_af41_0242ac1c0002\" ><thead>    <tr>        <th class=\"blank level0\" ></th>        <th class=\"col_heading level0 col0\" >words</th>        <th class=\"col_heading level0 col1\" >count</th>    </tr></thead><tbody>\n",
              "                <tr>\n",
              "                        <th id=\"T_c31ceeac_baba_11ea_af41_0242ac1c0002level0_row0\" class=\"row_heading level0 row0\" >0</th>\n",
              "                        <td id=\"T_c31ceeac_baba_11ea_af41_0242ac1c0002row0_col0\" class=\"data row0 col0\" >blind</td>\n",
              "                        <td id=\"T_c31ceeac_baba_11ea_af41_0242ac1c0002row0_col1\" class=\"data row0 col1\" >20</td>\n",
              "            </tr>\n",
              "            <tr>\n",
              "                        <th id=\"T_c31ceeac_baba_11ea_af41_0242ac1c0002level0_row1\" class=\"row_heading level0 row1\" >1</th>\n",
              "                        <td id=\"T_c31ceeac_baba_11ea_af41_0242ac1c0002row1_col0\" class=\"data row1 col0\" >filthy</td>\n",
              "                        <td id=\"T_c31ceeac_baba_11ea_af41_0242ac1c0002row1_col1\" class=\"data row1 col1\" >12</td>\n",
              "            </tr>\n",
              "            <tr>\n",
              "                        <th id=\"T_c31ceeac_baba_11ea_af41_0242ac1c0002level0_row2\" class=\"row_heading level0 row2\" >2</th>\n",
              "                        <td id=\"T_c31ceeac_baba_11ea_af41_0242ac1c0002row2_col0\" class=\"data row2 col0\" >crap</td>\n",
              "                        <td id=\"T_c31ceeac_baba_11ea_af41_0242ac1c0002row2_col1\" class=\"data row2 col1\" >11</td>\n",
              "            </tr>\n",
              "            <tr>\n",
              "                        <th id=\"T_c31ceeac_baba_11ea_af41_0242ac1c0002level0_row3\" class=\"row_heading level0 row3\" >3</th>\n",
              "                        <td id=\"T_c31ceeac_baba_11ea_af41_0242ac1c0002row3_col0\" class=\"data row3 col0\" >weird</td>\n",
              "                        <td id=\"T_c31ceeac_baba_11ea_af41_0242ac1c0002row3_col1\" class=\"data row3 col1\" >8</td>\n",
              "            </tr>\n",
              "            <tr>\n",
              "                        <th id=\"T_c31ceeac_baba_11ea_af41_0242ac1c0002level0_row4\" class=\"row_heading level0 row4\" >4</th>\n",
              "                        <td id=\"T_c31ceeac_baba_11ea_af41_0242ac1c0002row4_col0\" class=\"data row4 col0\" >tempera</td>\n",
              "                        <td id=\"T_c31ceeac_baba_11ea_af41_0242ac1c0002row4_col1\" class=\"data row4 col1\" >6</td>\n",
              "            </tr>\n",
              "            <tr>\n",
              "                        <th id=\"T_c31ceeac_baba_11ea_af41_0242ac1c0002level0_row5\" class=\"row_heading level0 row5\" >5</th>\n",
              "                        <td id=\"T_c31ceeac_baba_11ea_af41_0242ac1c0002row5_col0\" class=\"data row5 col0\" >grief</td>\n",
              "                        <td id=\"T_c31ceeac_baba_11ea_af41_0242ac1c0002row5_col1\" class=\"data row5 col1\" >6</td>\n",
              "            </tr>\n",
              "            <tr>\n",
              "                        <th id=\"T_c31ceeac_baba_11ea_af41_0242ac1c0002level0_row6\" class=\"row_heading level0 row6\" >6</th>\n",
              "                        <td id=\"T_c31ceeac_baba_11ea_af41_0242ac1c0002row6_col0\" class=\"data row6 col0\" >puppy</td>\n",
              "                        <td id=\"T_c31ceeac_baba_11ea_af41_0242ac1c0002row6_col1\" class=\"data row6 col1\" >5</td>\n",
              "            </tr>\n",
              "            <tr>\n",
              "                        <th id=\"T_c31ceeac_baba_11ea_af41_0242ac1c0002level0_row7\" class=\"row_heading level0 row7\" >7</th>\n",
              "                        <td id=\"T_c31ceeac_baba_11ea_af41_0242ac1c0002row7_col0\" class=\"data row7 col0\" >refut</td>\n",
              "                        <td id=\"T_c31ceeac_baba_11ea_af41_0242ac1c0002row7_col1\" class=\"data row7 col1\" >5</td>\n",
              "            </tr>\n",
              "            <tr>\n",
              "                        <th id=\"T_c31ceeac_baba_11ea_af41_0242ac1c0002level0_row8\" class=\"row_heading level0 row8\" >8</th>\n",
              "                        <td id=\"T_c31ceeac_baba_11ea_af41_0242ac1c0002row8_col0\" class=\"data row8 col0\" >nadarkhan</td>\n",
              "                        <td id=\"T_c31ceeac_baba_11ea_af41_0242ac1c0002row8_col1\" class=\"data row8 col1\" >4</td>\n",
              "            </tr>\n",
              "            <tr>\n",
              "                        <th id=\"T_c31ceeac_baba_11ea_af41_0242ac1c0002level0_row9\" class=\"row_heading level0 row9\" >9</th>\n",
              "                        <td id=\"T_c31ceeac_baba_11ea_af41_0242ac1c0002row9_col0\" class=\"data row9 col0\" >blockbust</td>\n",
              "                        <td id=\"T_c31ceeac_baba_11ea_af41_0242ac1c0002row9_col1\" class=\"data row9 col1\" >4</td>\n",
              "            </tr>\n",
              "    </tbody></table>"
            ],
            "text/plain": [
              "<pandas.io.formats.style.Styler at 0x7f75e4b4b710>"
            ]
          },
          "metadata": {
            "tags": []
          },
          "execution_count": 81
        }
      ]
    },
    {
      "cell_type": "code",
      "metadata": {
        "id": "Oo05CXw-uJVB",
        "colab_type": "code",
        "colab": {
          "base_uri": "https://localhost:8080/",
          "height": 591
        },
        "outputId": "f349fb22-b989-4483-9ae7-cffcbc1f1065"
      },
      "source": [
        "plt.figure(figsize=(16,10))\n",
        "my_circle=plt.Circle((0,0), 0.7, color='white')\n",
        "plt.rcParams['text.color'] = 'black'\n",
        "plt.pie(Unique_Negative['count'], labels=Unique_Negative.words, colors=Pastel1_7.hex_colors)\n",
        "p=plt.gcf()\n",
        "p.gca().add_artist(my_circle)\n",
        "plt.title('DoNut Plot Of Unique words in Negative sentiment tweets')\n",
        "plt.show()"
      ],
      "execution_count": 82,
      "outputs": [
        {
          "output_type": "display_data",
          "data": {
            "image/png": "[encoded data removed]",
            "text/plain": [
              "<Figure size 1152x720 with 1 Axes>"
            ]
          },
          "metadata": {
            "tags": []
          }
        }
      ]
    },
    {
      "cell_type": "code",
      "metadata": {
        "id": "OLA14YDPub18",
        "colab_type": "code",
        "colab": {}
      },
      "source": [
        "# 9.3: Number of unique words in tweets with neutral sentiments"
      ],
      "execution_count": 83,
      "outputs": []
    },
    {
      "cell_type": "code",
      "metadata": {
        "id": "APrQckd1ujSi",
        "colab_type": "code",
        "colab": {
          "base_uri": "https://localhost:8080/",
          "height": 272
        },
        "outputId": "bd9b7b39-a782-41d1-86cd-05bcfa9f6305"
      },
      "source": [
        "Unique_Neutral= words_unique('neutral', 10, raw_text)\n",
        "print(\"The top 10 unique words in Neutral Tweets are:\")\n",
        "Unique_Neutral.style.background_gradient(cmap='Oranges')"
      ],
      "execution_count": 84,
      "outputs": [
        {
          "output_type": "stream",
          "text": [
            "The top 10 unique words in Neutral Tweets are:\n"
          ],
          "name": "stdout"
        },
        {
          "output_type": "execute_result",
          "data": {
            "text/html": [
              "<style  type=\"text/css\" >\n",
              "    #T_046027e4_babb_11ea_af41_0242ac1c0002row0_col1 {\n",
              "            background-color:  #7f2704;\n",
              "            color:  #f1f1f1;\n",
              "        }    #T_046027e4_babb_11ea_af41_0242ac1c0002row1_col1 {\n",
              "            background-color:  #c54102;\n",
              "            color:  #f1f1f1;\n",
              "        }    #T_046027e4_babb_11ea_af41_0242ac1c0002row2_col1 {\n",
              "            background-color:  #c54102;\n",
              "            color:  #f1f1f1;\n",
              "        }    #T_046027e4_babb_11ea_af41_0242ac1c0002row3_col1 {\n",
              "            background-color:  #f3701b;\n",
              "            color:  #000000;\n",
              "        }    #T_046027e4_babb_11ea_af41_0242ac1c0002row4_col1 {\n",
              "            background-color:  #fda762;\n",
              "            color:  #000000;\n",
              "        }    #T_046027e4_babb_11ea_af41_0242ac1c0002row5_col1 {\n",
              "            background-color:  #fdd9b4;\n",
              "            color:  #000000;\n",
              "        }    #T_046027e4_babb_11ea_af41_0242ac1c0002row6_col1 {\n",
              "            background-color:  #fdd9b4;\n",
              "            color:  #000000;\n",
              "        }    #T_046027e4_babb_11ea_af41_0242ac1c0002row7_col1 {\n",
              "            background-color:  #fff5eb;\n",
              "            color:  #000000;\n",
              "        }    #T_046027e4_babb_11ea_af41_0242ac1c0002row8_col1 {\n",
              "            background-color:  #fff5eb;\n",
              "            color:  #000000;\n",
              "        }    #T_046027e4_babb_11ea_af41_0242ac1c0002row9_col1 {\n",
              "            background-color:  #fff5eb;\n",
              "            color:  #000000;\n",
              "        }</style><table id=\"T_046027e4_babb_11ea_af41_0242ac1c0002\" ><thead>    <tr>        <th class=\"blank level0\" ></th>        <th class=\"col_heading level0 col0\" >words</th>        <th class=\"col_heading level0 col1\" >count</th>    </tr></thead><tbody>\n",
              "                <tr>\n",
              "                        <th id=\"T_046027e4_babb_11ea_af41_0242ac1c0002level0_row0\" class=\"row_heading level0 row0\" >0</th>\n",
              "                        <td id=\"T_046027e4_babb_11ea_af41_0242ac1c0002row0_col0\" class=\"data row0 col0\" >به</td>\n",
              "                        <td id=\"T_046027e4_babb_11ea_af41_0242ac1c0002row0_col1\" class=\"data row0 col1\" >13</td>\n",
              "            </tr>\n",
              "            <tr>\n",
              "                        <th id=\"T_046027e4_babb_11ea_af41_0242ac1c0002level0_row1\" class=\"row_heading level0 row1\" >1</th>\n",
              "                        <td id=\"T_046027e4_babb_11ea_af41_0242ac1c0002row1_col0\" class=\"data row1 col0\" >algemein</td>\n",
              "                        <td id=\"T_046027e4_babb_11ea_af41_0242ac1c0002row1_col1\" class=\"data row1 col1\" >12</td>\n",
              "            </tr>\n",
              "            <tr>\n",
              "                        <th id=\"T_046027e4_babb_11ea_af41_0242ac1c0002level0_row2\" class=\"row_heading level0 row2\" >2</th>\n",
              "                        <td id=\"T_046027e4_babb_11ea_af41_0242ac1c0002row2_col0\" class=\"data row2 col0\" >را</td>\n",
              "                        <td id=\"T_046027e4_babb_11ea_af41_0242ac1c0002row2_col1\" class=\"data row2 col1\" >12</td>\n",
              "            </tr>\n",
              "            <tr>\n",
              "                        <th id=\"T_046027e4_babb_11ea_af41_0242ac1c0002level0_row3\" class=\"row_heading level0 row3\" >3</th>\n",
              "                        <td id=\"T_046027e4_babb_11ea_af41_0242ac1c0002row3_col0\" class=\"data row3 col0\" >luv</td>\n",
              "                        <td id=\"T_046027e4_babb_11ea_af41_0242ac1c0002row3_col1\" class=\"data row3 col1\" >11</td>\n",
              "            </tr>\n",
              "            <tr>\n",
              "                        <th id=\"T_046027e4_babb_11ea_af41_0242ac1c0002level0_row4\" class=\"row_heading level0 row4\" >4</th>\n",
              "                        <td id=\"T_046027e4_babb_11ea_af41_0242ac1c0002row4_col0\" class=\"data row4 col0\" >ایران</td>\n",
              "                        <td id=\"T_046027e4_babb_11ea_af41_0242ac1c0002row4_col1\" class=\"data row4 col1\" >10</td>\n",
              "            </tr>\n",
              "            <tr>\n",
              "                        <th id=\"T_046027e4_babb_11ea_af41_0242ac1c0002level0_row5\" class=\"row_heading level0 row5\" >5</th>\n",
              "                        <td id=\"T_046027e4_babb_11ea_af41_0242ac1c0002row5_col0\" class=\"data row5 col0\" >wilmington</td>\n",
              "                        <td id=\"T_046027e4_babb_11ea_af41_0242ac1c0002row5_col1\" class=\"data row5 col1\" >9</td>\n",
              "            </tr>\n",
              "            <tr>\n",
              "                        <th id=\"T_046027e4_babb_11ea_af41_0242ac1c0002level0_row6\" class=\"row_heading level0 row6\" >6</th>\n",
              "                        <td id=\"T_046027e4_babb_11ea_af41_0242ac1c0002row6_col0\" class=\"data row6 col0\" >و</td>\n",
              "                        <td id=\"T_046027e4_babb_11ea_af41_0242ac1c0002row6_col1\" class=\"data row6 col1\" >9</td>\n",
              "            </tr>\n",
              "            <tr>\n",
              "                        <th id=\"T_046027e4_babb_11ea_af41_0242ac1c0002level0_row7\" class=\"row_heading level0 row7\" >7</th>\n",
              "                        <td id=\"T_046027e4_babb_11ea_af41_0242ac1c0002row7_col0\" class=\"data row7 col0\" >mason</td>\n",
              "                        <td id=\"T_046027e4_babb_11ea_af41_0242ac1c0002row7_col1\" class=\"data row7 col1\" >8</td>\n",
              "            </tr>\n",
              "            <tr>\n",
              "                        <th id=\"T_046027e4_babb_11ea_af41_0242ac1c0002level0_row8\" class=\"row_heading level0 row8\" >8</th>\n",
              "                        <td id=\"T_046027e4_babb_11ea_af41_0242ac1c0002row8_col0\" class=\"data row8 col0\" >premierecollect</td>\n",
              "                        <td id=\"T_046027e4_babb_11ea_af41_0242ac1c0002row8_col1\" class=\"data row8 col1\" >8</td>\n",
              "            </tr>\n",
              "            <tr>\n",
              "                        <th id=\"T_046027e4_babb_11ea_af41_0242ac1c0002level0_row9\" class=\"row_heading level0 row9\" >9</th>\n",
              "                        <td id=\"T_046027e4_babb_11ea_af41_0242ac1c0002row9_col0\" class=\"data row9 col0\" >roanok</td>\n",
              "                        <td id=\"T_046027e4_babb_11ea_af41_0242ac1c0002row9_col1\" class=\"data row9 col1\" >8</td>\n",
              "            </tr>\n",
              "    </tbody></table>"
            ],
            "text/plain": [
              "<pandas.io.formats.style.Styler at 0x7f75e4b4b6a0>"
            ]
          },
          "metadata": {
            "tags": []
          },
          "execution_count": 84
        }
      ]
    },
    {
      "cell_type": "code",
      "metadata": {
        "id": "PPxNN5f9usqF",
        "colab_type": "code",
        "colab": {}
      },
      "source": [
        "# Since the count for positive, negative and neutral sentiments is so less, there is no use of creating word clouds with unique words. So we will create a wordcloud with all the words combined."
      ],
      "execution_count": 86,
      "outputs": []
    },
    {
      "cell_type": "code",
      "metadata": {
        "id": "ex4Z6-q_vDLJ",
        "colab_type": "code",
        "colab": {
          "base_uri": "https://localhost:8080/",
          "height": 254
        },
        "outputId": "8e02cf08-5f6e-41ac-dc3a-87a0ec9b3fbd"
      },
      "source": [
        "# Data cleaning\n",
        "Unique_Neutral= words_unique('neutral', 14, raw_text)\n",
        "Unique_Neutral['words'] = Unique_Neutral['words'].map(lambda x: re.sub(r'\\W+', '', x))\n",
        "Unique_Neutral['words'] = Unique_Neutral['words'].replace(r'\\W+', '', regex=True)\n",
        "Unique_Neutral['words']=Unique_Neutral[~Unique_Neutral['words'].isin(['به','را','ایران','و'])] #new line removing meaningless words from above\n",
        "\n",
        "Unique_Neutral['words'] =  Unique_Neutral['words'].replace(\"\", np.nan)\n",
        "Unique_Neutral= Unique_Neutral.dropna(subset=['words'])\n",
        "\n",
        "Unique_Neutral.style.background_gradient(cmap='Reds')"
      ],
      "execution_count": 87,
      "outputs": [
        {
          "output_type": "execute_result",
          "data": {
            "text/html": [
              "<style  type=\"text/css\" >\n",
              "    #T_5c8b5f60_babb_11ea_af41_0242ac1c0002row0_col1 {\n",
              "            background-color:  #67000d;\n",
              "            color:  #f1f1f1;\n",
              "        }    #T_5c8b5f60_babb_11ea_af41_0242ac1c0002row1_col1 {\n",
              "            background-color:  #bc141a;\n",
              "            color:  #f1f1f1;\n",
              "        }    #T_5c8b5f60_babb_11ea_af41_0242ac1c0002row2_col1 {\n",
              "            background-color:  #fc8a6a;\n",
              "            color:  #000000;\n",
              "        }    #T_5c8b5f60_babb_11ea_af41_0242ac1c0002row3_col1 {\n",
              "            background-color:  #fdcab5;\n",
              "            color:  #000000;\n",
              "        }    #T_5c8b5f60_babb_11ea_af41_0242ac1c0002row4_col1 {\n",
              "            background-color:  #fdcab5;\n",
              "            color:  #000000;\n",
              "        }    #T_5c8b5f60_babb_11ea_af41_0242ac1c0002row5_col1 {\n",
              "            background-color:  #fdcab5;\n",
              "            color:  #000000;\n",
              "        }    #T_5c8b5f60_babb_11ea_af41_0242ac1c0002row6_col1 {\n",
              "            background-color:  #fdcab5;\n",
              "            color:  #000000;\n",
              "        }    #T_5c8b5f60_babb_11ea_af41_0242ac1c0002row7_col1 {\n",
              "            background-color:  #fff5f0;\n",
              "            color:  #000000;\n",
              "        }    #T_5c8b5f60_babb_11ea_af41_0242ac1c0002row8_col1 {\n",
              "            background-color:  #fff5f0;\n",
              "            color:  #000000;\n",
              "        }    #T_5c8b5f60_babb_11ea_af41_0242ac1c0002row9_col1 {\n",
              "            background-color:  #fff5f0;\n",
              "            color:  #000000;\n",
              "        }</style><table id=\"T_5c8b5f60_babb_11ea_af41_0242ac1c0002\" ><thead>    <tr>        <th class=\"blank level0\" ></th>        <th class=\"col_heading level0 col0\" >words</th>        <th class=\"col_heading level0 col1\" >count</th>    </tr></thead><tbody>\n",
              "                <tr>\n",
              "                        <th id=\"T_5c8b5f60_babb_11ea_af41_0242ac1c0002level0_row0\" class=\"row_heading level0 row0\" >1</th>\n",
              "                        <td id=\"T_5c8b5f60_babb_11ea_af41_0242ac1c0002row0_col0\" class=\"data row0 col0\" >algemein</td>\n",
              "                        <td id=\"T_5c8b5f60_babb_11ea_af41_0242ac1c0002row0_col1\" class=\"data row0 col1\" >12</td>\n",
              "            </tr>\n",
              "            <tr>\n",
              "                        <th id=\"T_5c8b5f60_babb_11ea_af41_0242ac1c0002level0_row1\" class=\"row_heading level0 row1\" >3</th>\n",
              "                        <td id=\"T_5c8b5f60_babb_11ea_af41_0242ac1c0002row1_col0\" class=\"data row1 col0\" >luv</td>\n",
              "                        <td id=\"T_5c8b5f60_babb_11ea_af41_0242ac1c0002row1_col1\" class=\"data row1 col1\" >11</td>\n",
              "            </tr>\n",
              "            <tr>\n",
              "                        <th id=\"T_5c8b5f60_babb_11ea_af41_0242ac1c0002level0_row2\" class=\"row_heading level0 row2\" >5</th>\n",
              "                        <td id=\"T_5c8b5f60_babb_11ea_af41_0242ac1c0002row2_col0\" class=\"data row2 col0\" >wilmington</td>\n",
              "                        <td id=\"T_5c8b5f60_babb_11ea_af41_0242ac1c0002row2_col1\" class=\"data row2 col1\" >9</td>\n",
              "            </tr>\n",
              "            <tr>\n",
              "                        <th id=\"T_5c8b5f60_babb_11ea_af41_0242ac1c0002level0_row3\" class=\"row_heading level0 row3\" >7</th>\n",
              "                        <td id=\"T_5c8b5f60_babb_11ea_af41_0242ac1c0002row3_col0\" class=\"data row3 col0\" >mason</td>\n",
              "                        <td id=\"T_5c8b5f60_babb_11ea_af41_0242ac1c0002row3_col1\" class=\"data row3 col1\" >8</td>\n",
              "            </tr>\n",
              "            <tr>\n",
              "                        <th id=\"T_5c8b5f60_babb_11ea_af41_0242ac1c0002level0_row4\" class=\"row_heading level0 row4\" >8</th>\n",
              "                        <td id=\"T_5c8b5f60_babb_11ea_af41_0242ac1c0002row4_col0\" class=\"data row4 col0\" >premierecollect</td>\n",
              "                        <td id=\"T_5c8b5f60_babb_11ea_af41_0242ac1c0002row4_col1\" class=\"data row4 col1\" >8</td>\n",
              "            </tr>\n",
              "            <tr>\n",
              "                        <th id=\"T_5c8b5f60_babb_11ea_af41_0242ac1c0002level0_row5\" class=\"row_heading level0 row5\" >9</th>\n",
              "                        <td id=\"T_5c8b5f60_babb_11ea_af41_0242ac1c0002row5_col0\" class=\"data row5 col0\" >roanok</td>\n",
              "                        <td id=\"T_5c8b5f60_babb_11ea_af41_0242ac1c0002row5_col1\" class=\"data row5 col1\" >8</td>\n",
              "            </tr>\n",
              "            <tr>\n",
              "                        <th id=\"T_5c8b5f60_babb_11ea_af41_0242ac1c0002level0_row6\" class=\"row_heading level0 row6\" >10</th>\n",
              "                        <td id=\"T_5c8b5f60_babb_11ea_af41_0242ac1c0002row6_col0\" class=\"data row6 col0\" >jobsnotmob</td>\n",
              "                        <td id=\"T_5c8b5f60_babb_11ea_af41_0242ac1c0002row6_col1\" class=\"data row6 col1\" >8</td>\n",
              "            </tr>\n",
              "            <tr>\n",
              "                        <th id=\"T_5c8b5f60_babb_11ea_af41_0242ac1c0002level0_row7\" class=\"row_heading level0 row7\" >11</th>\n",
              "                        <td id=\"T_5c8b5f60_babb_11ea_af41_0242ac1c0002row7_col0\" class=\"data row7 col0\" >autograph</td>\n",
              "                        <td id=\"T_5c8b5f60_babb_11ea_af41_0242ac1c0002row7_col1\" class=\"data row7 col1\" >7</td>\n",
              "            </tr>\n",
              "            <tr>\n",
              "                        <th id=\"T_5c8b5f60_babb_11ea_af41_0242ac1c0002level0_row8\" class=\"row_heading level0 row8\" >12</th>\n",
              "                        <td id=\"T_5c8b5f60_babb_11ea_af41_0242ac1c0002row8_col0\" class=\"data row8 col0\" >thomasarobert</td>\n",
              "                        <td id=\"T_5c8b5f60_babb_11ea_af41_0242ac1c0002row8_col1\" class=\"data row8 col1\" >7</td>\n",
              "            </tr>\n",
              "            <tr>\n",
              "                        <th id=\"T_5c8b5f60_babb_11ea_af41_0242ac1c0002level0_row9\" class=\"row_heading level0 row9\" >13</th>\n",
              "                        <td id=\"T_5c8b5f60_babb_11ea_af41_0242ac1c0002row9_col0\" class=\"data row9 col0\" >lauderd</td>\n",
              "                        <td id=\"T_5c8b5f60_babb_11ea_af41_0242ac1c0002row9_col1\" class=\"data row9 col1\" >7</td>\n",
              "            </tr>\n",
              "    </tbody></table>"
            ],
            "text/plain": [
              "<pandas.io.formats.style.Styler at 0x7f75e7564198>"
            ]
          },
          "metadata": {
            "tags": []
          },
          "execution_count": 87
        }
      ]
    },
    {
      "cell_type": "code",
      "metadata": {
        "id": "Wu4n4iZkvQyQ",
        "colab_type": "code",
        "colab": {
          "base_uri": "https://localhost:8080/",
          "height": 591
        },
        "outputId": "4ae6bdb5-5962-4ee6-da5c-7221997ba2f7"
      },
      "source": [
        "plt.figure(figsize=(16,10))\n",
        "my_circle=plt.Circle((0,0), 0.7, color='white')\n",
        "plt.pie(Unique_Neutral['count'], labels=Unique_Neutral.words, colors=Pastel1_7.hex_colors)\n",
        "p=plt.gcf()\n",
        "p.gca().add_artist(my_circle)\n",
        "plt.title('DoNut Plot Of Unique words in Neutral sentiment tweets')\n",
        "plt.show()"
      ],
      "execution_count": 88,
      "outputs": [
        {
          "output_type": "display_data",
          "data": {
            "image/png": "[encoded data removed]",
            "text/plain": [
              "<Figure size 1152x720 with 1 Axes>"
            ]
          },
          "metadata": {
            "tags": []
          }
        }
      ]
    },
    {
      "cell_type": "code",
      "metadata": {
        "id": "eF_-ZzDCvUhd",
        "colab_type": "code",
        "colab": {
          "base_uri": "https://localhost:8080/",
          "height": 72
        },
        "outputId": "ed99b7c4-2836-49f0-8757-2ac109449dec"
      },
      "source": [
        "'''\n",
        "By Looking at the Unique Words of each sentiment,we now have much more clarity about the data\n",
        "\n",
        "We shall now proceed to create word clouds, but we shall make word cloud of all words and not just existing words since unique words are very less in number for many sentiments (10,7,9 etc.) , so an effective word cloud can be only made by considering all the words in different sentiment tweets\n",
        "'''"
      ],
      "execution_count": 90,
      "outputs": [
        {
          "output_type": "execute_result",
          "data": {
            "application/vnd.google.colaboratory.intrinsic": {
              "type": "string"
            },
            "text/plain": [
              "'\\nBy Looking at the Unique Words of each sentiment,we now have much more clarity about the data\\n\\nWe shall now proceed to create word clouds, but we shall make word cloud of all words and not just existing words since unique words are very less in number for many sentiments (10,7,9 etc.) , so an effective word cloud can be only made by considering all the words in different sentiment tweets\\n'"
            ]
          },
          "metadata": {
            "tags": []
          },
          "execution_count": 90
        }
      ]
    },
    {
      "cell_type": "code",
      "metadata": {
        "id": "QcLaBXrRvdwd",
        "colab_type": "code",
        "colab": {}
      },
      "source": [
        "# 10: WordClouds\n",
        "# We will be building three types of Wordclouds:\n",
        "# ->Positive Tweets, Negative Tweets or Neutral Tweets"
      ],
      "execution_count": 91,
      "outputs": []
    },
    {
      "cell_type": "code",
      "metadata": {
        "id": "vnVX9VfTv2oK",
        "colab_type": "code",
        "colab": {}
      },
      "source": [
        "# Function to plot a wordcloud\n",
        "def plot_wordcloud(text, mask=None, max_words=200, max_font_size=100, figure_size=(24.0,16.0),color='white',title=None,title_size=40,image_color=False):\n",
        "  wordcloud = WordCloud(background_color=color,\n",
        "                        max_words=max_words,\n",
        "                        max_font_size=max_font_size,\n",
        "                        random_state=42,\n",
        "                        width=400,\n",
        "                        height=200,\n",
        "                        mask=mask)\n",
        "  wordcloud.generate(str(text))\n",
        "\n",
        "  plt.figure(figsize=figure_size)\n",
        "  if image_color:\n",
        "    image_colors = ImageColorGenerator(mask)\n",
        "    plt.imshow(wordcloud.recolor(color_func=image_colors),interpolation='bilinear')\n",
        "    plt.title(title, fontdict={'size': title_size, 'verticalalignment': 'bottom'})\n",
        "  else:\n",
        "    plt.imshow(wordcloud)\n",
        "    plt.title(title, fontdict={'size':title_size, 'color':'black','verticalalignment':'bottom'})\n",
        "    plt.axis('off')\n",
        "    plt.tight_layout()\n",
        "  # d = '/kaggle/input/trump-tweets/'"
      ],
      "execution_count": 92,
      "outputs": []
    },
    {
      "cell_type": "code",
      "metadata": {
        "id": "gsVFpNuZyNjZ",
        "colab_type": "code",
        "colab": {}
      },
      "source": [
        "# 10.1 : WordCloud for neutral sentiment"
      ],
      "execution_count": 93,
      "outputs": []
    },
    {
      "cell_type": "code",
      "metadata": {
        "id": "Iaf0Z0MpyTsb",
        "colab_type": "code",
        "colab": {
          "base_uri": "https://localhost:8080/",
          "height": 424
        },
        "outputId": "b5b402ff-b4f7-41c5-e3b0-709d3d02b969"
      },
      "source": [
        "Neutral_sent"
      ],
      "execution_count": 94,
      "outputs": [
        {
          "output_type": "execute_result",
          "data": {
            "text/html": [
              "<div>\n",
              "<style scoped>\n",
              "    .dataframe tbody tr th:only-of-type {\n",
              "        vertical-align: middle;\n",
              "    }\n",
              "\n",
              "    .dataframe tbody tr th {\n",
              "        vertical-align: top;\n",
              "    }\n",
              "\n",
              "    .dataframe thead th {\n",
              "        text-align: right;\n",
              "    }\n",
              "</style>\n",
              "<table border=\"1\" class=\"dataframe\">\n",
              "  <thead>\n",
              "    <tr style=\"text-align: right;\">\n",
              "      <th></th>\n",
              "      <th>id</th>\n",
              "      <th>content</th>\n",
              "      <th>date</th>\n",
              "      <th>retweets</th>\n",
              "      <th>favorites</th>\n",
              "      <th>sentiment</th>\n",
              "    </tr>\n",
              "  </thead>\n",
              "  <tbody>\n",
              "    <tr>\n",
              "      <th>4</th>\n",
              "      <td>1773561338</td>\n",
              "      <td>[person, nev, wallflow, rath, build, wal, clin...</td>\n",
              "      <td>2009-05-12 16:07:28</td>\n",
              "      <td>1399</td>\n",
              "      <td>1965</td>\n",
              "      <td>neutral</td>\n",
              "    </tr>\n",
              "    <tr>\n",
              "      <th>5</th>\n",
              "      <td>1776419923</td>\n",
              "      <td>[miss, tar, con, fir, alway, believ, second, c...</td>\n",
              "      <td>2009-05-12 21:21:55</td>\n",
              "      <td>27</td>\n",
              "      <td>26</td>\n",
              "      <td>neutral</td>\n",
              "    </tr>\n",
              "    <tr>\n",
              "      <th>7</th>\n",
              "      <td>1796477499</td>\n",
              "      <td>[strive, whol, keep, sen, wond, intact, donald...</td>\n",
              "      <td>2009-05-14 18:30:40</td>\n",
              "      <td>18</td>\n",
              "      <td>25</td>\n",
              "      <td>neutral</td>\n",
              "    </tr>\n",
              "    <tr>\n",
              "      <th>8</th>\n",
              "      <td>1806258917</td>\n",
              "      <td>[ent, think, lik, champ, sign, book, keychain,...</td>\n",
              "      <td>2009-05-15 16:13:13</td>\n",
              "      <td>14</td>\n",
              "      <td>8</td>\n",
              "      <td>neutral</td>\n",
              "    </tr>\n",
              "    <tr>\n",
              "      <th>9</th>\n",
              "      <td>1820624395</td>\n",
              "      <td>[achiev, achiev, plateau, begin, donald, j, tr...</td>\n",
              "      <td>2009-05-17 00:22:45</td>\n",
              "      <td>20</td>\n",
              "      <td>48</td>\n",
              "      <td>neutral</td>\n",
              "    </tr>\n",
              "    <tr>\n",
              "      <th>...</th>\n",
              "      <td>...</td>\n",
              "      <td>...</td>\n",
              "      <td>...</td>\n",
              "      <td>...</td>\n",
              "      <td>...</td>\n",
              "      <td>...</td>\n",
              "    </tr>\n",
              "    <tr>\n",
              "      <th>41104</th>\n",
              "      <td>1218520880051105792</td>\n",
              "      <td>[gre, day, whit, hous, nat, champ, lsu, tig, t...</td>\n",
              "      <td>2020-01-18 14:09:51</td>\n",
              "      <td>18014</td>\n",
              "      <td>99669</td>\n",
              "      <td>neutral</td>\n",
              "    </tr>\n",
              "    <tr>\n",
              "      <th>41108</th>\n",
              "      <td>1218668469597675520</td>\n",
              "      <td>[approv, rat, republ, party, record, thank]</td>\n",
              "      <td>2020-01-18 23:56:19</td>\n",
              "      <td>22241</td>\n",
              "      <td>133899</td>\n",
              "      <td>neutral</td>\n",
              "    </tr>\n",
              "    <tr>\n",
              "      <th>41110</th>\n",
              "      <td>1218673508911403008</td>\n",
              "      <td>[anoth, fak, book, two, third, rat, washington...</td>\n",
              "      <td>2020-01-19 00:16:21</td>\n",
              "      <td>22674</td>\n",
              "      <td>112349</td>\n",
              "      <td>neutral</td>\n",
              "    </tr>\n",
              "    <tr>\n",
              "      <th>41115</th>\n",
              "      <td>1218752661471793153</td>\n",
              "      <td>[twit]</td>\n",
              "      <td>2020-01-19 05:30:52</td>\n",
              "      <td>20302</td>\n",
              "      <td>66943</td>\n",
              "      <td>neutral</td>\n",
              "    </tr>\n",
              "    <tr>\n",
              "      <th>41121</th>\n",
              "      <td>1219076533354037249</td>\n",
              "      <td>[gre, show, check, tonight, foxnewshttp, twit,...</td>\n",
              "      <td>2020-01-20 02:57:49</td>\n",
              "      <td>7947</td>\n",
              "      <td>34902</td>\n",
              "      <td>neutral</td>\n",
              "    </tr>\n",
              "  </tbody>\n",
              "</table>\n",
              "<p>19297 rows × 6 columns</p>\n",
              "</div>"
            ],
            "text/plain": [
              "                        id  ... sentiment\n",
              "4               1773561338  ...   neutral\n",
              "5               1776419923  ...   neutral\n",
              "7               1796477499  ...   neutral\n",
              "8               1806258917  ...   neutral\n",
              "9               1820624395  ...   neutral\n",
              "...                    ...  ...       ...\n",
              "41104  1218520880051105792  ...   neutral\n",
              "41108  1218668469597675520  ...   neutral\n",
              "41110  1218673508911403008  ...   neutral\n",
              "41115  1218752661471793153  ...   neutral\n",
              "41121  1219076533354037249  ...   neutral\n",
              "\n",
              "[19297 rows x 6 columns]"
            ]
          },
          "metadata": {
            "tags": []
          },
          "execution_count": 94
        }
      ]
    },
    {
      "cell_type": "code",
      "metadata": {
        "id": "_io3llfmyU4o",
        "colab_type": "code",
        "colab": {
          "base_uri": "https://localhost:8080/",
          "height": 667
        },
        "outputId": "3b70c2d1-0ba4-41bc-a811-e25964aaa3ed"
      },
      "source": [
        "plot_wordcloud(Neutral_sent.content,color='white',max_font_size=100,title_size=30,title=\"WordCloud of Neutral Tweets\")"
      ],
      "execution_count": 95,
      "outputs": [
        {
          "output_type": "display_data",
          "data": {
            "image/png": "[encoded data removed]",
            "text/plain": [
              "<Figure size 1728x1152 with 1 Axes>"
            ]
          },
          "metadata": {
            "tags": [],
            "needs_background": "light"
          }
        }
      ]
    },
    {
      "cell_type": "code",
      "metadata": {
        "id": "dtZyNdSpzOor",
        "colab_type": "code",
        "colab": {}
      },
      "source": [
        "# 10.2: WordCloud for positive sentiment "
      ],
      "execution_count": 96,
      "outputs": []
    },
    {
      "cell_type": "code",
      "metadata": {
        "id": "tjR0VsGiz4-e",
        "colab_type": "code",
        "colab": {
          "base_uri": "https://localhost:8080/",
          "height": 667
        },
        "outputId": "c4f092ee-b02e-4695-c83d-5e0f773492ad"
      },
      "source": [
        "plot_wordcloud(Positive_sent.content,title=\"Word Cloud Of Positive tweets\",title_size=30)"
      ],
      "execution_count": 100,
      "outputs": [
        {
          "output_type": "display_data",
          "data": {
            "image/png": "[encoded data removed]",
            "text/plain": [
              "<Figure size 1728x1152 with 1 Axes>"
            ]
          },
          "metadata": {
            "tags": [],
            "needs_background": "light"
          }
        }
      ]
    },
    {
      "cell_type": "code",
      "metadata": {
        "id": "O4ynrxNMz6nJ",
        "colab_type": "code",
        "colab": {
          "base_uri": "https://localhost:8080/",
          "height": 667
        },
        "outputId": "bcd1acdd-e3d9-4fb2-b9d0-41929b9c6198"
      },
      "source": [
        "plot_wordcloud(Negative_sent.content,title=\"Word Cloud Of Positive tweets\",title_size=30)"
      ],
      "execution_count": 99,
      "outputs": [
        {
          "output_type": "display_data",
          "data": {
            "image/png": "[encoded data removed]",
            "text/plain": [
              "<Figure size 1728x1152 with 1 Axes>"
            ]
          },
          "metadata": {
            "tags": [],
            "needs_background": "light"
          }
        }
      ]
    },
    {
      "cell_type": "code",
      "metadata": {
        "id": "xMUr6rik2dBE",
        "colab_type": "code",
        "colab": {}
      },
      "source": [
        ""
      ],
      "execution_count": null,
      "outputs": []
    }
  ]
}